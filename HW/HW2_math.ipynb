{
 "cells": [
  {
   "cell_type": "markdown",
   "metadata": {},
   "source": [
    "# Gene expression model\n",
    "\n",
    "This assignment borrows from [Justin Bois](http://be150.caltech.edu/2017/handouts/gillespie_simulation.html)'s handouts.\n",
    "\n",
    "For simple protein production, we have the following reactions:\n",
    "\n",
    "\\begin{align}\n",
    "\\text{DNA} \\rightarrow \\text{mRNA} \\rightarrow \\text{protein}\n",
    "\\end{align}\n",
    "\n",
    "<p align=\"center\">\n",
    "  <img src=\"https://upload.wikimedia.org/wikipedia/commons/3/37/Genetic_code.svg\" />\n",
    "</p>\n",
    "\n",
    "A more quantitative description is:\n",
    "\n",
    "- DNA moelcules are constat in a cell\n",
    "- mRNA molecules are produced with rate $\\beta_m$ per second from DNA molecules\n",
    "- mRNA molecules degrade at a rate $\\gamma_m$ per second\n",
    "- Protein molecules are produced at a rate $\\beta_p$ per second from mRNA molecules\n",
    "- Protein molecules degrade at a rate $\\gamma_p$ per second"
   ]
  },
  {
   "cell_type": "markdown",
   "metadata": {},
   "source": [
    "# Deterministic model\n",
    "The _deterministic_ equations, which describe the dynamics over a very large number of independent of replicate dynamics (ie cells), is \n",
    "\n",
    "$$\n",
    "\\frac{dm}{dt} = \\beta_m - \\gamma_m m, \\\\\n",
    "\\frac{dp}{dt} = \\beta_p m - \\gamma_p p.\n",
    "$$\n",
    "\n",
    "Note that these dynamics are linear in $m$ and $p$, and are therefore much simpler than the predator-prey dynamics of the [Lotka-Volterra equations](lotka-volterra.ipynb)."
   ]
  },
  {
   "cell_type": "markdown",
   "metadata": {},
   "source": [
    "## Assignment"
   ]
  },
  {
   "cell_type": "markdown",
   "metadata": {},
   "source": [
    "1. Find the steady state of this model using the `SymPy` package (symbolically)."
   ]
  },
  {
   "cell_type": "code",
   "execution_count": null,
   "metadata": {},
   "outputs": [],
   "source": []
  },
  {
   "cell_type": "markdown",
   "metadata": {},
   "source": [
    "From now on, assume $\\beta_m=1.5$, $\\gamma_m=0.5$, $\\beta_p=2$, $\\gamma_p=3$.\n",
    "\n",
    "2. Test if this value is a steady state indeed."
   ]
  },
  {
   "cell_type": "code",
   "execution_count": null,
   "metadata": {},
   "outputs": [],
   "source": []
  },
  {
   "cell_type": "markdown",
   "metadata": {},
   "source": [
    "3. Plot using `matplotlib` the amount of protein and mRNA over 20 seconds, with starting values of $m=0$, and $p=0$."
   ]
  },
  {
   "cell_type": "code",
   "execution_count": null,
   "metadata": {},
   "outputs": [],
   "source": []
  },
  {
   "cell_type": "markdown",
   "metadata": {},
   "source": [
    "4. Print the amount of protein after 1 seconds. with starting values of $m=10$, and $p=100$."
   ]
  },
  {
   "cell_type": "code",
   "execution_count": null,
   "metadata": {},
   "outputs": [],
   "source": []
  },
  {
   "cell_type": "markdown",
   "metadata": {},
   "source": [
    "### Bonus\n",
    "5. Create a `quiver` plot with `dm` on the Y-axis, and `dp` on the X-axis. DNA should be between (0,10), Proteins should be between(0,10).\n",
    "\n",
    "https://matplotlib.org/stable/api/_as_gen/matplotlib.axes.Axes.quiver.html#matplotlib.axes.Axes.quiver\n",
    "https://matplotlib.org/stable/plot_types/arrays/quiver.html#sphx-glr-plot-types-arrays-quiver-py\n"
   ]
  },
  {
   "cell_type": "code",
   "execution_count": null,
   "metadata": {},
   "outputs": [],
   "source": []
  }
 ],
 "metadata": {
  "kernelspec": {
   "display_name": "pyCourse",
   "language": "python",
   "name": "python3"
  },
  "language_info": {
   "codemirror_mode": {
    "name": "ipython",
    "version": 3
   },
   "file_extension": ".py",
   "mimetype": "text/x-python",
   "name": "python",
   "nbconvert_exporter": "python",
   "pygments_lexer": "ipython3",
   "version": "3.10.12"
  }
 },
 "nbformat": 4,
 "nbformat_minor": 2
}
