{
 "cells": [
  {
   "cell_type": "markdown",
   "metadata": {},
   "source": [
    "# Performance computing in python"
   ]
  },
  {
   "cell_type": "markdown",
   "metadata": {},
   "source": [
    "## Some background - CPython\n",
    "\n",
    "CPython is the reference implementation of the Python programming language.\n",
    "\n",
    "### Key Points\n",
    "\n",
    "1. **Written in the `C` programming language**: Hence the name \"CPython\"\n",
    "2. **Most widely used**: It's the standard Python implementation\n",
    "3. **Compiler and Interpreter**: \n",
    "   - Compiles Python code to bytecode\n",
    "   - Interprets the bytecode\n",
    "4. **Comprehensive**: Includes the Python standard library and core language features\n",
    "5. **Open-source**: Serves as a blueprint for other Python implementations\n",
    "\n",
    "CPython is the foundation upon which most Python development is built."
   ]
  },
  {
   "cell_type": "markdown",
   "metadata": {},
   "source": [
    "### CPython: Pros and Cons\n",
    "\n",
    "#### Pros\n",
    "\n",
    "1. Large ecosystem\n",
    "   - Most Python libraries and frameworks are built for CPython\n",
    "1. Stability and reliability\n",
    "   - Well-tested and mature\n",
    "1. Regular updates\n",
    "   - Frequent bug fixes and performance improvements\n",
    "1. C extensions support\n",
    "   - Allows for performance-critical parts to be written in C\n",
    "1. Memory management\n",
    "   - Built-in garbage collection\n",
    "\n",
    "#### Cons\n",
    "\n",
    "1. Global Interpreter Lock (GIL)\n",
    "   - Limits true multi-threading for CPU-bound tasks\n",
    "1. **Performance**\n",
    "   - Generally slower than compiled languages for certain tasks\n",
    "1. Memory usage\n",
    "   - Can be higher compared to some other implementations\n",
    "1. Startup time\n",
    "   - Can be slow, especially for small scripts\n",
    "1. Platform dependence\n",
    "   - Binaries are not cross-platform"
   ]
  },
  {
   "cell_type": "markdown",
   "metadata": {
    "vscode": {
     "languageId": "plaintext"
    }
   },
   "source": [
    "So, if we want CPython but faster, what can we do?"
   ]
  },
  {
   "cell_type": "markdown",
   "metadata": {},
   "source": [
    "## Cython\n",
    "\n",
    "[Cython](http://docs.cython.org/src/userguide/numpy_tutorial.html#cython-at-a-glance) is a compiler that converts Python-like code to C code, but it's not a direct Python-to-C translator. Instead, it:\n",
    "\n",
    "- Compiles to native machine code while still using the Python runtime environment\n",
    "- Adds syntax for embedding faster C-like code\n",
    "\n",
    "### Key Consequences\n",
    "\n",
    "1. **Speed Improvements**\n",
    "   - Minimal for typical numerical programs\n",
    "   - Significant for for-loop-style programs with added type information\n",
    "\n",
    "2. **Easier C Integration**\n",
    "   - Simplifies wrapping C libraries\n",
    "   - Allows calling C code as easily as Python code\n",
    "\n",
    "### Limitations\n",
    "\n",
    "- Not all Python constructs are supported (e.g., inner functions, generator functions)\n",
    "- Goal is to eventually support all Python code"
   ]
  },
  {
   "cell_type": "markdown",
   "metadata": {},
   "source": [
    "## Hello world!\n",
    "\n",
    "Let's start with a simple *Hello World!* to check that everything is working.\n",
    "\n",
    "We load the `Cython` magic that will allow us to quickly use Cython inside the notebook. The magic is installed with the `cython` package (`conda install cython` or `pip install cython`). The Cython requires that a C compiler is installed and can be found, and on Windows that may be tricky, here are some resources:\n",
    "\n",
    "- [Install Cython on Windows](https://github.com/cython/cython/wiki/InstallingOnWindows)\n",
    "- [Install C compiler on Windows](https://github.com/cython/cython/wiki/CythonExtensionsOnWindows)\n",
    "- [Compiling Python extensions on Windows](https://blog.ionelmc.ro/2014/12/21/compiling-python-extensions-on-windows/)\n",
    "\n",
    "On Linux/OSX you probably already have a compiler, check with `!gcc --version`. If `gcc` is not found, install it:\n",
    "\n",
    "- On [Ubuntu](https://help.ubuntu.com/community/InstallingCompilers) you should run `sudo apt-get install build-essential`.\n",
    "- On CentOS you just need to install development tools: `sudo yum group install \"Development Tools\"`."
   ]
  },
  {
   "cell_type": "code",
   "execution_count": 1,
   "metadata": {},
   "outputs": [
    {
     "name": "stdout",
     "output_type": "stream",
     "text": [
      "Cython 3.0.10\n"
     ]
    }
   ],
   "source": [
    "%matplotlib inline\n",
    "import matplotlib.pyplot as plt\n",
    "import numpy as np\n",
    "import sys, os\n",
    "\n",
    "import Cython\n",
    "print(\"Cython\", Cython.__version__)\n",
    "\n",
    "%load_ext Cython"
   ]
  },
  {
   "cell_type": "code",
   "execution_count": 2,
   "metadata": {},
   "outputs": [
    {
     "name": "stdout",
     "output_type": "stream",
     "text": [
      "Hello World!\n"
     ]
    }
   ],
   "source": [
    "%%cython \n",
    "print(\"Hello World!\")"
   ]
  },
  {
   "cell_type": "markdown",
   "metadata": {},
   "source": [
    "## First Cython example\n",
    "\n",
    "Let's see a quick example of what Cython can do for us. \n",
    "\n",
    "Consider the following Python [function that returns the first k prime numbers](http://docs.cython.org/en/latest/src/tutorial/cython_tutorial.html) (but not more than 1000):"
   ]
  },
  {
   "cell_type": "code",
   "execution_count": 3,
   "metadata": {},
   "outputs": [],
   "source": [
    "def find_k_primes(k):\n",
    "    primes = [None] * 1000 # pre-allocate so not to use append\n",
    "    n_primes = 0  # the current number of numbers in primes\n",
    "    candidate = 2\n",
    "    while n_primes < min(k, 1000):\n",
    "        # is candidate prime?\n",
    "        for p in primes[:n_primes]:\n",
    "            if candidate % p == 0:\n",
    "                break # not a prime        \n",
    "        else: # if no break occurred in the loop, we have a prime\n",
    "            primes[n_primes] = candidate\n",
    "            n_primes += 1\n",
    "        candidate += 1\n",
    "\n",
    "    return primes[:n_primes]"
   ]
  },
  {
   "cell_type": "code",
   "execution_count": 4,
   "metadata": {},
   "outputs": [],
   "source": [
    "assert find_k_primes(10) == [2, 3, 5, 7, 11, 13, 17, 19, 23, 29]"
   ]
  },
  {
   "cell_type": "markdown",
   "metadata": {},
   "source": [
    "Here is the Cython version of this function; the only addition here is that we use `cdef` to define the types of all local variabes. This `cdef` statement is used to define **local C variables**. We also add `int` in the arguments list to define the type of `k`; this means that any object passed will be **converted to a C integer**."
   ]
  },
  {
   "cell_type": "code",
   "execution_count": 5,
   "metadata": {},
   "outputs": [],
   "source": [
    "%%cython\n",
    "def cfind_k_primes(int k):\n",
    "    cdef int n_primes, candidate, p\n",
    "    cdef int[1000] primes\n",
    "    n_primes = 0  # the current number of elements in primes\n",
    "    candidate = 2\n",
    "    while n_primes < min(k, 1000):\n",
    "        # is candidate prime?\n",
    "        for p in primes[:n_primes]:\n",
    "            if candidate % p == 0:\n",
    "                break # not a prime        \n",
    "        else: # if no break occurred in the loop, we have a prime\n",
    "            primes[n_primes] = candidate\n",
    "            n_primes += 1\n",
    "        candidate += 1\n",
    "\n",
    "    # convert primes from a cython type to a python list\n",
    "    return [p for p in primes[:n_primes]] "
   ]
  },
  {
   "cell_type": "code",
   "execution_count": 6,
   "metadata": {},
   "outputs": [
    {
     "data": {
      "text/plain": [
       "True"
      ]
     },
     "execution_count": 6,
     "metadata": {},
     "output_type": "execute_result"
    }
   ],
   "source": [
    "find_k_primes(100) == cfind_k_primes(100)"
   ]
  },
  {
   "cell_type": "code",
   "execution_count": 19,
   "metadata": {},
   "outputs": [
    {
     "name": "stdout",
     "output_type": "stream",
     "text": [
      "30.8 ms ± 1.04 ms per loop (mean ± std. dev. of 7 runs, 10 loops each)\n",
      "1.44 ms ± 6.39 µs per loop (mean ± std. dev. of 7 runs, 1,000 loops each)\n"
     ]
    }
   ],
   "source": [
    "n = 1000\n",
    "%timeit find_k_primes(n)\n",
    "%timeit cfind_k_primes(n)"
   ]
  },
  {
   "cell_type": "markdown",
   "metadata": {},
   "source": [
    "Note that in the inner loop, only variables with type definitions, and thus C objects, are reffered to; therefore, the loop is translated to a C loop, and runs very fast."
   ]
  },
  {
   "cell_type": "markdown",
   "metadata": {},
   "source": [
    "### Example - integration\n",
    "\n",
    "This is from Robert Bradshaw [SciPy 2008 slides](http://wiki.sagemath.org/scipy08?action=AttachFile&do=get&target=scipy-cython.tgz).\n",
    "\n",
    "We will write a simple integration code to integrate $f(x) = x^3 - 3x$:"
   ]
  },
  {
   "cell_type": "code",
   "execution_count": 20,
   "metadata": {},
   "outputs": [
    {
     "data": {
      "text/plain": [
       "-1.249989999975006"
      ]
     },
     "execution_count": 20,
     "metadata": {},
     "output_type": "execute_result"
    }
   ],
   "source": [
    "def f(x):\n",
    "    return x**3 - 3 * x\n",
    "\n",
    "def integrate_f(a , b , N):\n",
    "    s = 0\n",
    "    dx = (b - a )/ N\n",
    "    for i in range(N):\n",
    "        s += f(a + i * dx)\n",
    "    return s * dx\n",
    "\n",
    "integrate_f(0, 1, 100000)"
   ]
  },
  {
   "cell_type": "code",
   "execution_count": 21,
   "metadata": {},
   "outputs": [
    {
     "name": "stdout",
     "output_type": "stream",
     "text": [
      "21.6 ms ± 1.48 ms per loop (mean ± std. dev. of 7 runs, 10 loops each)\n"
     ]
    }
   ],
   "source": [
    "%timeit integrate_f(0, 1, 100000)"
   ]
  },
  {
   "cell_type": "markdown",
   "metadata": {},
   "source": [
    "Now, the same with Cython. Note that when we define a function with `cdef` we can set a return value but we can only c\n",
    "all it from within Cython. When we define a function with `def` we can import it and call it from Python.\n",
    "\n",
    "Note that we change `x**3` to `x * x * x`."
   ]
  },
  {
   "cell_type": "code",
   "execution_count": 22,
   "metadata": {},
   "outputs": [],
   "source": [
    "%%cython\n",
    "cdef double g(double x):\n",
    "    return x * x * x - 3* x\n",
    "\n",
    "def integrate_g(double a , double  b , int N):\n",
    "    cdef double s = 0\n",
    "    cdef double dx = (b - a )/ N\n",
    "    cdef int i\n",
    "    for i in range(N):\n",
    "        s += g( a + i * dx )\n",
    "    return s * dx"
   ]
  },
  {
   "cell_type": "code",
   "execution_count": 23,
   "metadata": {},
   "outputs": [
    {
     "data": {
      "text/plain": [
       "-1.249989999975006"
      ]
     },
     "execution_count": 23,
     "metadata": {},
     "output_type": "execute_result"
    }
   ],
   "source": [
    "integrate_g(0, 1, 100000)"
   ]
  },
  {
   "cell_type": "code",
   "execution_count": 24,
   "metadata": {},
   "outputs": [
    {
     "name": "stdout",
     "output_type": "stream",
     "text": [
      "147 µs ± 1.54 µs per loop (mean ± std. dev. of 7 runs, 10,000 loops each)\n"
     ]
    }
   ],
   "source": [
    "%timeit integrate_g(0, 1, 100000)"
   ]
  },
  {
   "cell_type": "markdown",
   "metadata": {},
   "source": [
    "Now let's integrate \n",
    "$$\n",
    "\\int_a^b{\\frac{\\sin{x}}{x}}\n",
    "$$\n",
    "\n",
    "Without Cython, we should use either `math.sin` or `numpy.sin`:"
   ]
  },
  {
   "cell_type": "code",
   "execution_count": 25,
   "metadata": {},
   "outputs": [
    {
     "data": {
      "text/plain": [
       "0.6593318405457452"
      ]
     },
     "execution_count": 25,
     "metadata": {},
     "output_type": "execute_result"
    }
   ],
   "source": [
    "def f(x):\n",
    "    return np.sin(x) / x\n",
    "\n",
    "integrate_f(1, 2, 100000)"
   ]
  },
  {
   "cell_type": "markdown",
   "metadata": {},
   "source": [
    "With Cython, we can import some C functions using an `extern` block:"
   ]
  },
  {
   "cell_type": "code",
   "execution_count": 26,
   "metadata": {},
   "outputs": [],
   "source": [
    "%%cython\n",
    "cdef extern from \"math.h\":\n",
    "    double sin(double)\n",
    "    double cos(double)\n",
    "\n",
    "cdef double g(double x):\n",
    "    return sin(x)/x\n",
    "\n",
    "def integrate_g(double a , double  b , int N):\n",
    "    cdef double s = 0\n",
    "    cdef double dx = (b - a) /  N\n",
    "    cdef int i\n",
    "    for i in range(N):\n",
    "        s += g(a + i * dx)\n",
    "    return s * dx"
   ]
  },
  {
   "cell_type": "code",
   "execution_count": null,
   "metadata": {},
   "outputs": [],
   "source": [
    "integrate_g(1, 2, 100000)"
   ]
  },
  {
   "cell_type": "code",
   "execution_count": 27,
   "metadata": {},
   "outputs": [
    {
     "name": "stdout",
     "output_type": "stream",
     "text": [
      "88.4 ms ± 1.89 ms per loop (mean ± std. dev. of 7 runs, 10 loops each)\n",
      "1.01 ms ± 53.9 µs per loop (mean ± std. dev. of 7 runs, 1,000 loops each)\n"
     ]
    }
   ],
   "source": [
    "%timeit integrate_f(1, 3, 100000)\n",
    "%timeit integrate_g(1, 3, 100000)"
   ]
  },
  {
   "cell_type": "markdown",
   "metadata": {},
   "source": [
    "## Cython + NumPy\n",
    "\n",
    "Cython works well with NumPy.\n",
    "\n",
    "Let's loop over a NumPy array:"
   ]
  },
  {
   "cell_type": "code",
   "execution_count": 28,
   "metadata": {},
   "outputs": [],
   "source": [
    "def summ(x):\n",
    "    s = 0\n",
    "    for i in range(x.shape[0]):\n",
    "        s += x[i]\n",
    "    return s"
   ]
  },
  {
   "cell_type": "code",
   "execution_count": 30,
   "metadata": {},
   "outputs": [
    {
     "name": "stdout",
     "output_type": "stream",
     "text": [
      "Content of stderr:\n",
      "In file included from /home/pupkolab/envs/pyCourse/lib/python3.10/site-packages/numpy/core/include/numpy/ndarraytypes.h:1929,\n",
      "                 from /home/pupkolab/envs/pyCourse/lib/python3.10/site-packages/numpy/core/include/numpy/ndarrayobject.h:12,\n",
      "                 from /home/pupkolab/envs/pyCourse/lib/python3.10/site-packages/numpy/core/include/numpy/arrayobject.h:5,\n",
      "                 from /home/pupkolab/.cache/ipython/cython/_cython_magic_227319ed79e184aab9d0452b7ee36871b2a2d123.c:1250:\n",
      "/home/pupkolab/envs/pyCourse/lib/python3.10/site-packages/numpy/core/include/numpy/npy_1_7_deprecated_api.h:17:2: warning: #warning \"Using deprecated NumPy API, disable it with \" \"#define NPY_NO_DEPRECATED_API NPY_1_7_API_VERSION\" [-Wcpp]\n",
      "   17 | #warning \"Using deprecated NumPy API, disable it with \" \\\n",
      "      |  ^~~~~~~"
     ]
    }
   ],
   "source": [
    "%%cython\n",
    "cimport numpy as np\n",
    "\n",
    "def csumm(long[:] x): # input type is a buffer\n",
    "    cdef int i = 0\n",
    "    cdef long s = 0\n",
    "    cdef Py_ssize_t size = x.shape[0]\n",
    "    for i in range(size):\n",
    "        s += x[i]\n",
    "    return s"
   ]
  },
  {
   "cell_type": "code",
   "execution_count": 31,
   "metadata": {},
   "outputs": [
    {
     "data": {
      "text/plain": [
       "(402159, 402159)"
      ]
     },
     "execution_count": 31,
     "metadata": {},
     "output_type": "execute_result"
    }
   ],
   "source": [
    "x = np.random.randint(0, 9, 100000)\n",
    "summ(x), csumm(x)"
   ]
  },
  {
   "cell_type": "code",
   "execution_count": 32,
   "metadata": {},
   "outputs": [
    {
     "name": "stdout",
     "output_type": "stream",
     "text": [
      "10.9 ms ± 256 µs per loop (mean ± std. dev. of 7 runs, 100 loops each)\n",
      "59.6 µs ± 1.96 µs per loop (mean ± std. dev. of 7 runs, 10,000 loops each)\n"
     ]
    }
   ],
   "source": [
    "%timeit summ(x)\n",
    "%timeit csumm(x)"
   ]
  },
  {
   "cell_type": "markdown",
   "metadata": {},
   "source": [
    "Note that if you would type `s` and `arr` as made of `int` you would get an error because Python's `int` is a C `long`... But you would get a `ValueError`, not a segmentation fault or anything like that. Here's an example:"
   ]
  },
  {
   "cell_type": "code",
   "execution_count": 33,
   "metadata": {},
   "outputs": [
    {
     "ename": "ValueError",
     "evalue": "Buffer dtype mismatch, expected 'long' but got 'double'",
     "output_type": "error",
     "traceback": [
      "\u001b[0;31m---------------------------------------------------------------------------\u001b[0m",
      "\u001b[0;31mValueError\u001b[0m                                Traceback (most recent call last)",
      "Cell \u001b[0;32mIn[33], line 2\u001b[0m\n\u001b[1;32m      1\u001b[0m y \u001b[38;5;241m=\u001b[39m np\u001b[38;5;241m.\u001b[39marray([\u001b[38;5;241m0.1\u001b[39m, \u001b[38;5;241m0.2\u001b[39m, \u001b[38;5;241m0.3\u001b[39m])\n\u001b[0;32m----> 2\u001b[0m \u001b[43mcsumm\u001b[49m\u001b[43m(\u001b[49m\u001b[43my\u001b[49m\u001b[43m)\u001b[49m\n",
      "File \u001b[0;32m_cython_magic_227319ed79e184aab9d0452b7ee36871b2a2d123.pyx:3\u001b[0m, in \u001b[0;36m_cython_magic_227319ed79e184aab9d0452b7ee36871b2a2d123.csumm\u001b[0;34m()\u001b[0m\n",
      "\u001b[0;31mValueError\u001b[0m: Buffer dtype mismatch, expected 'long' but got 'double'"
     ]
    }
   ],
   "source": [
    "y = np.array([0.1, 0.2, 0.3])\n",
    "csumm(y)"
   ]
  },
  {
   "cell_type": "markdown",
   "metadata": {},
   "source": [
    "### Example - Mandelbrot fractal"
   ]
  },
  {
   "cell_type": "code",
   "execution_count": 34,
   "metadata": {},
   "outputs": [],
   "source": [
    "import numpy as np\n",
    "\n",
    "def mandelbrot(m, size, iterations):    \n",
    "    for i in range(size):\n",
    "        for j in range(size):\n",
    "            c = -2 + 3.0 / size * j + 1j * (1.5 - 3.0 / size * i)\n",
    "            z = 0\n",
    "            for n in range(iterations):\n",
    "                if np.abs(z) <= 10:\n",
    "                    z = z * z + c\n",
    "                    m[i, j] = n\n",
    "                else:\n",
    "                    break"
   ]
  },
  {
   "cell_type": "code",
   "execution_count": 71,
   "metadata": {},
   "outputs": [],
   "source": [
    "%%cython\n",
    "def cmandelbrot(long[:,:] m,\n",
    "                int size,\n",
    "                int iterations):\n",
    "    cdef int i, j, n\n",
    "    cdef complex z, c\n",
    "    for i in range(size):\n",
    "        for j in range(size):\n",
    "            c = -2 + 3.0 / size * j + 1j * (1.5 - 3.0 / size * i)\n",
    "            z = 0\n",
    "            for n in range(iterations):\n",
    "                if z.real**2 + z.imag**2 <= 100: # note - no use of np.abs\n",
    "                    z = z * z + c\n",
    "                    m[i, j] = n\n",
    "                else:\n",
    "                    break"
   ]
  },
  {
   "cell_type": "code",
   "execution_count": 88,
   "metadata": {},
   "outputs": [],
   "source": [
    "size = 200\n",
    "iterations = 100\n",
    "m = np.zeros((size, size), dtype=np.int64)"
   ]
  },
  {
   "cell_type": "code",
   "execution_count": 52,
   "metadata": {},
   "outputs": [
    {
     "name": "stdout",
     "output_type": "stream",
     "text": [
      "929 ms ± 28.5 ms per loop (mean ± std. dev. of 7 runs, 1 loop each)\n"
     ]
    },
    {
     "ename": "ValueError",
     "evalue": "Buffer dtype mismatch, expected 'int' but got 'long'",
     "output_type": "error",
     "traceback": [
      "\u001b[0;31m---------------------------------------------------------------------------\u001b[0m",
      "\u001b[0;31mValueError\u001b[0m                                Traceback (most recent call last)",
      "Cell \u001b[0;32mIn[52], line 2\u001b[0m\n\u001b[1;32m      1\u001b[0m get_ipython()\u001b[38;5;241m.\u001b[39mrun_line_magic(\u001b[38;5;124m'\u001b[39m\u001b[38;5;124mtimeit\u001b[39m\u001b[38;5;124m'\u001b[39m, \u001b[38;5;124m'\u001b[39m\u001b[38;5;124mmandelbrot(m, size, iterations)\u001b[39m\u001b[38;5;124m'\u001b[39m)\n\u001b[0;32m----> 2\u001b[0m \u001b[43mget_ipython\u001b[49m\u001b[43m(\u001b[49m\u001b[43m)\u001b[49m\u001b[38;5;241;43m.\u001b[39;49m\u001b[43mrun_line_magic\u001b[49m\u001b[43m(\u001b[49m\u001b[38;5;124;43m'\u001b[39;49m\u001b[38;5;124;43mtimeit\u001b[39;49m\u001b[38;5;124;43m'\u001b[39;49m\u001b[43m,\u001b[49m\u001b[43m \u001b[49m\u001b[38;5;124;43m'\u001b[39;49m\u001b[38;5;124;43mcmandelbrot(m, size, iterations)\u001b[39;49m\u001b[38;5;124;43m'\u001b[39;49m\u001b[43m)\u001b[49m\n",
      "File \u001b[0;32m~/envs/pyCourse/lib/python3.10/site-packages/IPython/core/interactiveshell.py:2480\u001b[0m, in \u001b[0;36mInteractiveShell.run_line_magic\u001b[0;34m(self, magic_name, line, _stack_depth)\u001b[0m\n\u001b[1;32m   2478\u001b[0m     kwargs[\u001b[38;5;124m'\u001b[39m\u001b[38;5;124mlocal_ns\u001b[39m\u001b[38;5;124m'\u001b[39m] \u001b[38;5;241m=\u001b[39m \u001b[38;5;28mself\u001b[39m\u001b[38;5;241m.\u001b[39mget_local_scope(stack_depth)\n\u001b[1;32m   2479\u001b[0m \u001b[38;5;28;01mwith\u001b[39;00m \u001b[38;5;28mself\u001b[39m\u001b[38;5;241m.\u001b[39mbuiltin_trap:\n\u001b[0;32m-> 2480\u001b[0m     result \u001b[38;5;241m=\u001b[39m \u001b[43mfn\u001b[49m\u001b[43m(\u001b[49m\u001b[38;5;241;43m*\u001b[39;49m\u001b[43margs\u001b[49m\u001b[43m,\u001b[49m\u001b[43m \u001b[49m\u001b[38;5;241;43m*\u001b[39;49m\u001b[38;5;241;43m*\u001b[39;49m\u001b[43mkwargs\u001b[49m\u001b[43m)\u001b[49m\n\u001b[1;32m   2482\u001b[0m \u001b[38;5;66;03m# The code below prevents the output from being displayed\u001b[39;00m\n\u001b[1;32m   2483\u001b[0m \u001b[38;5;66;03m# when using magics with decorator @output_can_be_silenced\u001b[39;00m\n\u001b[1;32m   2484\u001b[0m \u001b[38;5;66;03m# when the last Python token in the expression is a ';'.\u001b[39;00m\n\u001b[1;32m   2485\u001b[0m \u001b[38;5;28;01mif\u001b[39;00m \u001b[38;5;28mgetattr\u001b[39m(fn, magic\u001b[38;5;241m.\u001b[39mMAGIC_OUTPUT_CAN_BE_SILENCED, \u001b[38;5;28;01mFalse\u001b[39;00m):\n",
      "File \u001b[0;32m~/envs/pyCourse/lib/python3.10/site-packages/IPython/core/magics/execution.py:1185\u001b[0m, in \u001b[0;36mExecutionMagics.timeit\u001b[0;34m(self, line, cell, local_ns)\u001b[0m\n\u001b[1;32m   1183\u001b[0m \u001b[38;5;28;01mfor\u001b[39;00m index \u001b[38;5;129;01min\u001b[39;00m \u001b[38;5;28mrange\u001b[39m(\u001b[38;5;241m0\u001b[39m, \u001b[38;5;241m10\u001b[39m):\n\u001b[1;32m   1184\u001b[0m     number \u001b[38;5;241m=\u001b[39m \u001b[38;5;241m10\u001b[39m \u001b[38;5;241m*\u001b[39m\u001b[38;5;241m*\u001b[39m index\n\u001b[0;32m-> 1185\u001b[0m     time_number \u001b[38;5;241m=\u001b[39m \u001b[43mtimer\u001b[49m\u001b[38;5;241;43m.\u001b[39;49m\u001b[43mtimeit\u001b[49m\u001b[43m(\u001b[49m\u001b[43mnumber\u001b[49m\u001b[43m)\u001b[49m\n\u001b[1;32m   1186\u001b[0m     \u001b[38;5;28;01mif\u001b[39;00m time_number \u001b[38;5;241m>\u001b[39m\u001b[38;5;241m=\u001b[39m \u001b[38;5;241m0.2\u001b[39m:\n\u001b[1;32m   1187\u001b[0m         \u001b[38;5;28;01mbreak\u001b[39;00m\n",
      "File \u001b[0;32m~/envs/pyCourse/lib/python3.10/site-packages/IPython/core/magics/execution.py:173\u001b[0m, in \u001b[0;36mTimer.timeit\u001b[0;34m(self, number)\u001b[0m\n\u001b[1;32m    171\u001b[0m gc\u001b[38;5;241m.\u001b[39mdisable()\n\u001b[1;32m    172\u001b[0m \u001b[38;5;28;01mtry\u001b[39;00m:\n\u001b[0;32m--> 173\u001b[0m     timing \u001b[38;5;241m=\u001b[39m \u001b[38;5;28;43mself\u001b[39;49m\u001b[38;5;241;43m.\u001b[39;49m\u001b[43minner\u001b[49m\u001b[43m(\u001b[49m\u001b[43mit\u001b[49m\u001b[43m,\u001b[49m\u001b[43m \u001b[49m\u001b[38;5;28;43mself\u001b[39;49m\u001b[38;5;241;43m.\u001b[39;49m\u001b[43mtimer\u001b[49m\u001b[43m)\u001b[49m\n\u001b[1;32m    174\u001b[0m \u001b[38;5;28;01mfinally\u001b[39;00m:\n\u001b[1;32m    175\u001b[0m     \u001b[38;5;28;01mif\u001b[39;00m gcold:\n",
      "File \u001b[0;32m<magic-timeit>:1\u001b[0m, in \u001b[0;36minner\u001b[0;34m(_it, _timer)\u001b[0m\n",
      "File \u001b[0;32m_cython_magic_b6d9cef28d15635b4e1c6144a00418b8c8ec0362.pyx:1\u001b[0m, in \u001b[0;36m_cython_magic_b6d9cef28d15635b4e1c6144a00418b8c8ec0362.cmandelbrot\u001b[0;34m()\u001b[0m\n",
      "\u001b[0;31mValueError\u001b[0m: Buffer dtype mismatch, expected 'int' but got 'long'"
     ]
    }
   ],
   "source": [
    "%timeit mandelbrot(m, size, iterations)\n",
    "%timeit cmandelbrot(m, size, iterations)"
   ]
  },
  {
   "cell_type": "code",
   "execution_count": 90,
   "metadata": {},
   "outputs": [
    {
     "data": {
      "image/png": "[encoded data removed]",
      "text/plain": [
       "<Figure size 3000x3000 with 1 Axes>"
      ]
     },
     "metadata": {},
     "output_type": "display_data"
    }
   ],
   "source": [
    "mandelbrot(m, size, iterations)\n",
    "plt.figure(figsize=(30, 30))\n",
    "plt.imshow(m, cmap='viridis')\n",
    "plt.xticks([])\n",
    "plt.yticks([]);"
   ]
  },
  {
   "cell_type": "markdown",
   "metadata": {},
   "source": [
    "## Numba\n",
    "\n",
    "[Numba](http://numba.pydata.org) is a just-in-time (JIT) compiler for Python, focusing on numerical and scientific computing.\n",
    "\n",
    "### Key Features\n",
    "\n",
    "1. **Performance**\n",
    "   - Compiles Python code to native machine instructions\n",
    "   - Achieves performance similar to C, C++, and Fortran\n",
    "\n",
    "2. **Ease of Use**\n",
    "   - Works with Python code directly\n",
    "   - Requires minimal annotations\n",
    "\n",
    "3. **JIT Compilation**\n",
    "   - Combines speed of compiled code with flexibility of interpretation\n",
    "   - Incurs some overhead for compilation\n",
    "   - More on [JIT compilation](https://en.wikipedia.org/wiki/Just-in-time_compilation)\n",
    "\n",
    "4. **Multithreading Support**\n",
    "   - Allows release of the Global Interpreter Lock (GIL)\n",
    "   - Enables true multithreading for CPU-bound tasks\n",
    "\n",
    "5. **Automatic Parallelization**\n",
    "   - Can parallelize code automatically in some cases\n",
    "\n",
    "Numba is particularly effective for array-oriented and math-heavy Python code, offering significant speed improvements without changing languages or Python interpreters."
   ]
  },
  {
   "cell_type": "code",
   "execution_count": 91,
   "metadata": {},
   "outputs": [
    {
     "name": "stdout",
     "output_type": "stream",
     "text": [
      "Numba 0.60.0\n"
     ]
    }
   ],
   "source": [
    "import numba\n",
    "print('Numba', numba.__version__)"
   ]
  },
  {
   "cell_type": "code",
   "execution_count": 92,
   "metadata": {},
   "outputs": [],
   "source": [
    "@numba.jit()\n",
    "def numandelbrot(m, size, iterations):    \n",
    "    for i in range(size):\n",
    "        for j in range(size):\n",
    "            c = -2 + 3.0 / size * j + 1j * (1.5 - 3.0 / size * i)\n",
    "            z = 0\n",
    "            for n in range(iterations):\n",
    "                if np.abs(z) <= 10:\n",
    "                    z = z * z + c\n",
    "                    m[i, j] = n\n",
    "                else:\n",
    "                    break\n",
    "numandelbrot(m, size, iterations); # run once for jit to work"
   ]
  },
  {
   "cell_type": "code",
   "execution_count": 94,
   "metadata": {},
   "outputs": [
    {
     "name": "stdout",
     "output_type": "stream",
     "text": [
      "616 ms ± 7.62 ms per loop (mean ± std. dev. of 7 runs, 1 loop each)\n",
      "1.33 s ± 21 ms per loop (mean ± std. dev. of 7 runs, 1 loop each)\n"
     ]
    }
   ],
   "source": [
    "size = 1000\n",
    "iterations = 1000\n",
    "m = np.zeros((size, size), dtype=np.int64)\n",
    "\n",
    "# %timeit mandelbrot(m, size, iterations) # too slow\n",
    "%timeit cmandelbrot(m, size, iterations)\n",
    "%timeit numandelbrot(m, size, iterations)"
   ]
  },
  {
   "cell_type": "markdown",
   "metadata": {},
   "source": [
    "### Exercise - Numba\n",
    "\n",
    "Consider the following NumPy function which calculates the mean squared error of two arrays:"
   ]
  },
  {
   "cell_type": "code",
   "execution_count": 95,
   "metadata": {},
   "outputs": [],
   "source": [
    "n = 100000\n",
    "x = np.random.random(n)\n",
    "y = np.random.random(n)"
   ]
  },
  {
   "cell_type": "code",
   "execution_count": 96,
   "metadata": {},
   "outputs": [
    {
     "data": {
      "text/plain": [
       "0.16571812243221626"
      ]
     },
     "execution_count": 96,
     "metadata": {},
     "output_type": "execute_result"
    }
   ],
   "source": [
    "def mse_np(x, y):\n",
    "    return ((x - y)**2).mean()\n",
    "\n",
    "mse_np(x, y)"
   ]
  },
  {
   "cell_type": "code",
   "execution_count": null,
   "metadata": {},
   "outputs": [],
   "source": [
    "def mse_py(x, y):\n",
    "    pass\n",
    "\n",
    "def mse_nm(x, y):\n",
    "    pass"
   ]
  },
  {
   "cell_type": "code",
   "execution_count": null,
   "metadata": {},
   "outputs": [],
   "source": [
    "%timeit mse_py(x, y)\n",
    "%timeit mse_np(x, y)\n",
    "%timeit mse_nm(x, y)"
   ]
  },
  {
   "cell_type": "markdown",
   "metadata": {},
   "source": [
    "### Numba automatic parallelization\n",
    "\n",
    "Numba uses Intel's MKL to automate parallelization of for loops with multiple threads.\n",
    "\n",
    "Consider the function for calculation of MSE:"
   ]
  },
  {
   "cell_type": "code",
   "execution_count": 97,
   "metadata": {},
   "outputs": [],
   "source": [
    "n = 1000000\n",
    "x = np.random.random(n)\n",
    "y = np.random.random(n)"
   ]
  },
  {
   "cell_type": "code",
   "execution_count": 98,
   "metadata": {},
   "outputs": [
    {
     "data": {
      "text/plain": [
       "0.1666423287091223"
      ]
     },
     "execution_count": 98,
     "metadata": {},
     "output_type": "execute_result"
    }
   ],
   "source": [
    "@numba.jit\n",
    "def mse_nm(x, y):\n",
    "    mse = 0\n",
    "    n = len(y)\n",
    "    for i in range(n):\n",
    "        mse += (x[i] - y[i])**2\n",
    "    mse /= n\n",
    "    return mse\n",
    "\n",
    "mse_nm(x, y)"
   ]
  },
  {
   "cell_type": "markdown",
   "metadata": {},
   "source": [
    "We can parallelize it by adding the `parallel=True` directive (which requires that we can set `nopython=True` without getting an error) and using `numba.prange` instead of `range`:"
   ]
  },
  {
   "cell_type": "code",
   "execution_count": 99,
   "metadata": {},
   "outputs": [
    {
     "data": {
      "text/plain": [
       "0.16664232870913168"
      ]
     },
     "execution_count": 99,
     "metadata": {},
     "output_type": "execute_result"
    }
   ],
   "source": [
    "@numba.jit(parallel=True)\n",
    "def mse_par(x, y):\n",
    "    mse = 0\n",
    "    n = len(y)\n",
    "    for i in numba.prange(n):\n",
    "        mse += (x[i] - y[i])**2\n",
    "    mse /= n\n",
    "    return mse\n",
    "\n",
    "mse_par(x, y)"
   ]
  },
  {
   "cell_type": "code",
   "execution_count": 101,
   "metadata": {},
   "outputs": [
    {
     "name": "stdout",
     "output_type": "stream",
     "text": [
      "1.28 ms ± 13 µs per loop (mean ± std. dev. of 7 runs, 1,000 loops each)\n",
      "592 µs ± 20.9 µs per loop (mean ± std. dev. of 7 runs, 1,000 loops each)\n"
     ]
    }
   ],
   "source": [
    "%timeit mse_nm(x, y)\n",
    "%timeit mse_par(x, y)"
   ]
  },
  {
   "cell_type": "markdown",
   "metadata": {},
   "source": [
    "### Noteworthy alternatives\n",
    "\n",
    "- Writing Python extensions in a low level language, e.g. C, C++, Rust.\n",
    "- Pypy: A Python implementation with built in JIT.\n",
    "- Mojo programming language - very new, not actually Python but looks like it.\n"
   ]
  }
 ],
 "metadata": {
  "kernelspec": {
   "display_name": "pyCourse",
   "language": "python",
   "name": "python3"
  },
  "language_info": {
   "codemirror_mode": {
    "name": "ipython",
    "version": 3
   },
   "file_extension": ".py",
   "mimetype": "text/x-python",
   "name": "python",
   "nbconvert_exporter": "python",
   "pygments_lexer": "ipython3",
   "version": "3.10.12"
  }
 },
 "nbformat": 4,
 "nbformat_minor": 2
}
