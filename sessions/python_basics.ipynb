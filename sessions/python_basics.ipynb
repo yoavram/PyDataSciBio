{
 "cells": [
  {
   "cell_type": "markdown",
   "metadata": {},
   "source": [
    "# Python and Data Science for Biology undergraduates at Tel Aviv University \n",
    "\n",
    "### Lecturers\n",
    "- Noa Ecker: noaeker@mail.tau.ac.il\n",
    "- Elya Wygoda: elyawygoda@mail.tau.ac.il\n",
    "\n",
    "Exam: 80%\n",
    "\n",
    "Assignments: 20%\n",
    "\n",
    "- Five assignments, you need to submit four.\n",
    "- Three days of late submission by default (No need to ask for permission).\n",
    "\n",
    "This is an Advanced course!"
   ]
  },
  {
   "cell_type": "markdown",
   "metadata": {},
   "source": [
    "# Python Basics\n",
    "\n",
    "This notebook covers fundamental Python concepts that form the foundation of Python programming:\n",
    "- Variables and Data Types\n",
    "- Conditionals (if/else)\n",
    "- Loops (for and while)\n",
    "- Functions\n",
    "\n",
    "Let's dive in!"
   ]
  },
  {
   "cell_type": "markdown",
   "metadata": {},
   "source": [
    "## 1. Variables and Data Types\n",
    "\n",
    "Python is dynamically typed - you don't need to declare variable types explicitly. The type is determined at runtime."
   ]
  },
  {
   "cell_type": "code",
   "execution_count": null,
   "metadata": {},
   "outputs": [],
   "source": [
    "# Creating variables\n",
    "name = \"John\"             # String (str)\n",
    "age = 25                  # Integer (int)\n",
    "height = 1.75             # Float (float)\n",
    "is_student = True         # Boolean (bool)\n",
    "favorite_colors = None    # NoneType\n",
    "\n",
    "# Checking types\n",
    "print(f\"Variable: name, Value: {name}, Type: {type(name)}\")\n",
    "print(f\"Variable: age, Value: {age}, Type: {type(age)}\")\n",
    "print(f\"Variable: height, Value: {height}, Type: {type(height)}\")\n",
    "print(f\"Variable: is_student, Value: {is_student}, Type: {type(is_student)}\")\n",
    "print(f\"Variable: favorite_colors, Value: {favorite_colors}, Type: {type(favorite_colors)}\")"
   ]
  },
  {
   "cell_type": "markdown",
   "metadata": {},
   "source": [
    "### String Operations\n",
    "\n",
    "Strings are one of the most commonly used data types in Python."
   ]
  },
  {
   "cell_type": "code",
   "execution_count": null,
   "metadata": {},
   "outputs": [],
   "source": [
    "# String creation\n",
    "single_quotes = 'Hello'\n",
    "double_quotes = \"World\"\n",
    "triple_quotes = \"\"\"This is a multi-line\n",
    "string that can span\n",
    "multiple lines.\"\"\"\n",
    "\n",
    "# String concatenation\n",
    "greeting = single_quotes + \" \" + double_quotes + \"!\"\n",
    "print(greeting)  # Output: Hello World!\n",
    "\n",
    "# String formatting options\n",
    "name = \"Alice\"\n",
    "age = 30\n",
    "\n",
    "# 1. Using f-strings (Python 3.6+) - recommended\n",
    "message1 = f\"{name} is {age} years old.\"\n",
    "\n",
    "# 2. Using .format() method\n",
    "message2 = \"{} is {} years old.\".format(name, age)\n",
    "\n",
    "# 3. Old-style % formatting\n",
    "message3 = \"%s is %d years old.\" % (name, age)\n",
    "\n",
    "print(message1)\n",
    "print(message2)\n",
    "print(message3)"
   ]
  },
  {
   "cell_type": "code",
   "execution_count": null,
   "metadata": {},
   "outputs": [],
   "source": [
    "# String methods\n",
    "text = \"Python programming is fun!\"\n",
    "\n",
    "print(f\"Original: {text}\")\n",
    "print(f\"Uppercase: {text.upper()}\")\n",
    "print(f\"Lowercase: {text.lower()}\")\n",
    "print(f\"Title case: {text.title()}\")\n",
    "print(f\"Replace: {text.replace('fun', 'amazing')}\")\n",
    "print(f\"Split: {text.split()}\")\n",
    "print(f\"Length: {len(text)}\")\n",
    "print(f\"Contains 'fun': {'fun' in text}\")\n",
    "print(f\"Starts with 'Python': {text.startswith('Python')}\")\n",
    "print(f\"Ends with '!': {text.endswith('!')}\")"
   ]
  },
  {
   "cell_type": "markdown",
   "metadata": {},
   "source": [
    "### Numeric Types and Operations"
   ]
  },
  {
   "cell_type": "code",
   "execution_count": null,
   "metadata": {},
   "outputs": [],
   "source": [
    "# Integer operations\n",
    "a = 10\n",
    "b = 3\n",
    "\n",
    "print(f\"Addition: {a} + {b} = {a + b}\")\n",
    "print(f\"Subtraction: {a} - {b} = {a - b}\")\n",
    "print(f\"Multiplication: {a} * {b} = {a * b}\")\n",
    "print(f\"Division (float): {a} / {b} = {a / b}\")\n",
    "print(f\"Division (floor): {a} // {b} = {a // b}\")\n",
    "print(f\"Modulus (remainder): {a} % {b} = {a % b}\")\n",
    "print(f\"Exponentiation: {a} ** {b} = {a ** b}\")\n",
    "\n",
    "# Float operations\n",
    "c = 3.14\n",
    "d = 2.0\n",
    "\n",
    "print(f\"\\nFloat addition: {c} + {d} = {c + d}\")\n",
    "print(f\"Float multiplication: {c} * {d} = {c * d}\")"
   ]
  },
  {
   "cell_type": "markdown",
   "metadata": {},
   "source": [
    "### Type Conversion\n",
    "\n",
    "Python allows conversion between different data types."
   ]
  },
  {
   "cell_type": "code",
   "execution_count": null,
   "metadata": {},
   "outputs": [],
   "source": [
    "# String to number\n",
    "num_str = \"42\"\n",
    "num_int = int(num_str)    # Convert to integer\n",
    "num_float = float(num_str)  # Convert to float\n",
    "\n",
    "print(f\"String: {num_str}, Type: {type(num_str)}\")\n",
    "print(f\"Integer: {num_int}, Type: {type(num_int)}\")\n",
    "print(f\"Float: {num_float}, Type: {type(num_float)}\")\n",
    "\n",
    "# Number to string\n",
    "pi = 3.14159\n",
    "pi_str = str(pi)\n",
    "print(f\"Float: {pi}, Type: {type(pi)}\")\n",
    "print(f\"String: {pi_str}, Type: {type(pi_str)}\")\n",
    "\n",
    "# Other conversions\n",
    "zero_int = 0\n",
    "zero_bool = bool(zero_int)  # 0 converts to False\n",
    "one_int = 1\n",
    "one_bool = bool(one_int)    # Any non-zero number converts to True\n",
    "\n",
    "print(f\"\\nInteger 0 to Boolean: {zero_bool}\")\n",
    "print(f\"Integer 1 to Boolean: {one_bool}\")\n",
    "\n",
    "empty_str = \"\"\n",
    "empty_bool = bool(empty_str)  # Empty string converts to False\n",
    "non_empty_str = \"Hello\"\n",
    "non_empty_bool = bool(non_empty_str)  # Non-empty string converts to True\n",
    "\n",
    "print(f\"Empty string to Boolean: {empty_bool}\")\n",
    "print(f\"Non-empty string to Boolean: {non_empty_bool}\")"
   ]
  },
  {
   "cell_type": "markdown",
   "metadata": {},
   "source": [
    "## 2. Conditionals\n",
    "\n",
    "Conditionals allow you to execute code based on certain conditions."
   ]
  },
  {
   "cell_type": "code",
   "execution_count": null,
   "metadata": {},
   "outputs": [],
   "source": [
    "# Basic if statement\n",
    "x = 10\n",
    "\n",
    "if x > 0:\n",
    "    print(\"x is positive\")\n",
    "    \n",
    "# if-else statement\n",
    "y = -5\n",
    "\n",
    "if y > 0:\n",
    "    print(\"y is positive\")\n",
    "else:\n",
    "    print(\"y is zero or negative\")\n",
    "    \n",
    "# if-elif-else statement\n",
    "z = 0\n",
    "\n",
    "if z > 0:\n",
    "    print(\"z is positive\")\n",
    "elif z < 0:\n",
    "    print(\"z is negative\")\n",
    "else:\n",
    "    print(\"z is zero\")"
   ]
  },
  {
   "cell_type": "code",
   "execution_count": null,
   "metadata": {},
   "outputs": [],
   "source": [
    "# Compound conditions with logical operators\n",
    "age = 25\n",
    "has_license = True\n",
    "\n",
    "# Logical AND: both conditions must be True\n",
    "if age >= 18 and has_license:\n",
    "    print(\"You can drive\")\n",
    "else:\n",
    "    print(\"You cannot drive\")\n",
    "    \n",
    "# Logical OR: at least one condition must be True\n",
    "is_weekend = False\n",
    "is_holiday = True\n",
    "\n",
    "if is_weekend or is_holiday:\n",
    "    print(\"You can sleep in\")\n",
    "else:\n",
    "    print(\"Set your alarm\")\n",
    "    \n",
    "# Logical NOT: inverts a boolean value\n",
    "is_working = False\n",
    "\n",
    "if not is_working:\n",
    "    print(\"Time to relax\")\n",
    "else:\n",
    "    print(\"Keep working\")"
   ]
  },
  {
   "cell_type": "code",
   "execution_count": null,
   "metadata": {},
   "outputs": [],
   "source": [
    "# Nested conditionals\n",
    "temperature = 25\n",
    "is_raining = False\n",
    "\n",
    "if temperature > 20:\n",
    "    print(\"It's warm outside\")\n",
    "    if is_raining:\n",
    "        print(\"But it's raining, take an umbrella\")\n",
    "    else:\n",
    "        print(\"And it's not raining, perfect weather!\")\n",
    "else:\n",
    "    print(\"It's cold outside\")\n",
    "    if is_raining:\n",
    "        print(\"And it's raining, stay inside\")\n",
    "    else:\n",
    "        print(\"But at least it's not raining\")"
   ]
  },
  {
   "cell_type": "code",
   "execution_count": null,
   "metadata": {},
   "outputs": [],
   "source": [
    "# Ternary operator (conditional expression)\n",
    "# syntax: value_if_true if condition else value_if_false\n",
    "\n",
    "age = 20\n",
    "status = \"adult\" if age >= 18 else \"minor\"\n",
    "print(f\"Status: {status}\")\n",
    "\n",
    "# More examples\n",
    "x = 10\n",
    "y = 20\n",
    "larger = x if x > y else y\n",
    "print(f\"The larger value is: {larger}\")\n",
    "\n",
    "temperature = 15\n",
    "weather = \"warm\" if temperature > 20 else \"cold\"\n",
    "print(f\"The weather is {weather}\")"
   ]
  },
  {
   "cell_type": "markdown",
   "metadata": {},
   "source": [
    "## 3. Loops\n",
    "\n",
    "Loops allow you to repeat code multiple times."
   ]
  },
  {
   "cell_type": "markdown",
   "metadata": {},
   "source": [
    "### For Loops\n",
    "\n",
    "For loops are used to iterate over a sequence (like a list, tuple, or string)."
   ]
  },
  {
   "cell_type": "code",
   "execution_count": null,
   "metadata": {},
   "outputs": [],
   "source": [
    "# Looping through a range\n",
    "print(\"Numbers from 0 to 4:\")\n",
    "for i in range(5):  # range(5) creates sequence: 0, 1, 2, 3, 4\n",
    "    print(i, end=\" \")\n",
    "print()  # Print a newline\n",
    "\n",
    "# Specifying start and stop in range\n",
    "print(\"\\nNumbers from 5 to 9:\")\n",
    "for i in range(5, 10):  # start at 5, end before 10\n",
    "    print(i, end=\" \")\n",
    "print()\n",
    "\n",
    "# Specifying step in range\n",
    "print(\"\\nEven numbers from 2 to 10:\")\n",
    "for i in range(2, 11, 2):  # start at 2, end at 10, step by 2\n",
    "    print(i, end=\" \")\n",
    "print()"
   ]
  },
  {
   "cell_type": "code",
   "execution_count": null,
   "metadata": {},
   "outputs": [],
   "source": [
    "# Looping through a list\n",
    "fruits = [\"apple\", \"banana\", \"cherry\", \"orange\"]\n",
    "\n",
    "print(\"Fruits in the list:\")\n",
    "for fruit in fruits:\n",
    "    print(fruit)\n",
    "\n",
    "# Looping with index using enumerate\n",
    "print(\"\\nFruits with indices:\")\n",
    "for index, fruit in enumerate(fruits):\n",
    "    print(f\"{index}: {fruit}\")\n",
    "    \n",
    "# Looping through a string\n",
    "word = \"Python\"\n",
    "print(\"\\nLetters in 'Python':\")\n",
    "for char in word:\n",
    "    print(char)\n",
    "    \n",
    "# Looping through a dictionary\n",
    "person = {\"name\": \"John\", \"age\": 30, \"city\": \"New York\"}\n",
    "\n",
    "print(\"\\nDictionary keys:\")\n",
    "for key in person:\n",
    "    print(key)\n",
    "    \n",
    "print(\"\\nDictionary values:\")\n",
    "for value in person.values():\n",
    "    print(value)\n",
    "    \n",
    "print(\"\\nDictionary items:\")\n",
    "for key, value in person.items():\n",
    "    print(f\"{key}: {value}\")"
   ]
  },
  {
   "cell_type": "markdown",
   "metadata": {},
   "source": [
    "### While Loops\n",
    "\n",
    "While loops continue executing as long as a condition is True."
   ]
  },
  {
   "cell_type": "code",
   "execution_count": null,
   "metadata": {},
   "outputs": [],
   "source": [
    "# Basic while loop\n",
    "count = 0\n",
    "print(\"Counting to 5:\")\n",
    "while count < 5:\n",
    "    print(count, end=\" \")\n",
    "    count += 1  # Equivalent to: count = count + 1\n",
    "print()  # Print a newline\n",
    "\n",
    "# While loop with user input\n",
    "# (Commented out to avoid blocking notebook execution)\n",
    "\"\"\"\n",
    "answer = \"\"\n",
    "while answer != \"quit\":\n",
    "    answer = input(\"Type 'quit' to exit: \")\n",
    "    print(f\"You typed: {answer}\")\n",
    "print(\"Exited the loop\")\n",
    "\"\"\""
   ]
  },
  {
   "cell_type": "markdown",
   "metadata": {},
   "source": [
    "### Loop Control: break, continue, and else\n",
    "\n",
    "Python provides keywords to control loop execution."
   ]
  },
  {
   "cell_type": "code",
   "execution_count": null,
   "metadata": {},
   "outputs": [],
   "source": [
    "# break: exit the loop immediately\n",
    "print(\"Using break:\")\n",
    "for i in range(10):\n",
    "    if i == 5:\n",
    "        break  # Exit loop when i is 5\n",
    "    print(i, end=\" \")\n",
    "print(\"\\nLoop ended\")\n",
    "\n",
    "# continue: skip to the next iteration\n",
    "print(\"\\nUsing continue:\")\n",
    "for i in range(10):\n",
    "    if i % 2 == 0:  # If i is even\n",
    "        continue  # Skip this iteration\n",
    "    print(i, end=\" \")  # Only print odd numbers\n",
    "print(\"\\nLoop ended\")\n",
    "\n",
    "# else clause in loops\n",
    "# The else block executes after the loop completes normally (without a break)\n",
    "print(\"\\nLoop with else (no break):\")\n",
    "for i in range(5):\n",
    "    print(i, end=\" \")\n",
    "else:\n",
    "    print(\"\\nLoop completed normally\")\n",
    "    \n",
    "print(\"\\nLoop with else (with break):\")\n",
    "for i in range(5):\n",
    "    print(i, end=\" \")\n",
    "    if i == 3:\n",
    "        break\n",
    "else:  # This won't execute because the loop was broken\n",
    "    print(\"\\nLoop completed normally\")\n",
    "print(\"\\nLoop ended with break\")"
   ]
  },
  {
   "cell_type": "markdown",
   "metadata": {},
   "source": [
    "## 4. Functions\n",
    "\n",
    "Functions are reusable blocks of code that perform specific tasks."
   ]
  },
  {
   "cell_type": "code",
   "execution_count": null,
   "metadata": {},
   "outputs": [],
   "source": [
    "# Defining a simple function\n",
    "def greet():\n",
    "    \"\"\"Print a greeting message.\"\"\"\n",
    "    print(\"Hello, World!\")\n",
    "    \n",
    "# Calling the function\n",
    "greet()"
   ]
  },
  {
   "cell_type": "code",
   "execution_count": null,
   "metadata": {},
   "outputs": [],
   "source": [
    "# Function with parameters\n",
    "def greet_person(name):\n",
    "    \"\"\"Greet a specific person.\"\"\"\n",
    "    print(f\"Hello, {name}!\")\n",
    "    \n",
    "greet_person(\"Alice\")\n",
    "greet_person(\"Bob\")"
   ]
  },
  {
   "cell_type": "code",
   "execution_count": null,
   "metadata": {},
   "outputs": [],
   "source": [
    "# Function with return value\n",
    "def add(a, b):\n",
    "    \"\"\"Add two numbers and return the result.\"\"\"\n",
    "    return a + b\n",
    "\n",
    "result = add(3, 5)\n",
    "print(f\"3 + 5 = {result}\")\n",
    "\n",
    "# Using the return value directly\n",
    "print(f\"10 + 20 = {add(10, 20)}\")"
   ]
  },
  {
   "cell_type": "code",
   "execution_count": null,
   "metadata": {},
   "outputs": [],
   "source": [
    "# Function with default parameter values\n",
    "def greet_with_message(name, message=\"How are you today?\"):\n",
    "    \"\"\"Greet someone with an optional custom message.\"\"\"\n",
    "    print(f\"Hello, {name}! {message}\")\n",
    "    \n",
    "# Using the default message\n",
    "greet_with_message(\"Alice\")\n",
    "\n",
    "# Providing a custom message\n",
    "greet_with_message(\"Bob\", \"Nice to meet you!\")"
   ]
  },
  {
   "cell_type": "code",
   "execution_count": null,
   "metadata": {},
   "outputs": [],
   "source": [
    "# Function with multiple parameters, some with default values\n",
    "def create_profile(name, age, city=\"Unknown\", country=\"Unknown\"):\n",
    "    \"\"\"Create a person profile.\"\"\"\n",
    "    profile = {\n",
    "        \"name\": name,\n",
    "        \"age\": age,\n",
    "        \"city\": city,\n",
    "        \"country\": country\n",
    "    }\n",
    "    return profile\n",
    "\n",
    "# Using only required parameters\n",
    "profile1 = create_profile(\"Alice\", 30)\n",
    "print(\"Profile 1:\", profile1)\n",
    "\n",
    "# Providing all parameters\n",
    "profile2 = create_profile(\"Bob\", 25, \"New York\", \"USA\")\n",
    "print(\"Profile 2:\", profile2)\n",
    "\n",
    "# Using keyword arguments (order doesn't matter)\n",
    "profile3 = create_profile(age=35, name=\"Charlie\", country=\"Canada\")\n",
    "print(\"Profile 3:\", profile3)"
   ]
  },
  {
   "cell_type": "code",
   "execution_count": null,
   "metadata": {},
   "outputs": [],
   "source": [
    "# Function with variable number of arguments (*args)\n",
    "def sum_all(*numbers):\n",
    "    \"\"\"Sum any number of values.\"\"\"\n",
    "    result = 0\n",
    "    for num in numbers:\n",
    "        result += num\n",
    "    return result\n",
    "\n",
    "print(f\"Sum of 1, 2: {sum_all(1, 2)}\")\n",
    "print(f\"Sum of 1, 2, 3, 4, 5: {sum_all(1, 2, 3, 4, 5)}\")"
   ]
  },
  {
   "cell_type": "code",
   "execution_count": null,
   "metadata": {},
   "outputs": [],
   "source": [
    "# Function with variable keyword arguments (**kwargs)\n",
    "def build_person(**attributes):\n",
    "    \"\"\"Build a person with any number of attributes.\"\"\"\n",
    "    return attributes\n",
    "\n",
    "person1 = build_person(name=\"Alice\", age=30, job=\"Developer\")\n",
    "print(\"Person 1:\", person1)\n",
    "\n",
    "person2 = build_person(name=\"Bob\", height=180, weight=75, hobbies=[\"reading\", \"swimming\"])\n",
    "print(\"Person 2:\", person2)"
   ]
  },
  {
   "cell_type": "code",
   "execution_count": null,
   "metadata": {},
   "outputs": [],
   "source": [
    "# Function returning multiple values\n",
    "def get_min_max(numbers):\n",
    "    \"\"\"Return both minimum and maximum values from a list.\"\"\"\n",
    "    return min(numbers), max(numbers)\n",
    "\n",
    "numbers = [5, 2, 8, 1, 9, 3]\n",
    "minimum, maximum = get_min_max(numbers)  # Unpacking the returned tuple\n",
    "print(f\"Minimum: {minimum}, Maximum: {maximum}\")"
   ]
  },
  {
   "cell_type": "code",
   "execution_count": null,
   "metadata": {},
   "outputs": [],
   "source": [
    "# Lambda functions (anonymous functions)\n",
    "# Syntax: lambda arguments: expression\n",
    "\n",
    "# Lambda function to square a number\n",
    "square = lambda x: x**2\n",
    "print(f\"Square of 5: {square(5)}\")\n",
    "\n",
    "# Lambda functions are often used with higher-order functions like map, filter, and sorted\n",
    "\n",
    "# Using map() with lambda to square all numbers in a list\n",
    "numbers = [1, 2, 3, 4, 5]\n",
    "squared_numbers = list(map(lambda x: x**2, numbers))\n",
    "print(f\"Squared numbers: {squared_numbers}\")\n",
    "\n",
    "# Using filter() with lambda to get even numbers\n",
    "even_numbers = list(filter(lambda x: x % 2 == 0, numbers))\n",
    "print(f\"Even numbers: {even_numbers}\")\n",
    "\n",
    "# Using sorted() with lambda to sort by a specific key\n",
    "people = [\n",
    "    {\"name\": \"Alice\", \"age\": 30},\n",
    "    {\"name\": \"Bob\", \"age\": 25},\n",
    "    {\"name\": \"Charlie\", \"age\": 35}\n",
    "]\n",
    "sorted_by_age = sorted(people, key=lambda person: person[\"age\"])\n",
    "print(\"People sorted by age:\")\n",
    "for person in sorted_by_age:\n",
    "    print(f\"{person['name']}: {person['age']}\")"
   ]
  },
  {
   "cell_type": "markdown",
   "metadata": {},
   "source": [
    "## Exercise Ideas\n",
    "\n",
    "1. **Variable and Type Conversion**\n",
    "   - Create variables of different types and convert between them\n",
    "   - Print their original and converted types\n",
    "\n",
    "2. **Conditional Practice**\n",
    "   - Write a program that determines if a year is a leap year\n",
    "   - Create a simple grade calculator (A, B, C, D, F based on score)\n",
    "\n",
    "3. **Loop Exercises**\n",
    "   - Print a pattern of stars using nested loops\n",
    "   - Calculate the sum and average of a list of numbers\n",
    "   - Find all prime numbers up to a given limit\n",
    "\n",
    "4. **Function Challenges**\n",
    "   - Write a function to check if a number is prime\n",
    "   - Create a function that returns the factorial of a number\n",
    "   - Implement a function to convert Celsius to Fahrenheit and vice versa"
   ]
  },
  {
   "cell_type": "markdown",
   "metadata": {},
   "source": [
    "# Programming Paradigms: A Comparative Guide\n",
    "\n",
    "## Procedural Programming\n",
    "Procedural programming is the most straightforward approach to writing code. It follows a top-down method where programs are structured as a sequence of step-by-step instructions. Think of it like a recipe: you start at the beginning and follow each step in order. \n",
    "\n",
    "**Key Characteristics:**\n",
    "- Code is organized as a series of procedures or functions\n",
    "- Data and functions are separate\n",
    "- Emphasizes sequential execution of instructions\n",
    "- Focuses on completing tasks through a series of computational steps\n",
    "\n",
    "**Example Languages:** C, Pascal\n",
    "\n",
    "**Analogy:** It's like following a cooking recipe exactly, where you do one thing after another in a precise order.\n",
    "\n",
    "## Object-Oriented Programming (OOP)\n",
    "Object-oriented programming organizes code around \"objects\" that contain both data and code. It's like creating digital blueprints (classes) that can generate specific instances (objects) with their own properties and behaviors.\n",
    "\n",
    "**Key Characteristics:**\n",
    "- Organizes software design around data, or objects, rather than functions and logic\n",
    "- Supports concepts like inheritance, encapsulation, and polymorphism\n",
    "- Groups related data and functions into objects\n",
    "- Aims to increase flexibility and reusability of code\n",
    "\n",
    "**Example Languages:** Java, C++, Python\n",
    "\n",
    "**Analogy:** It's like a car manufacturing process where you have a car blueprint (class) that can create multiple specific car models (objects), each with its own unique characteristics.\n",
    "\n",
    "## Functional Programming\n",
    "Functional programming treats computation as the evaluation of mathematical functions. It emphasizes immutable data and avoids changing state and mutable data.\n",
    "\n",
    "**Key Characteristics:**\n",
    "- Treats computation as the evaluation of mathematical functions\n",
    "- Avoids changing state and mutable data\n",
    "- Functions are first-class citizens (can be passed as arguments, returned as values)\n",
    "- Emphasizes declarative programming over imperative\n",
    "- Promotes pure functions with no side effects\n",
    "\n",
    "**Example Languages:** Haskell, Erlang, Scala\n",
    "\n",
    "**Analogy:** It's like a mathematical equation where the same input always produces the same output, without changing any external state.\n",
    "\n",
    "## Practical Differences\n",
    "\n",
    "1. **Data Handling:**\n",
    "   - **Procedural:** Data and functions are separate\n",
    "   - **OOP:** Data and methods are bundled together in objects\n",
    "   - **Functional:** Data is immutable, and functions transform data\n",
    "\n",
    "2. **Program Structure:**\n",
    "   - **Procedural:** Follows a step-by-step approach\n",
    "   - **OOP:** Organized around objects and their interactions\n",
    "   - **Functional:** Organized around function composition and transformation\n",
    "\n",
    "3. **State Management:**\n",
    "   - **Procedural:** Frequently modifies global state\n",
    "   - **OOP:** Manages state through object properties\n",
    "   - **Functional:** Avoids state changes, uses immutable data\n",
    "\n",
    "## When to Use Each Paradigm\n",
    "- **Procedural:** Simple, straightforward programs with linear logic\n",
    "- **OOP:** Complex systems with many interacting components\n",
    "- **Functional:** Data processing, parallel computing, mathematical computations\n",
    "\n",
    "Remember, modern programming often combines these paradigms. Many languages support multiple programming styles, allowing developers to choose the most appropriate approach for a specific problem."
   ]
  },
  {
   "cell_type": "markdown",
   "metadata": {},
   "source": [
    "# File input/output"
   ]
  },
  {
   "cell_type": "code",
   "execution_count": null,
   "metadata": {},
   "outputs": [],
   "source": [
    "# Reading an entire file\n",
    "with open('../data/to_match.txt', 'r') as file:\n",
    "    content = file.read()\n",
    "    print(content)"
   ]
  },
  {
   "cell_type": "code",
   "execution_count": null,
   "metadata": {},
   "outputs": [],
   "source": [
    "# Reading file line by line\n",
    "with open('../data/to_match.txt', 'r') as file:\n",
    "    for line in file:\n",
    "        print(line.strip())  # strip() removes leading/trailing whitespace"
   ]
  },
  {
   "cell_type": "markdown",
   "metadata": {},
   "source": [
    "## Key File Modes\n",
    "- `'r'`: Read (default)\n",
    "- `'w'`: Write (overwrite)\n",
    "- `'a'`: Append\n",
    "- `'r+'`: Read and write\n",
    "- `'b'`: Binary mode (e.g., `'rb'`, `'wb'`)"
   ]
  },
  {
   "cell_type": "markdown",
   "metadata": {},
   "source": [
    "# Python Classes: A Simple Overview\n",
    "\n",
    "## Basic Class Definition\n"
   ]
  },
  {
   "cell_type": "code",
   "execution_count": null,
   "metadata": {},
   "outputs": [],
   "source": [
    "\n",
    "class Dog:\n",
    "    # Constructor method\n",
    "    def __init__(self, name, age):\n",
    "        self.name = name  # Instance attribute\n",
    "        self.age = age    # Instance attribute\n",
    "    \n",
    "    # Instance method\n",
    "    def bark(self):\n",
    "        print(f\"{self.name} says Woof!\")\n",
    "    \n",
    "    # Another instance method\n",
    "    def birthday(self):\n",
    "        self.age += 1\n",
    "        print(f\"{self.name} is now {self.age} years old\")\n",
    "\n",
    "# Creating an instance (object)\n",
    "my_dog = Dog(\"Buddy\", 3)\n",
    "my_dog.bark()        # Calls the bark method\n",
    "my_dog.birthday()    # Calls the birthday method"
   ]
  }
 ],
 "metadata": {
  "kernelspec": {
   "display_name": "pydata",
   "language": "python",
   "name": "python3"
  },
  "language_info": {
   "codemirror_mode": {
    "name": "ipython",
    "version": 3
   },
   "file_extension": ".py",
   "mimetype": "text/x-python",
   "name": "python",
   "nbconvert_exporter": "python",
   "pygments_lexer": "ipython3",
   "version": "3.10.12"
  }
 },
 "nbformat": 4,
 "nbformat_minor": 4
}
