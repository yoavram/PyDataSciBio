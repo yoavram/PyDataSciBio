{
 "cells": [
  {
   "cell_type": "markdown",
   "metadata": {},
   "source": [
    "# Debugging, Profiling and Testing in Python"
   ]
  },
  {
   "cell_type": "markdown",
   "metadata": {},
   "source": [
    "## Python under-the-hood"
   ]
  },
  {
   "cell_type": "markdown",
   "metadata": {},
   "source": [
    "### What happens when I click run on a python script/cell?\n",
    "\n",
    "1. **Parser**: Checks syntax and breaks down Python code into manageable parts.\n",
    "  \n",
    "1. **Interpreter**: \n",
    "    - Translates parsed code into bytecode, optimizing it for execution.\n",
    "    - Executes bytecode, producing the output defined by the Python code, and manages program execution."
   ]
  },
  {
   "cell_type": "markdown",
   "metadata": {},
   "source": [
    "As programmers, we hope the all our bugs are of the first and second kind, That way, Python takes care of our mistakes for us, and returns an 'error' message and stop execution as expected.\n",
    "Logical Errors will not stop the execution of the program."
   ]
  },
  {
   "cell_type": "markdown",
   "metadata": {},
   "source": [
    "### The three main types of program errors:\n",
    "\n",
    "- Syntax Errors\n",
    "- Runtime Errors\n",
    "- Logical Errors"
   ]
  },
  {
   "cell_type": "markdown",
   "metadata": {},
   "source": [
    "### Syntax error example:"
   ]
  },
  {
   "cell_type": "code",
   "execution_count": 2,
   "metadata": {},
   "outputs": [
    {
     "ename": "SyntaxError",
     "evalue": "expected ':' (1972436306.py, line 1)",
     "output_type": "error",
     "traceback": [
      "\u001b[0;36m  Cell \u001b[0;32mIn[2], line 1\u001b[0;36m\u001b[0m\n\u001b[0;31m    def say_hello(name)\u001b[0m\n\u001b[0m                       ^\u001b[0m\n\u001b[0;31mSyntaxError\u001b[0m\u001b[0;31m:\u001b[0m expected ':'\n"
     ]
    }
   ],
   "source": [
    "def say_hello(name)\n",
    "    print(\"Hello\" ,name,\"!\")"
   ]
  },
  {
   "cell_type": "markdown",
   "metadata": {},
   "source": [
    "### Runtime error example:"
   ]
  },
  {
   "cell_type": "code",
   "execution_count": 3,
   "metadata": {},
   "outputs": [
    {
     "ename": "ZeroDivisionError",
     "evalue": "division by zero",
     "output_type": "error",
     "traceback": [
      "\u001b[0;31m---------------------------------------------------------------------------\u001b[0m",
      "\u001b[0;31mZeroDivisionError\u001b[0m                         Traceback (most recent call last)",
      "Cell \u001b[0;32mIn[3], line 4\u001b[0m\n\u001b[1;32m      1\u001b[0m numerator \u001b[38;5;241m=\u001b[39m \u001b[38;5;241m10\u001b[39m\n\u001b[1;32m      2\u001b[0m denominator \u001b[38;5;241m=\u001b[39m \u001b[38;5;241m0\u001b[39m\n\u001b[0;32m----> 4\u001b[0m result \u001b[38;5;241m=\u001b[39m \u001b[43mnumerator\u001b[49m\u001b[38;5;241;43m/\u001b[39;49m\u001b[43mdenominator\u001b[49m\n\u001b[1;32m      5\u001b[0m result\n",
      "\u001b[0;31mZeroDivisionError\u001b[0m: division by zero"
     ]
    }
   ],
   "source": [
    "numerator = 10\n",
    "denominator = 0\n",
    "\n",
    "result = numerator/denominator\n",
    "result"
   ]
  },
  {
   "cell_type": "markdown",
   "metadata": {},
   "source": [
    "#### Another example:"
   ]
  },
  {
   "cell_type": "code",
   "execution_count": 4,
   "metadata": {},
   "outputs": [
    {
     "ename": "TypeError",
     "evalue": "can only concatenate str (not \"int\") to str",
     "output_type": "error",
     "traceback": [
      "\u001b[0;31m---------------------------------------------------------------------------\u001b[0m",
      "\u001b[0;31mTypeError\u001b[0m                                 Traceback (most recent call last)",
      "Cell \u001b[0;32mIn[4], line 1\u001b[0m\n\u001b[0;32m----> 1\u001b[0m result \u001b[38;5;241m=\u001b[39m \u001b[38;5;124;43m\"\u001b[39;49m\u001b[38;5;124;43mHello\u001b[39;49m\u001b[38;5;124;43m\"\u001b[39;49m\u001b[43m \u001b[49m\u001b[38;5;241;43m+\u001b[39;49m\u001b[43m \u001b[49m\u001b[38;5;241;43m42\u001b[39;49m\n\u001b[1;32m      2\u001b[0m result\n",
      "\u001b[0;31mTypeError\u001b[0m: can only concatenate str (not \"int\") to str"
     ]
    }
   ],
   "source": [
    "result = \"Hello\" + 42\n",
    "result"
   ]
  },
  {
   "cell_type": "markdown",
   "metadata": {},
   "source": [
    "### Logical error example:"
   ]
  },
  {
   "cell_type": "code",
   "execution_count": 5,
   "metadata": {},
   "outputs": [
    {
     "data": {
      "text/plain": [
       "25.0"
      ]
     },
     "execution_count": 5,
     "metadata": {},
     "output_type": "execute_result"
    }
   ],
   "source": [
    "data = [10, 20, 30, 40, 50]\n",
    "total = sum(data)\n",
    "count = len(data)\n",
    "average = total / (count + 1)\n",
    "\n",
    "average"
   ]
  },
  {
   "cell_type": "markdown",
   "metadata": {},
   "source": [
    "#### Another example:"
   ]
  },
  {
   "cell_type": "code",
   "execution_count": 6,
   "metadata": {},
   "outputs": [
    {
     "data": {
      "text/plain": [
       "80"
      ]
     },
     "execution_count": 6,
     "metadata": {},
     "output_type": "execute_result"
    }
   ],
   "source": [
    "def calculate_discounted_price(original_price, discount_percentage):\n",
    "    discounted_price = original_price - discount_percentage\n",
    "    return discounted_price\n",
    "\n",
    "pants_price = 100\n",
    "discount = 20\n",
    "final_price = calculate_discounted_price(pants_price, discount)\n",
    "final_price"
   ]
  },
  {
   "cell_type": "markdown",
   "metadata": {},
   "source": [
    "### Exercises\n",
    "\n",
    "Fix the following bugs"
   ]
  },
  {
   "cell_type": "code",
   "execution_count": 7,
   "metadata": {},
   "outputs": [
    {
     "ename": "KeyboardInterrupt",
     "evalue": "",
     "output_type": "error",
     "traceback": [
      "\u001b[0;31m---------------------------------------------------------------------------\u001b[0m",
      "\u001b[0;31mKeyboardInterrupt\u001b[0m                         Traceback (most recent call last)",
      "Cell \u001b[0;32mIn[7], line 3\u001b[0m\n\u001b[1;32m      1\u001b[0m x \u001b[38;5;241m=\u001b[39m \u001b[38;5;241m1\u001b[39m\n\u001b[1;32m      2\u001b[0m y \u001b[38;5;241m=\u001b[39m \u001b[38;5;241m0\u001b[39m\n\u001b[0;32m----> 3\u001b[0m \u001b[38;5;28;01mwhile\u001b[39;00m x \u001b[38;5;241m<\u001b[39m \u001b[38;5;241m4\u001b[39m:\n\u001b[1;32m      4\u001b[0m     y \u001b[38;5;241m+\u001b[39m\u001b[38;5;241m=\u001b[39m x\n\u001b[1;32m      5\u001b[0m \u001b[38;5;28mprint\u001b[39m(y)\n",
      "\u001b[0;31mKeyboardInterrupt\u001b[0m: "
     ]
    }
   ],
   "source": [
    "x = 1\n",
    "y = 0\n",
    "while x < 4:\n",
    "    y += x\n",
    "print(y)"
   ]
  },
  {
   "cell_type": "code",
   "execution_count": 8,
   "metadata": {},
   "outputs": [
    {
     "ename": "SyntaxError",
     "evalue": "invalid syntax. Maybe you meant '==' or ':=' instead of '='? (905021021.py, line 2)",
     "output_type": "error",
     "traceback": [
      "\u001b[0;36m  Cell \u001b[0;32mIn[8], line 2\u001b[0;36m\u001b[0m\n\u001b[0;31m    if switch = 'off':\u001b[0m\n\u001b[0m       ^\u001b[0m\n\u001b[0;31mSyntaxError\u001b[0m\u001b[0;31m:\u001b[0m invalid syntax. Maybe you meant '==' or ':=' instead of '='?\n"
     ]
    }
   ],
   "source": [
    "switch = 'on'\n",
    "if switch = 'off':\n",
    "    print('go home')"
   ]
  },
  {
   "cell_type": "code",
   "execution_count": 9,
   "metadata": {},
   "outputs": [
    {
     "ename": "TypeError",
     "evalue": "'float' object cannot be interpreted as an integer",
     "output_type": "error",
     "traceback": [
      "\u001b[0;31m---------------------------------------------------------------------------\u001b[0m",
      "\u001b[0;31mTypeError\u001b[0m                                 Traceback (most recent call last)",
      "Cell \u001b[0;32mIn[9], line 1\u001b[0m\n\u001b[0;32m----> 1\u001b[0m \u001b[38;5;28;43mrange\u001b[39;49m\u001b[43m(\u001b[49m\u001b[38;5;241;43m2.5\u001b[39;49m\u001b[43m)\u001b[49m\n",
      "\u001b[0;31mTypeError\u001b[0m: 'float' object cannot be interpreted as an integer"
     ]
    }
   ],
   "source": [
    "range(2.5)"
   ]
  },
  {
   "cell_type": "code",
   "execution_count": 10,
   "metadata": {},
   "outputs": [
    {
     "ename": "ValueError",
     "evalue": "range() arg 3 must not be zero",
     "output_type": "error",
     "traceback": [
      "\u001b[0;31m---------------------------------------------------------------------------\u001b[0m",
      "\u001b[0;31mValueError\u001b[0m                                Traceback (most recent call last)",
      "Cell \u001b[0;32mIn[10], line 1\u001b[0m\n\u001b[0;32m----> 1\u001b[0m \u001b[38;5;28;43mrange\u001b[39;49m\u001b[43m(\u001b[49m\u001b[38;5;241;43m2\u001b[39;49m\u001b[43m,\u001b[49m\u001b[38;5;241;43m3\u001b[39;49m\u001b[43m,\u001b[49m\u001b[38;5;241;43m0\u001b[39;49m\u001b[43m)\u001b[49m\n",
      "\u001b[0;31mValueError\u001b[0m: range() arg 3 must not be zero"
     ]
    }
   ],
   "source": [
    "range(2,3,0)"
   ]
  },
  {
   "cell_type": "markdown",
   "metadata": {},
   "source": [
    "### How do we debug our code?"
   ]
  },
  {
   "cell_type": "markdown",
   "metadata": {},
   "source": [
    "- **Print Statements**: Output variable values or execution flow strategically.\n",
    "  \n",
    "- **Debugger**: Use built-in or IDE debuggers for real-time code inspection and variable tracking.\n",
    "  \n",
    "- **Logging**: Record diagnostic info with Python's logging module.\n",
    "  \n",
    "- **Assertions**: Validate conditions with `assert` statements to catch errors.\n",
    "  \n",
    "- **Interactive Exploration**: Experiment interactively in environments like Jupyter.\n",
    "  \n",
    "- **Profiling Tools**: Analyze code performance with tools like `snakeviz` for optimization."
   ]
  },
  {
   "cell_type": "markdown",
   "metadata": {},
   "source": [
    "We will focus on real-time code inspection, interactive exploration, and profiling."
   ]
  },
  {
   "cell_type": "markdown",
   "metadata": {},
   "source": [
    "### Exercise\n",
    "\n",
    "Find the bug in the following code:"
   ]
  },
  {
   "cell_type": "code",
   "execution_count": 29,
   "metadata": {},
   "outputs": [
    {
     "name": "stdout",
     "output_type": "stream",
     "text": [
      "Factorial of 5: 120\n"
     ]
    }
   ],
   "source": [
    "def factorial(n):\n",
    "    if n == 0:\n",
    "        return 1\n",
    "    else:\n",
    "        return n * factorial(n - 1)\n",
    "\n",
    "result = factorial(5) # try a float\n",
    "print(\"Factorial of 5:\", result)"
   ]
  },
  {
   "cell_type": "markdown",
   "metadata": {},
   "source": [
    "### mutability  vs immutability."
   ]
  },
  {
   "cell_type": "code",
   "execution_count": 35,
   "metadata": {},
   "outputs": [
    {
     "name": "stdout",
     "output_type": "stream",
     "text": [
      "First call:\n",
      "['apple']\n",
      "\n",
      "Second call:\n",
      "['apple', 'banana']\n"
     ]
    }
   ],
   "source": [
    "def add_to_list(item, my_list=[]):  # Mutable default argument!\n",
    "    my_list.append(item)\n",
    "    return my_list\n",
    "\n",
    "# First call\n",
    "print(\"First call:\")\n",
    "result1 = add_to_list(\"apple\")\n",
    "print(result1)  # Output: ['apple']\n",
    "\n",
    "# Second call - expecting a new list with just \"banana\"\n",
    "print(\"\\nSecond call:\")\n",
    "result2 = add_to_list(\"banana\")\n",
    "print(result2)  # Output: ['apple', 'banana'] - SURPRISE!"
   ]
  },
  {
   "cell_type": "code",
   "execution_count": 36,
   "metadata": {},
   "outputs": [
    {
     "name": "stdout",
     "output_type": "stream",
     "text": [
      "\n",
      "\n",
      "Fixed version:\n",
      "First call (fixed):\n",
      "['apple']\n",
      "\n",
      "Second call (fixed):\n",
      "['banana']\n"
     ]
    }
   ],
   "source": [
    "def add_to_list_fixed(item, my_list=None):\n",
    "    if my_list is None:\n",
    "        my_list = []  # Create a new list each time\n",
    "    my_list.append(item)\n",
    "    return my_list\n",
    "\n",
    "print(\"\\n\\nFixed version:\")\n",
    "\n",
    "# First call\n",
    "print(\"First call (fixed):\")\n",
    "fixed1 = add_to_list_fixed(\"apple\")\n",
    "print(fixed1)  # Output: ['apple']\n",
    "\n",
    "# Second call\n",
    "print(\"\\nSecond call (fixed):\")\n",
    "fixed2 = add_to_list_fixed(\"banana\")\n",
    "print(fixed2)  # Output: ['banana'] - Works as expected!"
   ]
  },
  {
   "cell_type": "markdown",
   "metadata": {},
   "source": [
    "https://pythontutor.com/\n",
    "\n",
    "https://pythonspeed.com/articles/minimizing-copying/"
   ]
  },
  {
   "cell_type": "markdown",
   "metadata": {},
   "source": [
    "## Profiling"
   ]
  },
  {
   "cell_type": "markdown",
   "metadata": {},
   "source": [
    "add some text about profiling"
   ]
  },
  {
   "cell_type": "code",
   "execution_count": 14,
   "metadata": {},
   "outputs": [
    {
     "name": "stdout",
     "output_type": "stream",
     "text": [
      "The snakeviz extension is already loaded. To reload it, use:\n",
      "  %reload_ext snakeviz\n",
      "Snakeviz configured with host localhost and port 8900\n"
     ]
    }
   ],
   "source": [
    "%load_ext snakeviz\n",
    "%snakeviz_config -h localhost -p 8900"
   ]
  },
  {
   "cell_type": "code",
   "execution_count": 15,
   "metadata": {},
   "outputs": [
    {
     "name": "stdout",
     "output_type": "stream",
     "text": [
      "[131, 281, 101, 269, 617, 577, 941, 593, 787, 467, 311, 211, 421, 373, 263, 619, 953, 751, 953, 83, 233, 257, 19, 619, 691, 313, 643, 631, 499, 821, 787, 809, 557, 907, 17, 809, 197, 661, 401, 593, 797, 613, 701, 617, 97, 857, 79, 223, 349, 367, 17, 151, 241, 137, 137, 191, 797, 953, 719, 449, 31, 863, 397, 251, 313, 761, 727, 743, 967, 421, 389, 769, 113, 11, 661, 227, 541, 691, 241, 863, 997, 547, 113, 617, 463, 359, 29, 107, 823, 433, 431, 11, 223, 607, 53, 839, 53, 577, 53, 823]\n",
      " \n",
      "*** Profile stats marshalled to file '/tmp/tmp4tqq92pq'.\n",
      "Embedding SnakeViz in this document...\n",
      "<function display at 0x7fcbf4512c20>\n"
     ]
    },
    {
     "data": {
      "text/html": [
       "\n",
       "<iframe id='snakeviz-7f5c5852-0343-11f0-a0fb-a96110915223' frameborder=0 seamless width='100%' height='1000'></iframe>\n",
       "<script>document.getElementById(\"snakeviz-7f5c5852-0343-11f0-a0fb-a96110915223\").setAttribute(\"src\", \"http://localhost:8900/snakeviz/%2Ftmp%2Ftmp4tqq92pq\")</script>\n"
      ],
      "text/plain": [
       "<IPython.core.display.HTML object>"
      ]
     },
     "metadata": {},
     "output_type": "display_data"
    }
   ],
   "source": [
    "%%snakeviz\n",
    "# https://blog.finxter.com/python-cprofile-a-helpful-guide-with-prime-example/\n",
    "import random\n",
    "\n",
    "def guess():\n",
    "    ''' Returns a random number '''\n",
    "    return random.randint(2, 1000)\n",
    "\n",
    "def is_prime(n):\n",
    "    ''' Checks whether n is prime '''\n",
    "    for i in range(2, n):\n",
    "        for j in range(2, n):\n",
    "            if i * j == n:\n",
    "                return False\n",
    "    return True\n",
    "\n",
    "def find_primes(num):\n",
    "    primes = []\n",
    "    while len(primes) < num:\n",
    "        p = guess()\n",
    "        if is_prime(p):\n",
    "        \tprimes.append(p)\n",
    "    return primes\n",
    "\n",
    "print(find_primes(100))"
   ]
  },
  {
   "cell_type": "markdown",
   "metadata": {},
   "source": [
    "### Another example:"
   ]
  },
  {
   "cell_type": "code",
   "execution_count": 17,
   "metadata": {},
   "outputs": [
    {
     "name": "stdout",
     "output_type": "stream",
     "text": [
      "Number of words not found in the word list:\n",
      "61917\n",
      " \n",
      "*** Profile stats marshalled to file '/tmp/tmpbfr04gos'.\n",
      "Embedding SnakeViz in this document...\n",
      "<function display at 0x7fcbf4512c20>\n"
     ]
    },
    {
     "data": {
      "text/html": [
       "\n",
       "<iframe id='snakeviz-c9d5e196-0343-11f0-a0fb-a96110915223' frameborder=0 seamless width='100%' height='1000'></iframe>\n",
       "<script>document.getElementById(\"snakeviz-c9d5e196-0343-11f0-a0fb-a96110915223\").setAttribute(\"src\", \"http://localhost:8900/snakeviz/%2Ftmp%2Ftmpbfr04gos\")</script>\n"
      ],
      "text/plain": [
       "<IPython.core.display.HTML object>"
      ]
     },
     "metadata": {},
     "output_type": "display_data"
    }
   ],
   "source": [
    "%%snakeviz\n",
    "# try this example without functions\n",
    "def load_word_list(file_path):\n",
    "    with open(file_path, 'r') as file:\n",
    "        return set(word.strip() for word in file)\n",
    "\n",
    "def check_words_against_file(main_file_path, word_file_path):\n",
    "    unmatched_words = []\n",
    "    \n",
    "    word_list = load_word_list(word_file_path)\n",
    "\n",
    "    with open(main_file_path, 'r') as file:\n",
    "        for line in file:\n",
    "            words = line.split()\n",
    "            for word in words:\n",
    "                word = word.strip(',.?!;:\"\\'').lower()\n",
    "                if word not in word_list:\n",
    "                    unmatched_words.append(word)\n",
    "\n",
    "    return unmatched_words\n",
    "\n",
    "# Example usage:\n",
    "main_file_path = '../data/anage_data.txt'\n",
    "word_file_path = '../data/to_match.txt'\n",
    "\n",
    "\n",
    "# %lprun -f check_words_against_file check_words_against_file(main_file_path, word_file_path)\n",
    "unmatched_words = check_words_against_file(main_file_path, word_file_path)\n",
    "\n",
    "# Print unmatched words\n",
    "print(\"Number of words not found in the word list:\")\n",
    "print(len(unmatched_words))"
   ]
  },
  {
   "cell_type": "markdown",
   "metadata": {},
   "source": [
    "## Unit testing"
   ]
  },
  {
   "cell_type": "markdown",
   "metadata": {},
   "source": [
    "- **Early Bug Detection**: Unit tests catch bugs early, reducing debugging time.\n",
    "  \n",
    "- **Safe Refactoring**: Unit tests ensure code changes don't break existing functionality.\n",
    "  \n",
    "- **Improved Code Quality**: Unit tests encourage modular, maintainable code design."
   ]
  },
  {
   "cell_type": "markdown",
   "metadata": {},
   "source": [
    "### How do we unit-test?"
   ]
  },
  {
   "cell_type": "markdown",
   "metadata": {},
   "source": [
    "Pytest is a popular and powerful framework for writing tests in Python.\n",
    "\n",
    "- It allows you to write various types of tests like unit tests, integration tests, and functional tests.\n",
    "- It is easy to and can handle complex testing needs.\n",
    "\n",
    "\n",
    "Ipytest is a Python library that allows you to run tests written with the pytest framework inside Jupyter notebooks.\n",
    "\n"
   ]
  },
  {
   "cell_type": "code",
   "execution_count": 18,
   "metadata": {},
   "outputs": [],
   "source": [
    "import ipytest\n",
    "ipytest.autoconfig()"
   ]
  },
  {
   "cell_type": "code",
   "execution_count": 19,
   "metadata": {},
   "outputs": [],
   "source": [
    "def factorial(n):\n",
    "    if n == 0:\n",
    "        return 1\n",
    "    else:\n",
    "        return n * factorial(n - 1)\n",
    "    \n",
    "def test_factorial():\n",
    "    assert factorial(0) == 1\n",
    "    assert factorial(1) == 1\n",
    "    assert factorial(2) == 2\n",
    "    assert factorial(3) == 6\n",
    "    assert factorial(4) == 24\n",
    "    assert factorial(5) == 120"
   ]
  },
  {
   "cell_type": "code",
   "execution_count": 20,
   "metadata": {},
   "outputs": [
    {
     "name": "stdout",
     "output_type": "stream",
     "text": [
      "\u001b[1m======================================= test session starts ========================================\u001b[0m\n",
      "platform linux -- Python 3.10.12, pytest-8.2.1, pluggy-1.5.0\n",
      "rootdir: /home/pupkolab/Dev/PyDataSciBio/sessions\n",
      "plugins: anyio-4.3.0\n",
      "collected 1 item\n",
      "\n",
      "t_2bff95c1d7f74212a31c3da6882e4fe6.py \u001b[32m.\u001b[0m\u001b[32m                                                      [100%]\u001b[0m\n",
      "\n",
      "\u001b[32m======================================== \u001b[32m\u001b[1m1 passed\u001b[0m\u001b[32m in 0.01s\u001b[0m\u001b[32m =========================================\u001b[0m\n"
     ]
    },
    {
     "data": {
      "text/plain": [
       "<ExitCode.OK: 0>"
      ]
     },
     "execution_count": 20,
     "metadata": {},
     "output_type": "execute_result"
    }
   ],
   "source": [
    "ipytest.run('-v')"
   ]
  },
  {
   "cell_type": "markdown",
   "metadata": {},
   "source": [
    "### Exercise\n",
    "\n",
    "Below is a function that calculates the length of the largest side of a right triangle given the lengths of the other two sides using the [Pythagorean theorem](http://en.wikipedia.org/wiki/Pythagorean_theorem):\n",
    "\n",
    "$$ a^2 + b^2 = c^2 $$"
   ]
  },
  {
   "cell_type": "code",
   "execution_count": 3,
   "metadata": {},
   "outputs": [],
   "source": [
    "def pythagoras(a,b):\n",
    "    c2 = a**2 + b**2\n",
    "    return c**0.5"
   ]
  },
  {
   "cell_type": "markdown",
   "metadata": {},
   "source": [
    "Write a series of tests to test the function."
   ]
  },
  {
   "cell_type": "code",
   "execution_count": null,
   "metadata": {},
   "outputs": [],
   "source": [
    "ipytest.autoconfig()\n",
    "\n"
   ]
  },
  {
   "cell_type": "markdown",
   "metadata": {},
   "source": [
    "### Exercise\n",
    "\n",
    "Here's a code that calculates the mass of a protein given its amino acid sequence. The code has several bugs, fix them all untill the assertion below suceeds silently."
   ]
  },
  {
   "cell_type": "code",
   "execution_count": 15,
   "metadata": {},
   "outputs": [],
   "source": [
    "weights = {'D': 115.02694, 'E': 129.04259, 'R': 156.10111, 'S': 87.03203, 'M': 131.04049, 'W': 186.07931, 'P': 97.05276, 'C': 103.00919, 'V': 99.06841, 'I': 113.08406, 'G': 57.02146, 'A': 71.03711, 'L': 113.08406, 'N': 114.04293, 'T': 101.04768, 'k': 128.09496, 'Q': 128.05858, 'H': 137.05891, 'F': 147.06841, 'Y': '163.06333'}"
   ]
  },
  {
   "cell_type": "code",
   "execution_count": 23,
   "metadata": {},
   "outputs": [],
   "source": [
    "def protein_mass(sequence)\n",
    "    mass = 0\n",
    "    for aa in sequence:\n",
    "        if aa not in weights:\n",
    "            raise ValueError \"Input sequence contains an illegal aa: {}\".format(aa)\n",
    "        mass =+ weigts(aa)\n",
    "    return mass"
   ]
  },
  {
   "cell_type": "code",
   "execution_count": 24,
   "metadata": {},
   "outputs": [
    {
     "name": "stdout",
     "output_type": "stream",
     "text": [
      "S 87.03203\n",
      "K 128.09496\n",
      "A 71.03711\n",
      "D 115.02694\n",
      "Y 163.06333\n",
      "E 129.04259\n",
      "K 128.09496\n"
     ]
    }
   ],
   "source": [
    "seq = 'SKADYEK'\n",
    "assert round(protein_mass(seq), 3) == 821.392"
   ]
  }
 ],
 "metadata": {
  "kernelspec": {
   "display_name": "pyCourse",
   "language": "python",
   "name": "python3"
  },
  "language_info": {
   "codemirror_mode": {
    "name": "ipython",
    "version": 3
   },
   "file_extension": ".py",
   "mimetype": "text/x-python",
   "name": "python",
   "nbconvert_exporter": "python",
   "pygments_lexer": "ipython3",
   "version": "3.10.12"
  }
 },
 "nbformat": 4,
 "nbformat_minor": 4
}
