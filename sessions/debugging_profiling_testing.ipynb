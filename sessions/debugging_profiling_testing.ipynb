{
 "cells": [
  {
   "cell_type": "markdown",
   "metadata": {},
   "source": [
    "# Debugging, Profiling and Testing in Python"
   ]
  },
  {
   "cell_type": "markdown",
   "metadata": {},
   "source": [
    "## Python under-the-hood"
   ]
  },
  {
   "cell_type": "markdown",
   "metadata": {},
   "source": [
    "### What happens when I click run on a python script/cell?\n",
    "\n",
    "1. **Parser**: Checks syntax and breaks down Python code into manageable parts.\n",
    "  \n",
    "1. **Interpreter**: \n",
    "    - Translates parsed code into bytecode, optimizing it for execution.\n",
    "    - Executes bytecode, producing the output defined by the Python code, and manages program execution."
   ]
  },
  {
   "cell_type": "markdown",
   "metadata": {},
   "source": [
    "As programmers, we hope the all our bugs are of the first and second kind, That way, Python takes care of our mistakes for us, and returns an 'error' message and stop execution as expected.\n",
    "Logical Errors will not stop the execution of the program."
   ]
  },
  {
   "cell_type": "markdown",
   "metadata": {},
   "source": [
    "### The three main types of program errors:\n",
    "\n",
    "- Syntax Errors\n",
    "- Runtime Errors\n",
    "- Logical Errors"
   ]
  },
  {
   "cell_type": "markdown",
   "metadata": {},
   "source": [
    "### Syntax error example:"
   ]
  },
  {
   "cell_type": "code",
   "execution_count": null,
   "metadata": {},
   "outputs": [],
   "source": [
    "def say_hello(name)\n",
    "    print(\"Hello\" ,name,\"!\")"
   ]
  },
  {
   "cell_type": "markdown",
   "metadata": {},
   "source": [
    "### Runtime error example:"
   ]
  },
  {
   "cell_type": "code",
   "execution_count": null,
   "metadata": {},
   "outputs": [],
   "source": [
    "numerator = 10\n",
    "denominator = 0\n",
    "\n",
    "result = numerator/denominator\n",
    "result"
   ]
  },
  {
   "cell_type": "markdown",
   "metadata": {},
   "source": [
    "#### Another example:"
   ]
  },
  {
   "cell_type": "code",
   "execution_count": null,
   "metadata": {},
   "outputs": [],
   "source": [
    "result = \"Hello\" + 42\n",
    "result"
   ]
  },
  {
   "cell_type": "markdown",
   "metadata": {},
   "source": [
    "### Logical error example:"
   ]
  },
  {
   "cell_type": "code",
   "execution_count": null,
   "metadata": {},
   "outputs": [],
   "source": [
    "data = [10, 20, 30, 40, 50]\n",
    "total = sum(data)\n",
    "count = len(data)\n",
    "average = total / (count + 1)\n",
    "\n",
    "average"
   ]
  },
  {
   "cell_type": "markdown",
   "metadata": {},
   "source": [
    "#### Another example:"
   ]
  },
  {
   "cell_type": "code",
   "execution_count": null,
   "metadata": {},
   "outputs": [],
   "source": [
    "def calculate_discounted_price(original_price, discount_percentage):\n",
    "    discounted_price = original_price - discount_percentage\n",
    "    return discounted_price\n",
    "\n",
    "pants_price = 100\n",
    "discount = 20\n",
    "final_price = calculate_discounted_price(pants_price, discount)\n",
    "final_price"
   ]
  },
  {
   "cell_type": "markdown",
   "metadata": {},
   "source": [
    "### Exercises\n",
    "\n",
    "Fix the following bugs"
   ]
  },
  {
   "cell_type": "code",
   "execution_count": null,
   "metadata": {},
   "outputs": [],
   "source": [
    "x = 1\n",
    "y = 0\n",
    "while x < 4:\n",
    "    y += x\n",
    "print(y)"
   ]
  },
  {
   "cell_type": "code",
   "execution_count": null,
   "metadata": {},
   "outputs": [],
   "source": [
    "switch = 'on'\n",
    "if switch = 'off':\n",
    "    print('go home')"
   ]
  },
  {
   "cell_type": "code",
   "execution_count": null,
   "metadata": {},
   "outputs": [],
   "source": [
    "range(2.5)"
   ]
  },
  {
   "cell_type": "code",
   "execution_count": null,
   "metadata": {},
   "outputs": [],
   "source": [
    "range(2,3,0)"
   ]
  },
  {
   "cell_type": "markdown",
   "metadata": {},
   "source": [
    "### How do we debug our code?"
   ]
  },
  {
   "cell_type": "markdown",
   "metadata": {},
   "source": [
    "- **Print Statements**: Output variable values or execution flow strategically.\n",
    "  \n",
    "- **Debugger**: Use built-in or IDE debuggers for real-time code inspection and variable tracking.\n",
    "  \n",
    "- **Logging**: Record diagnostic info with Python's logging module.\n",
    "  \n",
    "- **Assertions**: Validate conditions with `assert` statements to catch errors.\n",
    "  \n",
    "- **Interactive Exploration**: Experiment interactively in environments like Jupyter.\n",
    "  \n",
    "- **Profiling Tools**: Analyze code performance with tools like `snakeviz` for optimization."
   ]
  },
  {
   "cell_type": "markdown",
   "metadata": {},
   "source": [
    "We will focus on real-time code inspection, interactive exploration, and profiling."
   ]
  },
  {
   "cell_type": "markdown",
   "metadata": {},
   "source": [
    "### Exercise\n",
    "\n",
    "Find the bug in the following code:"
   ]
  },
  {
   "cell_type": "code",
   "execution_count": null,
   "metadata": {},
   "outputs": [],
   "source": [
    "def factorial(n):\n",
    "    if n == 0:\n",
    "        return 1\n",
    "    else:\n",
    "        return n * factorial(n - 1)\n",
    "\n",
    "result = factorial(5) # try a float\n",
    "print(\"Factorial of 5:\", result)"
   ]
  },
  {
   "cell_type": "markdown",
   "metadata": {},
   "source": [
    "### mutability  vs immutability."
   ]
  },
  {
   "cell_type": "code",
   "execution_count": null,
   "metadata": {},
   "outputs": [],
   "source": [
    "def add_to_list(item, my_list=[]):  # Mutable default argument!\n",
    "    my_list.append(item)\n",
    "    return my_list\n",
    "\n",
    "# First call\n",
    "print(\"First call:\")\n",
    "result1 = add_to_list(\"apple\")\n",
    "print(result1)  # Output: ['apple']\n",
    "\n",
    "# Second call - expecting a new list with just \"banana\"\n",
    "print(\"\\nSecond call:\")\n",
    "result2 = add_to_list(\"banana\")\n",
    "print(result2)  # Output: ['apple', 'banana'] - SURPRISE!"
   ]
  },
  {
   "cell_type": "code",
   "execution_count": null,
   "metadata": {},
   "outputs": [],
   "source": [
    "def add_to_list_fixed(item, my_list=None):\n",
    "    if my_list is None:\n",
    "        my_list = []  # Create a new list each time\n",
    "    my_list.append(item)\n",
    "    return my_list\n",
    "\n",
    "print(\"\\n\\nFixed version:\")\n",
    "\n",
    "# First call\n",
    "print(\"First call (fixed):\")\n",
    "fixed1 = add_to_list_fixed(\"apple\")\n",
    "print(fixed1)  # Output: ['apple']\n",
    "\n",
    "# Second call\n",
    "print(\"\\nSecond call (fixed):\")\n",
    "fixed2 = add_to_list_fixed(\"banana\")\n",
    "print(fixed2)  # Output: ['banana'] - Works as expected!"
   ]
  },
  {
   "cell_type": "markdown",
   "metadata": {},
   "source": [
    "https://pythontutor.com/\n",
    "\n",
    "https://pythonspeed.com/articles/minimizing-copying/"
   ]
  },
  {
   "cell_type": "markdown",
   "metadata": {},
   "source": [
    "## Profiling"
   ]
  },
  {
   "cell_type": "markdown",
   "metadata": {},
   "source": [
    "Profiling is the process of analyzing your code's performance by measuring its execution time, memory usage, and resource allocation. It helps identify bottlenecks and inefficiencies that might not be obvious just by reading the code.\n",
    "\n",
    "### Why is profiling important?\n",
    "\n",
    "- **Performance Optimization**: Identify which parts of your code are consuming the most resources\n",
    "- **Efficiency Improvements**: Focus your optimization efforts where they'll have the biggest impact\n",
    "- **Scalability Planning**: Understand how your code will perform with larger datasets or more users\n",
    "- **Resource Management**: Monitor memory usage to prevent leaks and excessive consumption\n",
    "\n",
    "### Common profiling tools in Python:\n",
    "\n",
    "1. **cProfile**: Python's built-in deterministic profiler\n",
    "   - Measures function call counts and execution times\n",
    "   - Low overhead, suitable for most applications\n",
    "   - Can be run from command line or within code\n",
    "\n",
    "2. **line_profiler**: Line-by-line profiling\n",
    "   - More granular than cProfile, showing time spent on each line\n",
    "   - Useful for identifying specific operations that are slow\n",
    "   - Available through the `%lprun` magic in IPython/Jupyter\n",
    "\n",
    "3. **memory_profiler**: Tracks memory usage\n",
    "   - Monitors memory consumption line by line\n",
    "   - Helps identify memory leaks and excessive allocations\n",
    "   - Available through the `%mprun` magic in IPython/Jupyter\n",
    "\n",
    "4. **Snakeviz**: Visualization tool for cProfile data\n",
    "   - Creates interactive visualizations of profiling results\n",
    "   - Helps understand call relationships and time distribution\n",
    "   - We'll be using this in our examples below\n",
    "\n",
    "### Profiling workflow:\n",
    "\n",
    "1. Run your code with the profiler\n",
    "2. Analyze the results to identify bottlenecks\n",
    "3. Optimize the problematic sections\n",
    "4. Re-profile to confirm improvements\n",
    "5. Repeat until performance is satisfactory\n",
    "\n",
    "Let's see profiling in action with some examples:"
   ]
  },
  {
   "cell_type": "code",
   "execution_count": null,
   "metadata": {},
   "outputs": [],
   "source": [
    "%load_ext snakeviz\n",
    "%snakeviz_config -h localhost -p 8900"
   ]
  },
  {
   "cell_type": "code",
   "execution_count": null,
   "metadata": {},
   "outputs": [],
   "source": [
    "%%snakeviz\n",
    "# https://blog.finxter.com/python-cprofile-a-helpful-guide-with-prime-example/\n",
    "import random\n",
    "\n",
    "def guess():\n",
    "    ''' Returns a random number '''\n",
    "    return random.randint(2, 1000)\n",
    "\n",
    "def is_prime(n):\n",
    "    ''' Checks whether n is prime '''\n",
    "    for i in range(2, n):\n",
    "        for j in range(2, n):\n",
    "            if i * j == n:\n",
    "                return False\n",
    "    return True\n",
    "\n",
    "def find_primes(num):\n",
    "    primes = []\n",
    "    while len(primes) < num:\n",
    "        p = guess()\n",
    "        if is_prime(p):\n",
    "        \tprimes.append(p)\n",
    "    return primes\n",
    "\n",
    "print(find_primes(100))"
   ]
  },
  {
   "cell_type": "markdown",
   "metadata": {},
   "source": [
    "### Another example:"
   ]
  },
  {
   "cell_type": "code",
   "execution_count": null,
   "metadata": {},
   "outputs": [],
   "source": [
    "%%snakeviz\n",
    "# try this example without functions\n",
    "def load_word_list(file_path):\n",
    "    with open(file_path, 'r') as file:\n",
    "        return set(word.strip() for word in file)\n",
    "\n",
    "def check_words_against_file(main_file_path, word_file_path):\n",
    "    unmatched_words = []\n",
    "    \n",
    "    word_list = load_word_list(word_file_path)\n",
    "\n",
    "    with open(main_file_path, 'r') as file:\n",
    "        for line in file:\n",
    "            words = line.split()\n",
    "            for word in words:\n",
    "                word = word.strip(',.?!;:\"\\'').lower()\n",
    "                if word not in word_list:\n",
    "                    unmatched_words.append(word)\n",
    "\n",
    "    return unmatched_words\n",
    "\n",
    "# Example usage:\n",
    "main_file_path = '../data/anage_data.txt'\n",
    "word_file_path = '../data/to_match.txt'\n",
    "\n",
    "\n",
    "# %lprun -f check_words_against_file check_words_against_file(main_file_path, word_file_path)\n",
    "unmatched_words = check_words_against_file(main_file_path, word_file_path)\n",
    "\n",
    "# Print unmatched words\n",
    "print(\"Number of words not found in the word list:\")\n",
    "print(len(unmatched_words))"
   ]
  },
  {
   "cell_type": "markdown",
   "metadata": {},
   "source": [
    "## Unit testing"
   ]
  },
  {
   "cell_type": "markdown",
   "metadata": {},
   "source": [
    "- **Early Bug Detection**: Unit tests catch bugs early, reducing debugging time.\n",
    "  \n",
    "- **Safe Refactoring**: Unit tests ensure code changes don't break existing functionality.\n",
    "  \n",
    "- **Improved Code Quality**: Unit tests encourage modular, maintainable code design."
   ]
  },
  {
   "cell_type": "markdown",
   "metadata": {},
   "source": [
    "### How do we unit-test?"
   ]
  },
  {
   "cell_type": "markdown",
   "metadata": {},
   "source": [
    "Pytest is a popular and powerful framework for writing tests in Python.\n",
    "\n",
    "- It allows you to write various types of tests like unit tests, integration tests, and functional tests.\n",
    "- It is easy to and can handle complex testing needs.\n",
    "\n",
    "\n",
    "Ipytest is a Python library that allows you to run tests written with the pytest framework inside Jupyter notebooks.\n",
    "\n"
   ]
  },
  {
   "cell_type": "code",
   "execution_count": null,
   "metadata": {},
   "outputs": [],
   "source": [
    "import ipytest\n",
    "ipytest.autoconfig()"
   ]
  },
  {
   "cell_type": "code",
   "execution_count": null,
   "metadata": {},
   "outputs": [],
   "source": [
    "def factorial(n):\n",
    "    if n == 0:\n",
    "        return 1\n",
    "    else:\n",
    "        return n * factorial(n - 1)\n",
    "    \n",
    "def test_factorial():\n",
    "    assert factorial(0) == 1\n",
    "    assert factorial(1) == 1\n",
    "    assert factorial(2) == 2\n",
    "    assert factorial(3) == 6\n",
    "    assert factorial(4) == 24\n",
    "    assert factorial(5) == 120"
   ]
  },
  {
   "cell_type": "code",
   "execution_count": null,
   "metadata": {},
   "outputs": [],
   "source": [
    "ipytest.run('-v')"
   ]
  },
  {
   "cell_type": "markdown",
   "metadata": {},
   "source": [
    "### Exercise\n",
    "\n",
    "Below is a function that calculates the length of the largest side of a right triangle given the lengths of the other two sides using the [Pythagorean theorem](http://en.wikipedia.org/wiki/Pythagorean_theorem):\n",
    "\n",
    "$$ a^2 + b^2 = c^2 $$"
   ]
  },
  {
   "cell_type": "code",
   "execution_count": null,
   "metadata": {},
   "outputs": [],
   "source": [
    "def pythagoras(a,b):\n",
    "    c_squared = a**2 + b**2\n",
    "    return c_squared**0.5"
   ]
  },
  {
   "cell_type": "markdown",
   "metadata": {},
   "source": [
    "Write a series of tests to test the function."
   ]
  },
  {
   "cell_type": "code",
   "execution_count": null,
   "metadata": {},
   "outputs": [],
   "source": [
    "ipytest.autoconfig()\n",
    "\n"
   ]
  },
  {
   "cell_type": "markdown",
   "metadata": {},
   "source": [
    "### Exercise\n",
    "\n",
    "Here's a code that calculates the mass of a protein given its amino acid sequence. The code has several bugs, fix them all untill the assertion below suceeds silently."
   ]
  },
  {
   "cell_type": "code",
   "execution_count": null,
   "metadata": {},
   "outputs": [],
   "source": [
    "weights = {'D': 115.02694, 'E': 129.04259, 'R': 156.10111, 'S': 87.03203, 'M': 131.04049, 'W': 186.07931, 'P': 97.05276, 'C': 103.00919, 'V': 99.06841, 'I': 113.08406, 'G': 57.02146, 'A': 71.03711, 'L': 113.08406, 'N': 114.04293, 'T': 101.04768, 'k': 128.09496, 'Q': 128.05858, 'H': 137.05891, 'F': 147.06841, 'Y': '163.06333'}"
   ]
  },
  {
   "cell_type": "code",
   "execution_count": null,
   "metadata": {},
   "outputs": [],
   "source": [
    "def protein_mass(sequence)\n",
    "    mass = 0\n",
    "    for aa in sequence:\n",
    "        if aa not in weights:\n",
    "            raise ValueError \"Input sequence contains an illegal aa: {}\".format(aa)\n",
    "        mass =+ weigts(aa)\n",
    "    return mass"
   ]
  },
  {
   "cell_type": "code",
   "execution_count": null,
   "metadata": {},
   "outputs": [],
   "source": [
    "seq = 'SKADYEK'\n",
    "assert round(protein_mass(seq), 3) == 821.392"
   ]
  }
 ],
 "metadata": {
  "kernelspec": {
   "display_name": "pyCourse",
   "language": "python",
   "name": "python3"
  },
  "language_info": {
   "codemirror_mode": {
    "name": "ipython",
    "version": 3
   },
   "file_extension": ".py",
   "mimetype": "text/x-python",
   "name": "python",
   "nbconvert_exporter": "python",
   "pygments_lexer": "ipython3",
   "version": "3.10.12"
  }
 },
 "nbformat": 4,
 "nbformat_minor": 4
}
