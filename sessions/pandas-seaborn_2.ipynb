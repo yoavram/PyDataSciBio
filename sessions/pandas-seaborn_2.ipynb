{
 "cells": [
  {
   "cell_type": "markdown",
   "metadata": {},
   "source": [
    "# Pandas and Seaborn!"
   ]
  },
  {
   "cell_type": "markdown",
   "metadata": {},
   "source": [
    "_Pandas_ is a very strong library for manipulating large and complex datasets using a new data structure, the **data frame**, which models a table of data.\n",
    "Pandas helps to close the gap between Python and R for data analysis and statistical computing.\n",
    "\n",
    "Pandas data frames address three deficiencies of NumPy arrays:\n",
    "\n",
    "- data frame hold heterogenous data; each column can have its own numpy.dtype,\n",
    "- the axes of a data frame are labeled with column names and row indices,\n",
    "- and, they account for missing values which this is not directly supported by arrays.\n",
    "\n",
    "Data frames are extremely useful for data manipulation.\n",
    "They provide a large range of operations such as filter, join, and group-by aggregation, as well as plotting."
   ]
  },
  {
   "cell_type": "code",
   "execution_count": 1,
   "metadata": {},
   "outputs": [
    {
     "name": "stdout",
     "output_type": "stream",
     "text": [
      "Pandas version: 2.1.4\n"
     ]
    }
   ],
   "source": [
    "import numpy as np\n",
    "import pandas as pd\n",
    "import matplotlib.pyplot as plt\n",
    "print('Pandas version:', pd.__version__)"
   ]
  },
  {
   "cell_type": "markdown",
   "metadata": {},
   "source": [
    "# Data Analysis of Life History Traits"
   ]
  },
  {
   "cell_type": "markdown",
   "metadata": {},
   "source": [
    "We will analyze animal life-history data from [AnAge](http://genomics.senescence.info/download.html#anage). "
   ]
  },
  {
   "cell_type": "code",
   "execution_count": 2,
   "metadata": {},
   "outputs": [
    {
     "name": "stdout",
     "output_type": "stream",
     "text": [
      "<class 'pandas.core.frame.DataFrame'>\n",
      "(4219, 31)\n"
     ]
    }
   ],
   "source": [
    "data = pd.read_csv('../data/anage_data.txt', sep='\\t') # lots of other pd.read_... functions\n",
    "print(type(data))\n",
    "print(data.shape)"
   ]
  },
  {
   "cell_type": "markdown",
   "metadata": {},
   "source": [
    "Pandas holds data in `DataFrame` (similar to _R_).\n",
    "`DataFrame` have a single row per observation (in contrast to the previous exercise in which each table cell was one observation), and each column has a single variable. Variables can be numbers or strings.\n",
    "\n",
    "The `head` method gives us the 5 first rows of the data frame."
   ]
  },
  {
   "cell_type": "code",
   "execution_count": 3,
   "metadata": {},
   "outputs": [
    {
     "data": {
      "text/html": [
       "<div>\n",
       "<style scoped>\n",
       "    .dataframe tbody tr th:only-of-type {\n",
       "        vertical-align: middle;\n",
       "    }\n",
       "\n",
       "    .dataframe tbody tr th {\n",
       "        vertical-align: top;\n",
       "    }\n",
       "\n",
       "    .dataframe thead th {\n",
       "        text-align: right;\n",
       "    }\n",
       "</style>\n",
       "<table border=\"1\" class=\"dataframe\">\n",
       "  <thead>\n",
       "    <tr style=\"text-align: right;\">\n",
       "      <th></th>\n",
       "      <th>HAGRID</th>\n",
       "      <th>Kingdom</th>\n",
       "      <th>Phylum</th>\n",
       "      <th>Class</th>\n",
       "      <th>Order</th>\n",
       "      <th>Family</th>\n",
       "      <th>Genus</th>\n",
       "      <th>Species</th>\n",
       "      <th>Common name</th>\n",
       "      <th>Female maturity (days)</th>\n",
       "      <th>...</th>\n",
       "      <th>Source</th>\n",
       "      <th>Specimen origin</th>\n",
       "      <th>Sample size</th>\n",
       "      <th>Data quality</th>\n",
       "      <th>IMR (per yr)</th>\n",
       "      <th>MRDT (yrs)</th>\n",
       "      <th>Metabolic rate (W)</th>\n",
       "      <th>Body mass (g)</th>\n",
       "      <th>Temperature (K)</th>\n",
       "      <th>References</th>\n",
       "    </tr>\n",
       "  </thead>\n",
       "  <tbody>\n",
       "    <tr>\n",
       "      <th>0</th>\n",
       "      <td>3</td>\n",
       "      <td>Animalia</td>\n",
       "      <td>Arthropoda</td>\n",
       "      <td>Branchiopoda</td>\n",
       "      <td>Diplostraca</td>\n",
       "      <td>Daphniidae</td>\n",
       "      <td>Daphnia</td>\n",
       "      <td>pulicaria</td>\n",
       "      <td>Daphnia</td>\n",
       "      <td>NaN</td>\n",
       "      <td>...</td>\n",
       "      <td>NaN</td>\n",
       "      <td>unknown</td>\n",
       "      <td>medium</td>\n",
       "      <td>acceptable</td>\n",
       "      <td>NaN</td>\n",
       "      <td>NaN</td>\n",
       "      <td>NaN</td>\n",
       "      <td>NaN</td>\n",
       "      <td>NaN</td>\n",
       "      <td>1294,1295,1296</td>\n",
       "    </tr>\n",
       "    <tr>\n",
       "      <th>1</th>\n",
       "      <td>5</td>\n",
       "      <td>Animalia</td>\n",
       "      <td>Arthropoda</td>\n",
       "      <td>Insecta</td>\n",
       "      <td>Diptera</td>\n",
       "      <td>Drosophilidae</td>\n",
       "      <td>Drosophila</td>\n",
       "      <td>melanogaster</td>\n",
       "      <td>Fruit fly</td>\n",
       "      <td>7.0</td>\n",
       "      <td>...</td>\n",
       "      <td>NaN</td>\n",
       "      <td>captivity</td>\n",
       "      <td>large</td>\n",
       "      <td>acceptable</td>\n",
       "      <td>0.05</td>\n",
       "      <td>0.04</td>\n",
       "      <td>NaN</td>\n",
       "      <td>NaN</td>\n",
       "      <td>NaN</td>\n",
       "      <td>2,20,32,47,53,68,69,240,241,242,243,274,602,98...</td>\n",
       "    </tr>\n",
       "    <tr>\n",
       "      <th>2</th>\n",
       "      <td>6</td>\n",
       "      <td>Animalia</td>\n",
       "      <td>Arthropoda</td>\n",
       "      <td>Insecta</td>\n",
       "      <td>Hymenoptera</td>\n",
       "      <td>Apidae</td>\n",
       "      <td>Apis</td>\n",
       "      <td>mellifera</td>\n",
       "      <td>Honey bee</td>\n",
       "      <td>NaN</td>\n",
       "      <td>...</td>\n",
       "      <td>812</td>\n",
       "      <td>unknown</td>\n",
       "      <td>medium</td>\n",
       "      <td>acceptable</td>\n",
       "      <td>NaN</td>\n",
       "      <td>NaN</td>\n",
       "      <td>NaN</td>\n",
       "      <td>NaN</td>\n",
       "      <td>NaN</td>\n",
       "      <td>63,407,408,741,805,806,808,812,815,828,830,831...</td>\n",
       "    </tr>\n",
       "    <tr>\n",
       "      <th>3</th>\n",
       "      <td>8</td>\n",
       "      <td>Animalia</td>\n",
       "      <td>Arthropoda</td>\n",
       "      <td>Insecta</td>\n",
       "      <td>Hymenoptera</td>\n",
       "      <td>Formicidae</td>\n",
       "      <td>Cardiocondyla</td>\n",
       "      <td>obscurior</td>\n",
       "      <td>Cardiocondyla obscurior</td>\n",
       "      <td>NaN</td>\n",
       "      <td>...</td>\n",
       "      <td>1293</td>\n",
       "      <td>captivity</td>\n",
       "      <td>medium</td>\n",
       "      <td>acceptable</td>\n",
       "      <td>NaN</td>\n",
       "      <td>NaN</td>\n",
       "      <td>NaN</td>\n",
       "      <td>NaN</td>\n",
       "      <td>NaN</td>\n",
       "      <td>1293</td>\n",
       "    </tr>\n",
       "    <tr>\n",
       "      <th>4</th>\n",
       "      <td>9</td>\n",
       "      <td>Animalia</td>\n",
       "      <td>Arthropoda</td>\n",
       "      <td>Insecta</td>\n",
       "      <td>Hymenoptera</td>\n",
       "      <td>Formicidae</td>\n",
       "      <td>Lasius</td>\n",
       "      <td>niger</td>\n",
       "      <td>Black garden ant</td>\n",
       "      <td>NaN</td>\n",
       "      <td>...</td>\n",
       "      <td>411</td>\n",
       "      <td>unknown</td>\n",
       "      <td>medium</td>\n",
       "      <td>acceptable</td>\n",
       "      <td>NaN</td>\n",
       "      <td>NaN</td>\n",
       "      <td>NaN</td>\n",
       "      <td>NaN</td>\n",
       "      <td>NaN</td>\n",
       "      <td>411,813,814</td>\n",
       "    </tr>\n",
       "  </tbody>\n",
       "</table>\n",
       "<p>5 rows × 31 columns</p>\n",
       "</div>"
      ],
      "text/plain": [
       "   HAGRID   Kingdom      Phylum         Class        Order         Family  \\\n",
       "0       3  Animalia  Arthropoda  Branchiopoda  Diplostraca     Daphniidae   \n",
       "1       5  Animalia  Arthropoda       Insecta      Diptera  Drosophilidae   \n",
       "2       6  Animalia  Arthropoda       Insecta  Hymenoptera         Apidae   \n",
       "3       8  Animalia  Arthropoda       Insecta  Hymenoptera     Formicidae   \n",
       "4       9  Animalia  Arthropoda       Insecta  Hymenoptera     Formicidae   \n",
       "\n",
       "           Genus       Species              Common name  \\\n",
       "0        Daphnia     pulicaria                  Daphnia   \n",
       "1     Drosophila  melanogaster                Fruit fly   \n",
       "2           Apis     mellifera                Honey bee   \n",
       "3  Cardiocondyla     obscurior  Cardiocondyla obscurior   \n",
       "4         Lasius         niger         Black garden ant   \n",
       "\n",
       "   Female maturity (days)  ...  Source  Specimen origin  Sample size  \\\n",
       "0                     NaN  ...     NaN          unknown       medium   \n",
       "1                     7.0  ...     NaN        captivity        large   \n",
       "2                     NaN  ...     812          unknown       medium   \n",
       "3                     NaN  ...    1293        captivity       medium   \n",
       "4                     NaN  ...     411          unknown       medium   \n",
       "\n",
       "   Data quality  IMR (per yr)  MRDT (yrs)  Metabolic rate (W)  Body mass (g)  \\\n",
       "0    acceptable           NaN         NaN                 NaN            NaN   \n",
       "1    acceptable          0.05        0.04                 NaN            NaN   \n",
       "2    acceptable           NaN         NaN                 NaN            NaN   \n",
       "3    acceptable           NaN         NaN                 NaN            NaN   \n",
       "4    acceptable           NaN         NaN                 NaN            NaN   \n",
       "\n",
       "   Temperature (K)                                         References  \n",
       "0              NaN                                     1294,1295,1296  \n",
       "1              NaN  2,20,32,47,53,68,69,240,241,242,243,274,602,98...  \n",
       "2              NaN  63,407,408,741,805,806,808,812,815,828,830,831...  \n",
       "3              NaN                                               1293  \n",
       "4              NaN                                        411,813,814  \n",
       "\n",
       "[5 rows x 31 columns]"
      ]
     },
     "execution_count": 3,
     "metadata": {},
     "output_type": "execute_result"
    }
   ],
   "source": [
    "data.head()"
   ]
  },
  {
   "cell_type": "markdown",
   "metadata": {},
   "source": [
    "In a pandas DataFrame, each column can have a different dtype, allowing flexibility in representing various types of data such as integers, floating-point numbers, strings, or boolean values. This distinction ensures that data is appropriately interpreted and manipulated during analysis, enabling efficient and accurate data processing in pandas.\n",
    "The `dtypes` method returns a Series containing the data types of each column in the DataFrame df. The index of the Series represents the column names, and the values represent the data types of the corresponding columns."
   ]
  },
  {
   "cell_type": "code",
   "execution_count": 4,
   "metadata": {},
   "outputs": [
    {
     "data": {
      "text/plain": [
       "HAGRID                                int64\n",
       "Kingdom                              object\n",
       "Phylum                               object\n",
       "Class                                object\n",
       "Order                                object\n",
       "Family                               object\n",
       "Genus                                object\n",
       "Species                              object\n",
       "Common name                          object\n",
       "Female maturity (days)              float64\n",
       "Male maturity (days)                float64\n",
       "Gestation/Incubation (days)         float64\n",
       "Weaning (days)                      float64\n",
       "Litter/Clutch size                  float64\n",
       "Litters/Clutches per year           float64\n",
       "Inter-litter/Interbirth interval    float64\n",
       "Birth weight (g)                    float64\n",
       "Weaning weight (g)                  float64\n",
       "Adult weight (g)                    float64\n",
       "Growth rate (1/days)                float64\n",
       "Maximum longevity (yrs)             float64\n",
       "Source                               object\n",
       "Specimen origin                      object\n",
       "Sample size                          object\n",
       "Data quality                         object\n",
       "IMR (per yr)                        float64\n",
       "MRDT (yrs)                          float64\n",
       "Metabolic rate (W)                  float64\n",
       "Body mass (g)                       float64\n",
       "Temperature (K)                     float64\n",
       "References                           object\n",
       "dtype: object"
      ]
     },
     "execution_count": 4,
     "metadata": {},
     "output_type": "execute_result"
    }
   ],
   "source": [
    "data.dtypes"
   ]
  },
  {
   "cell_type": "markdown",
   "metadata": {},
   "source": [
    "#### Identifying missing values\n",
    "\n",
    "To identify missing values, we can use the `isnull()` method, which returns a DataFrame of the same shape as data but with boolean values (True for NaN values and False otherwise). Appling `.sum()` on the resulting dataframe will give us the number of missing values per column."
   ]
  },
  {
   "cell_type": "code",
   "execution_count": 5,
   "metadata": {},
   "outputs": [
    {
     "name": "stdout",
     "output_type": "stream",
     "text": [
      "HAGRID                                 0\n",
      "Kingdom                                0\n",
      "Phylum                                 0\n",
      "Class                                  0\n",
      "Order                                  0\n",
      "Family                                 0\n",
      "Genus                                  0\n",
      "Species                                0\n",
      "Common name                            0\n",
      "Female maturity (days)              2142\n",
      "Male maturity (days)                2515\n",
      "Gestation/Incubation (days)         2515\n",
      "Weaning (days)                      3409\n",
      "Litter/Clutch size                  2140\n",
      "Litters/Clutches per year           2927\n",
      "Inter-litter/Interbirth interval    3456\n",
      "Birth weight (g)                    2995\n",
      "Weaning weight (g)                  3814\n",
      "Adult weight (g)                    1268\n",
      "Growth rate (1/days)                3660\n",
      "Maximum longevity (yrs)              442\n",
      "Source                               514\n",
      "Specimen origin                        0\n",
      "Sample size                            0\n",
      "Data quality                           0\n",
      "IMR (per yr)                        4176\n",
      "MRDT (yrs)                          4179\n",
      "Metabolic rate (W)                  3592\n",
      "Body mass (g)                       3592\n",
      "Temperature (K)                     3725\n",
      "References                             4\n",
      "dtype: int64\n"
     ]
    }
   ],
   "source": [
    "# Identify missing values\n",
    "missing_values = data.isnull().sum()\n",
    "print(missing_values)\n"
   ]
  },
  {
   "cell_type": "markdown",
   "metadata": {},
   "source": [
    "To remove rows with missing data, you can use the dropna() method. By default, dropna() removes all rows containing any missing values."
   ]
  },
  {
   "cell_type": "code",
   "execution_count": 6,
   "metadata": {},
   "outputs": [],
   "source": [
    "# Remove rows with any missing values\n",
    "data_clean = data.dropna()\n",
    "\n",
    "# Remove rows with missing values only in specific columns\n",
    "data_clean_specific = data.dropna(subset=['Female maturity (days)', 'Male maturity (days)'])\n",
    "\n",
    "# Remove rows where all values are missing\n",
    "data_clean_all = data.dropna(how='all')\n",
    "\n",
    "# Remove rows with a threshold number of non-missing values\n",
    "data_clean_thresh = data.dropna(thresh=2)  # Keeps rows with at least 2 non-missing values"
   ]
  },
  {
   "cell_type": "markdown",
   "metadata": {},
   "source": [
    "To remove columns with missing data, you can use the dropna() method along with specifying the axis parameter as 1 or 'columns'."
   ]
  },
  {
   "cell_type": "markdown",
   "metadata": {},
   "source": [
    "#### Grouping and aggregation\n",
    "\n",
    "Grouping in pandas involves splitting the data into groups based on some criteria. This can be a categorical variable or a function that returns group labels. The groupby() function is used to perform grouping in pandas.\n",
    "For example, in the AnAge dataset, you might want to group animals by their class (e.g., mammals, birds) to analyze characteristics specific to each class."
   ]
  },
  {
   "cell_type": "code",
   "execution_count": 7,
   "metadata": {},
   "outputs": [
    {
     "data": {
      "text/plain": [
       "<pandas.core.groupby.generic.DataFrameGroupBy object at 0x147396790>"
      ]
     },
     "execution_count": 7,
     "metadata": {},
     "output_type": "execute_result"
    }
   ],
   "source": [
    "grouped_data = data.groupby('Class')\n",
    "grouped_data"
   ]
  },
  {
   "cell_type": "markdown",
   "metadata": {},
   "source": [
    "Once the data is grouped, you can apply aggregation functions to each group to compute summary statistics. Aggregation functions include mean, median, sum, min, max, count, etc. The agg() function is commonly used for aggregation in pandas."
   ]
  },
  {
   "cell_type": "code",
   "execution_count": 8,
   "metadata": {},
   "outputs": [
    {
     "data": {
      "text/html": [
       "<div>\n",
       "<style scoped>\n",
       "    .dataframe tbody tr th:only-of-type {\n",
       "        vertical-align: middle;\n",
       "    }\n",
       "\n",
       "    .dataframe tbody tr th {\n",
       "        vertical-align: top;\n",
       "    }\n",
       "\n",
       "    .dataframe thead th {\n",
       "        text-align: right;\n",
       "    }\n",
       "</style>\n",
       "<table border=\"1\" class=\"dataframe\">\n",
       "  <thead>\n",
       "    <tr style=\"text-align: right;\">\n",
       "      <th></th>\n",
       "      <th>mean_adult_weight</th>\n",
       "      <th>max_longevity</th>\n",
       "    </tr>\n",
       "    <tr>\n",
       "      <th>Class</th>\n",
       "      <th></th>\n",
       "      <th></th>\n",
       "    </tr>\n",
       "  </thead>\n",
       "  <tbody>\n",
       "    <tr>\n",
       "      <th>Amphibia</th>\n",
       "      <td>49.011586</td>\n",
       "      <td>102.00</td>\n",
       "    </tr>\n",
       "    <tr>\n",
       "      <th>Aves</th>\n",
       "      <td>979.649646</td>\n",
       "      <td>83.00</td>\n",
       "    </tr>\n",
       "    <tr>\n",
       "      <th>Bivalvia</th>\n",
       "      <td>NaN</td>\n",
       "      <td>507.00</td>\n",
       "    </tr>\n",
       "    <tr>\n",
       "      <th>Branchiopoda</th>\n",
       "      <td>NaN</td>\n",
       "      <td>0.19</td>\n",
       "    </tr>\n",
       "    <tr>\n",
       "      <th>Cephalaspidomorphi</th>\n",
       "      <td>461.450000</td>\n",
       "      <td>10.00</td>\n",
       "    </tr>\n",
       "    <tr>\n",
       "      <th>Chondrichthyes</th>\n",
       "      <td>489921.219298</td>\n",
       "      <td>392.00</td>\n",
       "    </tr>\n",
       "    <tr>\n",
       "      <th>Chondrostei</th>\n",
       "      <td>223891.367308</td>\n",
       "      <td>152.00</td>\n",
       "    </tr>\n",
       "    <tr>\n",
       "      <th>Chromadorea</th>\n",
       "      <td>NaN</td>\n",
       "      <td>0.16</td>\n",
       "    </tr>\n",
       "    <tr>\n",
       "      <th>Cladistei</th>\n",
       "      <td>NaN</td>\n",
       "      <td>34.00</td>\n",
       "    </tr>\n",
       "    <tr>\n",
       "      <th>Coelacanthi</th>\n",
       "      <td>52250.000000</td>\n",
       "      <td>48.00</td>\n",
       "    </tr>\n",
       "    <tr>\n",
       "      <th>Demospongiae</th>\n",
       "      <td>NaN</td>\n",
       "      <td>1550.00</td>\n",
       "    </tr>\n",
       "    <tr>\n",
       "      <th>Dipnoi</th>\n",
       "      <td>NaN</td>\n",
       "      <td>80.00</td>\n",
       "    </tr>\n",
       "    <tr>\n",
       "      <th>Echinoidea</th>\n",
       "      <td>NaN</td>\n",
       "      <td>200.00</td>\n",
       "    </tr>\n",
       "    <tr>\n",
       "      <th>Hexactinellida</th>\n",
       "      <td>NaN</td>\n",
       "      <td>15000.00</td>\n",
       "    </tr>\n",
       "    <tr>\n",
       "      <th>Holostei</th>\n",
       "      <td>5443.625000</td>\n",
       "      <td>36.00</td>\n",
       "    </tr>\n",
       "    <tr>\n",
       "      <th>Hydrozoa</th>\n",
       "      <td>NaN</td>\n",
       "      <td>NaN</td>\n",
       "    </tr>\n",
       "    <tr>\n",
       "      <th>Insecta</th>\n",
       "      <td>NaN</td>\n",
       "      <td>28.00</td>\n",
       "    </tr>\n",
       "    <tr>\n",
       "      <th>Malacostraca</th>\n",
       "      <td>NaN</td>\n",
       "      <td>100.00</td>\n",
       "    </tr>\n",
       "    <tr>\n",
       "      <th>Mammalia</th>\n",
       "      <td>461839.404065</td>\n",
       "      <td>211.00</td>\n",
       "    </tr>\n",
       "    <tr>\n",
       "      <th>Pinopsida</th>\n",
       "      <td>NaN</td>\n",
       "      <td>5062.00</td>\n",
       "    </tr>\n",
       "    <tr>\n",
       "      <th>Reptilia</th>\n",
       "      <td>38341.622727</td>\n",
       "      <td>177.00</td>\n",
       "    </tr>\n",
       "    <tr>\n",
       "      <th>Saccharomycetes</th>\n",
       "      <td>NaN</td>\n",
       "      <td>0.04</td>\n",
       "    </tr>\n",
       "    <tr>\n",
       "      <th>Schizosaccharomycetes</th>\n",
       "      <td>NaN</td>\n",
       "      <td>NaN</td>\n",
       "    </tr>\n",
       "    <tr>\n",
       "      <th>Sordariomycetes</th>\n",
       "      <td>NaN</td>\n",
       "      <td>NaN</td>\n",
       "    </tr>\n",
       "    <tr>\n",
       "      <th>Teleostei</th>\n",
       "      <td>14948.511552</td>\n",
       "      <td>205.00</td>\n",
       "    </tr>\n",
       "  </tbody>\n",
       "</table>\n",
       "</div>"
      ],
      "text/plain": [
       "                       mean_adult_weight  max_longevity\n",
       "Class                                                  \n",
       "Amphibia                       49.011586         102.00\n",
       "Aves                          979.649646          83.00\n",
       "Bivalvia                             NaN         507.00\n",
       "Branchiopoda                         NaN           0.19\n",
       "Cephalaspidomorphi            461.450000          10.00\n",
       "Chondrichthyes             489921.219298         392.00\n",
       "Chondrostei                223891.367308         152.00\n",
       "Chromadorea                          NaN           0.16\n",
       "Cladistei                            NaN          34.00\n",
       "Coelacanthi                 52250.000000          48.00\n",
       "Demospongiae                         NaN        1550.00\n",
       "Dipnoi                               NaN          80.00\n",
       "Echinoidea                           NaN         200.00\n",
       "Hexactinellida                       NaN       15000.00\n",
       "Holostei                     5443.625000          36.00\n",
       "Hydrozoa                             NaN            NaN\n",
       "Insecta                              NaN          28.00\n",
       "Malacostraca                         NaN         100.00\n",
       "Mammalia                   461839.404065         211.00\n",
       "Pinopsida                            NaN        5062.00\n",
       "Reptilia                    38341.622727         177.00\n",
       "Saccharomycetes                      NaN           0.04\n",
       "Schizosaccharomycetes                NaN            NaN\n",
       "Sordariomycetes                      NaN            NaN\n",
       "Teleostei                   14948.511552         205.00"
      ]
     },
     "execution_count": 8,
     "metadata": {},
     "output_type": "execute_result"
    }
   ],
   "source": [
    "summary_stats = grouped_data.agg(mean_adult_weight = ('Adult weight (g)', 'mean'), max_longevity = ('Maximum longevity (yrs)','max'))\n",
    "summary_stats"
   ]
  },
  {
   "cell_type": "markdown",
   "metadata": {},
   "source": [
    "Let's sort the DataFrame summary_stats by the mean_body_mass in descending order:"
   ]
  },
  {
   "cell_type": "code",
   "execution_count": 9,
   "metadata": {},
   "outputs": [
    {
     "data": {
      "text/html": [
       "<div>\n",
       "<style scoped>\n",
       "    .dataframe tbody tr th:only-of-type {\n",
       "        vertical-align: middle;\n",
       "    }\n",
       "\n",
       "    .dataframe tbody tr th {\n",
       "        vertical-align: top;\n",
       "    }\n",
       "\n",
       "    .dataframe thead th {\n",
       "        text-align: right;\n",
       "    }\n",
       "</style>\n",
       "<table border=\"1\" class=\"dataframe\">\n",
       "  <thead>\n",
       "    <tr style=\"text-align: right;\">\n",
       "      <th></th>\n",
       "      <th>mean_adult_weight</th>\n",
       "      <th>max_longevity</th>\n",
       "    </tr>\n",
       "    <tr>\n",
       "      <th>Class</th>\n",
       "      <th></th>\n",
       "      <th></th>\n",
       "    </tr>\n",
       "  </thead>\n",
       "  <tbody>\n",
       "    <tr>\n",
       "      <th>Chondrichthyes</th>\n",
       "      <td>489921.219298</td>\n",
       "      <td>392.00</td>\n",
       "    </tr>\n",
       "    <tr>\n",
       "      <th>Mammalia</th>\n",
       "      <td>461839.404065</td>\n",
       "      <td>211.00</td>\n",
       "    </tr>\n",
       "    <tr>\n",
       "      <th>Chondrostei</th>\n",
       "      <td>223891.367308</td>\n",
       "      <td>152.00</td>\n",
       "    </tr>\n",
       "    <tr>\n",
       "      <th>Coelacanthi</th>\n",
       "      <td>52250.000000</td>\n",
       "      <td>48.00</td>\n",
       "    </tr>\n",
       "    <tr>\n",
       "      <th>Reptilia</th>\n",
       "      <td>38341.622727</td>\n",
       "      <td>177.00</td>\n",
       "    </tr>\n",
       "    <tr>\n",
       "      <th>Teleostei</th>\n",
       "      <td>14948.511552</td>\n",
       "      <td>205.00</td>\n",
       "    </tr>\n",
       "    <tr>\n",
       "      <th>Holostei</th>\n",
       "      <td>5443.625000</td>\n",
       "      <td>36.00</td>\n",
       "    </tr>\n",
       "    <tr>\n",
       "      <th>Aves</th>\n",
       "      <td>979.649646</td>\n",
       "      <td>83.00</td>\n",
       "    </tr>\n",
       "    <tr>\n",
       "      <th>Cephalaspidomorphi</th>\n",
       "      <td>461.450000</td>\n",
       "      <td>10.00</td>\n",
       "    </tr>\n",
       "    <tr>\n",
       "      <th>Amphibia</th>\n",
       "      <td>49.011586</td>\n",
       "      <td>102.00</td>\n",
       "    </tr>\n",
       "    <tr>\n",
       "      <th>Bivalvia</th>\n",
       "      <td>NaN</td>\n",
       "      <td>507.00</td>\n",
       "    </tr>\n",
       "    <tr>\n",
       "      <th>Branchiopoda</th>\n",
       "      <td>NaN</td>\n",
       "      <td>0.19</td>\n",
       "    </tr>\n",
       "    <tr>\n",
       "      <th>Chromadorea</th>\n",
       "      <td>NaN</td>\n",
       "      <td>0.16</td>\n",
       "    </tr>\n",
       "    <tr>\n",
       "      <th>Cladistei</th>\n",
       "      <td>NaN</td>\n",
       "      <td>34.00</td>\n",
       "    </tr>\n",
       "    <tr>\n",
       "      <th>Demospongiae</th>\n",
       "      <td>NaN</td>\n",
       "      <td>1550.00</td>\n",
       "    </tr>\n",
       "    <tr>\n",
       "      <th>Dipnoi</th>\n",
       "      <td>NaN</td>\n",
       "      <td>80.00</td>\n",
       "    </tr>\n",
       "    <tr>\n",
       "      <th>Echinoidea</th>\n",
       "      <td>NaN</td>\n",
       "      <td>200.00</td>\n",
       "    </tr>\n",
       "    <tr>\n",
       "      <th>Hexactinellida</th>\n",
       "      <td>NaN</td>\n",
       "      <td>15000.00</td>\n",
       "    </tr>\n",
       "    <tr>\n",
       "      <th>Hydrozoa</th>\n",
       "      <td>NaN</td>\n",
       "      <td>NaN</td>\n",
       "    </tr>\n",
       "    <tr>\n",
       "      <th>Insecta</th>\n",
       "      <td>NaN</td>\n",
       "      <td>28.00</td>\n",
       "    </tr>\n",
       "    <tr>\n",
       "      <th>Malacostraca</th>\n",
       "      <td>NaN</td>\n",
       "      <td>100.00</td>\n",
       "    </tr>\n",
       "    <tr>\n",
       "      <th>Pinopsida</th>\n",
       "      <td>NaN</td>\n",
       "      <td>5062.00</td>\n",
       "    </tr>\n",
       "    <tr>\n",
       "      <th>Saccharomycetes</th>\n",
       "      <td>NaN</td>\n",
       "      <td>0.04</td>\n",
       "    </tr>\n",
       "    <tr>\n",
       "      <th>Schizosaccharomycetes</th>\n",
       "      <td>NaN</td>\n",
       "      <td>NaN</td>\n",
       "    </tr>\n",
       "    <tr>\n",
       "      <th>Sordariomycetes</th>\n",
       "      <td>NaN</td>\n",
       "      <td>NaN</td>\n",
       "    </tr>\n",
       "  </tbody>\n",
       "</table>\n",
       "</div>"
      ],
      "text/plain": [
       "                       mean_adult_weight  max_longevity\n",
       "Class                                                  \n",
       "Chondrichthyes             489921.219298         392.00\n",
       "Mammalia                   461839.404065         211.00\n",
       "Chondrostei                223891.367308         152.00\n",
       "Coelacanthi                 52250.000000          48.00\n",
       "Reptilia                    38341.622727         177.00\n",
       "Teleostei                   14948.511552         205.00\n",
       "Holostei                     5443.625000          36.00\n",
       "Aves                          979.649646          83.00\n",
       "Cephalaspidomorphi            461.450000          10.00\n",
       "Amphibia                       49.011586         102.00\n",
       "Bivalvia                             NaN         507.00\n",
       "Branchiopoda                         NaN           0.19\n",
       "Chromadorea                          NaN           0.16\n",
       "Cladistei                            NaN          34.00\n",
       "Demospongiae                         NaN        1550.00\n",
       "Dipnoi                               NaN          80.00\n",
       "Echinoidea                           NaN         200.00\n",
       "Hexactinellida                       NaN       15000.00\n",
       "Hydrozoa                             NaN            NaN\n",
       "Insecta                              NaN          28.00\n",
       "Malacostraca                         NaN         100.00\n",
       "Pinopsida                            NaN        5062.00\n",
       "Saccharomycetes                      NaN           0.04\n",
       "Schizosaccharomycetes                NaN            NaN\n",
       "Sordariomycetes                      NaN            NaN"
      ]
     },
     "execution_count": 9,
     "metadata": {},
     "output_type": "execute_result"
    }
   ],
   "source": [
    "summary_stats.sort_values(by='mean_adult_weight', ascending=False)"
   ]
  },
  {
   "cell_type": "markdown",
   "metadata": {},
   "source": [
    "#### Extract more intresting statistics of your choice using aggregation:"
   ]
  },
  {
   "cell_type": "code",
   "execution_count": 10,
   "metadata": {},
   "outputs": [],
   "source": [
    "#Your code here"
   ]
  },
  {
   "cell_type": "markdown",
   "metadata": {},
   "source": [
    "`DataFrame` has many of the features of `numpy.ndarray` - it also has a `shape` and various statistical methods (`max`, `mean` etc.).\n",
    "However, `DataFrame` allows richer indexing.\n",
    "For example, let's browse our data for species that have body mass greater than 300 kg.\n",
    "First we will a create new column (`Series` object) that tells us if a row is a large animal row or not:"
   ]
  },
  {
   "cell_type": "code",
   "execution_count": 11,
   "metadata": {
    "scrolled": true
   },
   "outputs": [
    {
     "data": {
      "text/plain": [
       "0    False\n",
       "1    False\n",
       "2    False\n",
       "3    False\n",
       "4    False\n",
       "Name: Body mass (g), dtype: bool"
      ]
     },
     "execution_count": 11,
     "metadata": {},
     "output_type": "execute_result"
    }
   ],
   "source": [
    "large_index = data['Body mass (g)'] > 300 * 1000 # 300 kg\n",
    "large_index.head()"
   ]
  },
  {
   "cell_type": "markdown",
   "metadata": {},
   "source": [
    "Boolean indexing is a powerful technique in pandas for filtering a DataFrame based on a condition specified as a boolean expression. It allows you to select rows that satisfy certain criteria, enabling efficient data manipulation and analysis.\n",
    "\n",
    "Now, we slice (filter) our data with this boolean index to select only the rows correponsidng to large index. \n",
    "The `iterrows` method let's us iterate over the rows of the data.\n",
    "For each row we get both the row as a `Series` object (similar to `dict` for our use) and the row number as an `int` (this is similar to the use of `enumerate` on lists and strings)."
   ]
  },
  {
   "cell_type": "code",
   "execution_count": 12,
   "metadata": {},
   "outputs": [
    {
     "name": "stdout",
     "output_type": "stream",
     "text": [
      "Domestic cattle 347.0 kg\n",
      "Dromedary 407.0 kg\n",
      "Moose 325.0 kg\n",
      "Asiatic elephant 3672.0 kg\n",
      "West Indian manatee 450.0 kg\n"
     ]
    }
   ],
   "source": [
    "large_data = data[large_index]\n",
    "for i, row in large_data.iterrows(): \n",
    "    print(row['Common name'], row['Body mass (g)']/1000, 'kg')"
   ]
  },
  {
   "cell_type": "markdown",
   "metadata": {},
   "source": [
    "So... a [Dromedary](http://en.wikipedia.org/wiki/Dromedary) is the single-humped camel.\n",
    "\n",
    "![Camel](https://upload.wikimedia.org/wikipedia/commons/thumb/4/43/07._Camel_Profile%2C_near_Silverton%2C_NSW%2C_07.07.2007.jpg/330px-07._Camel_Profile%2C_near_Silverton%2C_NSW%2C_07.07.2007.jpg)\n",
    "\n",
    "Let's continue with small and medium animals - we filter out anything that doesn't have body mass of less than 300 kg."
   ]
  },
  {
   "cell_type": "code",
   "execution_count": 13,
   "metadata": {},
   "outputs": [],
   "source": [
    "data = data[data['Body mass (g)'] <  300 * 1000] "
   ]
  },
  {
   "cell_type": "markdown",
   "metadata": {},
   "source": [
    "For starters, let's plot a scatter of body mass vs. metabolic rate.\n",
    "Because we work with pandas, we can do that with the `plot` method of `DataFrame`, specifying the columns for `x` and `y` and a plotting style (without the style we would get a line plot which makes no sense here).\n",
    "\n",
    "You can change `%matplotlib inline` to `%matplotlib widget` to get interactive plotting -- if this causes errors, just stay with `inline`, as the `widget` feature is new and may require to update some packages."
   ]
  },
  {
   "cell_type": "code",
   "execution_count": 14,
   "metadata": {},
   "outputs": [],
   "source": [
    "%matplotlib inline\n",
    "import matplotlib.pyplot as plt"
   ]
  },
  {
   "cell_type": "code",
   "execution_count": 15,
   "metadata": {},
   "outputs": [
    {
     "data": {
      "image/png": "[encoded data removed]",
      "text/plain": [
       "<Figure size 640x480 with 1 Axes>"
      ]
     },
     "metadata": {},
     "output_type": "display_data"
    }
   ],
   "source": [
    "data.plot.scatter(x='Body mass (g)', y='Metabolic rate (W)', legend=False)\n",
    "plt.ylabel('Metabolic rate (W)');"
   ]
  },
  {
   "cell_type": "markdown",
   "metadata": {},
   "source": [
    "If this plot looks funny, you are probably using Pandas with version <0.22; the bug was [reported](https://github.com/pandas-dev/pandas/issues/11471) and fixed in version 0.22."
   ]
  },
  {
   "cell_type": "markdown",
   "metadata": {},
   "source": [
    "From this plot it seems that \n",
    "1. there is a correlation between body mass and metabolic rate, and \n",
    "1. there are many small animals (less than 30 kg) and not many medium animals (between 50 and 300 kg).\n",
    "\n",
    "Before we continue, I prefer to have mass in kg, let's add a new column:"
   ]
  },
  {
   "cell_type": "code",
   "execution_count": 16,
   "metadata": {},
   "outputs": [
    {
     "name": "stderr",
     "output_type": "stream",
     "text": [
      "/var/folders/q8/rdgxsl4523v9jc40pjjzp9g40000gp/T/ipykernel_8523/3233483782.py:1: SettingWithCopyWarning: \n",
      "A value is trying to be set on a copy of a slice from a DataFrame.\n",
      "Try using .loc[row_indexer,col_indexer] = value instead\n",
      "\n",
      "See the caveats in the documentation: https://pandas.pydata.org/pandas-docs/stable/user_guide/indexing.html#returning-a-view-versus-a-copy\n",
      "  data['Body mass (kg)'] = data['Body mass (g)'] / 1000\n"
     ]
    }
   ],
   "source": [
    "data['Body mass (kg)'] = data['Body mass (g)'] / 1000"
   ]
  },
  {
   "cell_type": "markdown",
   "metadata": {},
   "source": [
    "Next, let's check how many records do we have for each Class (as in the taxonomic unit): "
   ]
  },
  {
   "cell_type": "code",
   "execution_count": 17,
   "metadata": {},
   "outputs": [
    {
     "name": "stdout",
     "output_type": "stream",
     "text": [
      "Class\n",
      "Mammalia    417\n",
      "Aves        171\n",
      "Amphibia     18\n",
      "Reptilia     16\n",
      "Name: count, dtype: int64\n"
     ]
    }
   ],
   "source": [
    "class_counts = data['Class'].value_counts()\n",
    "print(class_counts)"
   ]
  },
  {
   "cell_type": "code",
   "execution_count": 18,
   "metadata": {},
   "outputs": [
    {
     "data": {
      "image/png": "[encoded data removed]",
      "text/plain": [
       "<Figure size 640x480 with 1 Axes>"
      ]
     },
     "metadata": {},
     "output_type": "display_data"
    }
   ],
   "source": [
    "# plt.figure() # only required if you used %matplotlib widget\n",
    "class_counts.plot.bar()\n",
    "plt.ylabel('Num. of species');"
   ]
  },
  {
   "cell_type": "markdown",
   "metadata": {},
   "source": [
    "So we have lots of mammals and birds, and a few reptiles and amphibians. This is important as amphibian and reptiles could have a different replationship between mass and metabolism because they are cold blooded."
   ]
  },
  {
   "cell_type": "markdown",
   "metadata": {},
   "source": [
    "## Exercise: data frames\n",
    "\n",
    "1) **Print the number** of reptiles are in this dataset, and how many of them are of the genus `Python`.\n",
    "\n",
    "**Reminder**\n",
    "- Edit cell by double clicking\n",
    "- Run cell by pressing _Shift+Enter_\n",
    "- Get autocompletion by pressing _Tab_\n",
    "- Get documentation by pressing _Shift+Tab_"
   ]
  },
  {
   "cell_type": "code",
   "execution_count": 19,
   "metadata": {},
   "outputs": [],
   "source": [
    "#Your code here"
   ]
  },
  {
   "cell_type": "code",
   "execution_count": 20,
   "metadata": {},
   "outputs": [
    {
     "ename": "NameError",
     "evalue": "name 'reptiles' is not defined",
     "output_type": "error",
     "traceback": [
      "\u001b[0;31m---------------------------------------------------------------------------\u001b[0m",
      "\u001b[0;31mNameError\u001b[0m                                 Traceback (most recent call last)",
      "Cell \u001b[0;32mIn[20], line 1\u001b[0m\n\u001b[0;32m----> 1\u001b[0m \u001b[38;5;28mprint\u001b[39m(\u001b[38;5;124m\"\u001b[39m\u001b[38;5;124m# of reptiles: \u001b[39m\u001b[38;5;124m\"\u001b[39m, reptiles)\n\u001b[1;32m      2\u001b[0m \u001b[38;5;28mprint\u001b[39m(\u001b[38;5;124m\"\u001b[39m\u001b[38;5;124m# of pythons: \u001b[39m\u001b[38;5;124m\"\u001b[39m, pythons)\n",
      "\u001b[0;31mNameError\u001b[0m: name 'reptiles' is not defined"
     ]
    }
   ],
   "source": [
    "print(\"# of reptiles: \", reptiles)\n",
    "print(\"# of pythons: \", pythons)"
   ]
  },
  {
   "cell_type": "markdown",
   "metadata": {},
   "source": [
    "2) **Plot the histogram of the mammal body masses** using `plot.hist()`.\n",
    "Since most mammals are small, the histogram looks better if we plot a cumulative distribution rather then the distribution - we can do this with the `cumulative` argument. You also need to specify a higher `bins` argument then the default."
   ]
  },
  {
   "cell_type": "code",
   "execution_count": null,
   "metadata": {},
   "outputs": [],
   "source": [
    "#Your code here"
   ]
  },
  {
   "cell_type": "markdown",
   "metadata": {
    "toc-hr-collapsed": false
   },
   "source": [
    "# Seaborn\n",
    "\n",
    "Let's do a simple linear regression plot; but let's do it in separate for each Class. We can do this kind of thing with Matplotlib and [SciPy](https://docs.scipy.org/doc/scipy/reference/generated/scipy.stats.linregress.html), but a very good tool for statistical visualizations is **[Seaborn](http://seaborn.pydata.org)**.\n",
    "\n",
    "Seaborn adds on top of Pandas a set of sophisticated statistical visualizations, similar to [ggplot2](http://ggplot2.org) for R."
   ]
  },
  {
   "cell_type": "code",
   "execution_count": 21,
   "metadata": {},
   "outputs": [],
   "source": [
    "import seaborn as sns\n",
    "sns.set_context(\"talk\")"
   ]
  },
  {
   "cell_type": "code",
   "execution_count": 22,
   "metadata": {},
   "outputs": [
    {
     "data": {
      "image/png": "[encoded data removed]",
      "text/plain": [
       "<Figure size 701.75x500 with 1 Axes>"
      ]
     },
     "metadata": {},
     "output_type": "display_data"
    }
   ],
   "source": [
    "sns.lmplot(\n",
    "    x='Body mass (kg)', \n",
    "    y='Metabolic rate (W)', \n",
    "    hue='Class', \n",
    "    data=data, \n",
    "    ci=False, \n",
    ");"
   ]
  },
  {
   "cell_type": "markdown",
   "metadata": {},
   "source": [
    "- `hue` means _color_, but it also causes _seaborn_ to fit a different linear model to each of the Classes. \n",
    "- `ci` controls the confidence intervals. I chose `False`, but setting it to `True` will show them.\n",
    "\n",
    "We can see that mammals and birds have a clear correlation between size and metabolism and that it extends over a nice range of mass, so let's stick to mammals; next up we will see which orders of mammals we have."
   ]
  },
  {
   "cell_type": "code",
   "execution_count": 26,
   "metadata": {},
   "outputs": [
    {
     "data": {
      "image/png": "[encoded data removed]",
      "text/plain": [
       "<Figure size 640x700 with 1 Axes>"
      ]
     },
     "metadata": {},
     "output_type": "display_data"
    }
   ],
   "source": [
    "mammalia = data[data.Class=='Mammalia']\n",
    "order_counts = mammalia.Order.value_counts()\n",
    "ax = order_counts.plot.barh()\n",
    "ax.set(\n",
    "    xlabel='Num. of species',\n",
    "    ylabel='Mammalia order'\n",
    ")\n",
    "ax.figure.set_figheight(7)"
   ]
  },
  {
   "cell_type": "markdown",
   "metadata": {},
   "source": [
    "You see we have alot of rodents and carnivores, but also a good number of bats (_Chiroptera_) and primates.\n",
    "\n",
    "Let's continue with orders that have at least 20 species - this also includes some cool marsupials like Kangaroo, Koala and [Taz](http://upload.wikimedia.org/wikipedia/en/c/c4/Taz-Looney_Tunes.svg) (Diprotodontia and Dasyuromorphia)"
   ]
  },
  {
   "cell_type": "code",
   "execution_count": 27,
   "metadata": {},
   "outputs": [
    {
     "name": "stdout",
     "output_type": "stream",
     "text": [
      "Order\n",
      "Rodentia          155\n",
      "Carnivora          52\n",
      "Chiroptera         33\n",
      "Primates           26\n",
      "Diprotodontia      22\n",
      "Dasyuromorphia     20\n",
      "Name: count, dtype: int64\n"
     ]
    }
   ],
   "source": [
    "orders = order_counts[order_counts >= 20]\n",
    "print(orders)\n",
    "abund_mammalia = mammalia[mammalia.Order.isin(orders.index)]"
   ]
  },
  {
   "cell_type": "code",
   "execution_count": null,
   "metadata": {},
   "outputs": [],
   "source": [
    "sns.lmplot(\n",
    "    x='Body mass (kg)', \n",
    "    y='Metabolic rate (W)', \n",
    "    hue='Order',\n",
    "    data=abund_mammalia, \n",
    "    ci=False, \n",
    "    height=8,\n",
    "    aspect=1.3,\n",
    "    line_kws={'lw':2, 'ls':'--'}, \n",
    "    scatter_kws={'s':50, 'alpha':0.5}\n",
    ");\n",
    "# if you get an error about height not being a keyword, change it to size or update seaborn: conda update seaborn"
   ]
  },
  {
   "cell_type": "markdown",
   "metadata": {},
   "source": [
    "Because there is alot of data here I made the lines thinner - this can be done by giving _matplotlib_ keywords as a dictionary to the argument `line_kws` - and I made the markers bigger but with alpha (transperancy) 0.5 using the `scatter_kws` argument.\n",
    "\n",
    "Still ,there's too much data, and part of the problem is that some orders are large (e.g. primates) and some are small (e.g. rodents).\n",
    "\n",
    "Let's plot a separate regression plot for each order.\n",
    "We do this using the `col` and `row` arguments of `lmplot`, but in general this can be done for any plot using [seaborn's `FacetGrid` function](http://stanford.edu/~mwaskom/software/seaborn/tutorial/axis_grids.html)."
   ]
  },
  {
   "cell_type": "code",
   "execution_count": null,
   "metadata": {},
   "outputs": [],
   "source": [
    "sns.lmplot(\n",
    "    x='Body mass (kg)', \n",
    "    y='Metabolic rate (W)', \n",
    "    data=abund_mammalia, \n",
    "    hue='Order',\n",
    "    col='Order', \n",
    "    col_wrap=3, \n",
    "    ci=None, \n",
    "    scatter_kws={'s':40}, \n",
    "    sharex=False, \n",
    "    sharey=False\n",
    ");"
   ]
  },
  {
   "cell_type": "markdown",
   "metadata": {},
   "source": [
    "We used the `sharex=False` and `sharey=False` arguments so that each Order will have a different axis range and so the data is will spread nicely."
   ]
  },
  {
   "cell_type": "markdown",
   "metadata": {},
   "source": [
    "# Statistics\n",
    "\n",
    "Lastly, let's do some quick statistics.\n",
    "\n",
    "First, calculate a summary of the the mammals using `describe`."
   ]
  },
  {
   "cell_type": "code",
   "execution_count": null,
   "metadata": {},
   "outputs": [],
   "source": [
    "mass = abund_mammalia\n",
    "mass.describe()"
   ]
  },
  {
   "cell_type": "markdown",
   "metadata": {},
   "source": [
    "Now lets check if we can significantly say that the body mass of rodents is lower than that of carnivores.\n",
    "\n",
    "## Exercise: boxplot\n",
    "**Plot boxplots of the mammals body mass** using Seaborn, which is easier to use (and also makes nicer boxplots) then standard matplotlib boxplot."
   ]
  },
  {
   "cell_type": "code",
   "execution_count": null,
   "metadata": {},
   "outputs": [],
   "source": [
    "#Your code here"
   ]
  },
  {
   "cell_type": "markdown",
   "metadata": {},
   "source": [
    "Now, we'll use a t-test (implemented in the `scipy.stats` module) to test the hypothesis that there is *no difference* in body mass between rodents and carnivores.\n",
    "\n",
    "- `ttest_ind` calculates the t-test for the means of *two independent* samples of scores.\n",
    "- `scipy.stats` has many more statistical tests, distributions, etc."
   ]
  },
  {
   "cell_type": "code",
   "execution_count": 28,
   "metadata": {},
   "outputs": [],
   "source": [
    "from scipy.stats import ttest_ind"
   ]
  },
  {
   "cell_type": "code",
   "execution_count": 29,
   "metadata": {},
   "outputs": [
    {
     "name": "stdout",
     "output_type": "stream",
     "text": [
      "P-value of t-test: 0.00033\n"
     ]
    }
   ],
   "source": [
    "carnivora_mass = abund_mammalia.loc[abund_mammalia['Order']=='Carnivora', 'Body mass (kg)']\n",
    "rodentia_mass = abund_mammalia.loc[abund_mammalia['Order']=='Rodentia', 'Body mass (kg)']\n",
    "\n",
    "res = ttest_ind(carnivora_mass, rodentia_mass, equal_var=False)\n",
    "print(\"P-value of t-test: {:.2g}\".format(res.pvalue))"
   ]
  },
  {
   "cell_type": "markdown",
   "metadata": {},
   "source": [
    "# References\n",
    "\n",
    "- Examples: [Seaborn example gallery](http://seaborn.pydata.org/examples/index.html)\n",
    "- Slides: [Statistical inference with Python](https://docs.google.com/presentation/d/1imQAEmNg4GB3bCAblauMOOLlAC95-XvkTSKB1_dB3Tg/pub?slide=id.p) by Allen Downey\n",
    "- Book: [Think Stats](greenteapress.com/thinkstats2/html/index.html) by Allen Downey - statistics with Python. Free Ebook.\n",
    "- Blog post: [A modern guide to getting started with Data Science and Python](http://twiecki.github.io/blog/2014/11/18/python-for-data-science/)\n",
    "- Tutorial: [An Introduction to Pandas](http://www.synesthesiam.com/posts/an-introduction-to-pandas.html)"
   ]
  },
  {
   "cell_type": "markdown",
   "metadata": {},
   "source": [
    "# Colophon\n",
    "This notebook was written by [Yoav Ram](http://python.yoavram.com).\n",
    "\n",
    "The notebook was written using [Python](http://python.org/) 3.7.\n",
    "Dependencies listed in [environment.yml](../environment.yml).\n",
    "\n",
    "This work is licensed under a CC BY-NC-SA 4.0 International License.\n",
    "\n",
    "![Python logo](https://www.python.org/static/community_logos/python-logo.png)"
   ]
  }
 ],
 "metadata": {
  "kernelspec": {
   "display_name": "Python 3 (ipykernel)",
   "language": "python",
   "name": "python3"
  },
  "language_info": {
   "codemirror_mode": {
    "name": "ipython",
    "version": 3
   },
   "file_extension": ".py",
   "mimetype": "text/x-python",
   "name": "python",
   "nbconvert_exporter": "python",
   "pygments_lexer": "ipython3",
   "version": "3.11.7"
  }
 },
 "nbformat": 4,
 "nbformat_minor": 4
}
