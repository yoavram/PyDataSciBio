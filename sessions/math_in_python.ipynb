{
 "cells": [
  {
   "cell_type": "markdown",
   "metadata": {},
   "source": [
    "# Numerical and symbolic math in Python"
   ]
  },
  {
   "cell_type": "markdown",
   "metadata": {},
   "source": [
    "### Some motivation"
   ]
  },
  {
   "cell_type": "markdown",
   "metadata": {},
   "source": [
    "The Lotka-Volterra model, also known as the predator-prey model, is a foundational concept in mathematical ecology. It uses a system of differential equations to describe the dynamics of two populations interacting with each other, typically a predator and its prey.\n",
    "\n",
    "The model captures the idea that the prey population grows at a rate proportional to its current size, but this growth is limited by predation. Predators, on the other hand, increase their numbers based on how much prey they consume, but also die naturally.\n",
    "The model uses two coupled differential equations, one for each population (prey and predator). These equations track the rate of change in the populations over time.\n",
    "\n",
    "- Variables:\n",
    "    - Prey population is denoted by X.\n",
    "    - Predator population is denoted by Y.\n",
    "- Parameters:\n",
    "    - α: Represents the prey's intrinsic growth rate (growth in absence of predators).\n",
    "    - β: Represents the rate at which predators consume prey (proportional to both prey and predator population).\n",
    "    - δ: Represents the predator's growth rate presence.\n",
    "    - γ: Represents the predator's death rate (natural mortality or emigration).\n",
    "\n",
    "The interplay between these factors creates a dynamic where the predator and prey populations fluctuate around an equilibrium point.\n"
   ]
  },
  {
   "cell_type": "markdown",
   "metadata": {},
   "source": [
    "Prey Population (dx/dt):\n",
    "\n",
    "$$ \\frac{dx}{dt} = \\alpha x - \\beta  x  y $$\n",
    "\n",
    "Predator Population (dy/dt):\n",
    "\n",
    "$$ \\frac{dy}{dt} =  \\delta x y - \\gamma y$$"
   ]
  },
  {
   "cell_type": "markdown",
   "metadata": {},
   "source": [
    "If you'd like to delve deeper, you can explore resources like Wikipedia's article on Lotka-Volterra equations https://en.wikipedia.org/wiki/Lotka%E2%80%93Volterra_equations."
   ]
  },
  {
   "cell_type": "code",
   "execution_count": null,
   "metadata": {},
   "outputs": [],
   "source": [
    "%matplotlib inline\n",
    "import matplotlib.pyplot as plt\n",
    "import numpy as np\n",
    "import seaborn as sns\n",
    "sns.set_theme(\n",
    "    style='white',\n",
    "    context='notebook',\n",
    "    font_scale=1.5\n",
    ")\n"
   ]
  },
  {
   "cell_type": "markdown",
   "metadata": {},
   "source": [
    "Let's look at some simple examples before we tackle the Lotka-Volterra model."
   ]
  },
  {
   "cell_type": "markdown",
   "metadata": {},
   "source": [
    "We will use Scipy, SciPy is a Python library used for scientific and technical computing. It provides many numerical routines for tasks such as optimization, integration, interpolation, linear algebra, signal processing, and much more. SciPy is built on top of NumPy\n",
    "\n",
    "\n",
    "Let's experiment with `scipy.integrate.quad`. A method for numerical integration."
   ]
  },
  {
   "cell_type": "code",
   "execution_count": null,
   "metadata": {},
   "outputs": [],
   "source": [
    "from scipy import integrate\n",
    "\n",
    "x = np.linspace(0, 4)\n",
    "def f(x): \n",
    "    return np.exp(-x)\n",
    "\n",
    "@np.vectorize # vectorize lets F work on arrays rather than scalars\n",
    "def F(x):\n",
    "    return integrate.quad(f, a=0, b=x)[0]\n",
    "\n",
    "plt.plot(x, f(x), label='f(x)')\n",
    "plt.plot(x, F(x), label='F(x)')\n",
    "plt.legend()\n",
    "sns.despine()"
   ]
  },
  {
   "cell_type": "markdown",
   "metadata": {},
   "source": [
    "## Exercise - Numerical integration\n",
    "\n",
    "Integrate the function $\\frac{\\log(t)}{1+t}$ from $1$ to $x$ using one of the integration functions in `scipy.integrate` and plot the results for $x \\in (1,2)$."
   ]
  },
  {
   "cell_type": "code",
   "execution_count": null,
   "metadata": {},
   "outputs": [],
   "source": []
  },
  {
   "cell_type": "markdown",
   "metadata": {},
   "source": [
    "# Sybmolic integration with *SymPy*\n",
    "\n",
    "[![SymPy logo](http://docs.sympy.org/latest/_static/sympylogo.png)](http://sympy.org/)\n",
    "\n",
    "*SymPy* is a Python library for symbolic mathematics. It allows you to perform symbolic computations, which means working with mathematical expressions as symbols rather than specific numerical values. With SymPy, you can manipulate algebraic expressions, solve equations, differentiate and integrate functions symbolically, perform calculus operations, and much more. \n",
    "\n",
    "Right now we will focus on symbolic integration. Install with `conda install sympy` or `pip install sympy`."
   ]
  },
  {
   "cell_type": "code",
   "execution_count": null,
   "metadata": {},
   "outputs": [],
   "source": [
    "import sympy\n",
    "print(\"SymPy version:\", sympy.__version__)\n",
    "sympy.init_printing() # for notebook display"
   ]
  },
  {
   "cell_type": "markdown",
   "metadata": {},
   "source": [
    "First we must define our symbols. As we are working with a single variable functions, we only need `x`:"
   ]
  },
  {
   "cell_type": "code",
   "execution_count": null,
   "metadata": {},
   "outputs": [],
   "source": [
    "t = sympy.symbols('t')\n",
    "f = sympy.exp(-t)\n",
    "f"
   ]
  },
  {
   "cell_type": "code",
   "execution_count": null,
   "metadata": {},
   "outputs": [],
   "source": [
    "sympy.integrate?"
   ]
  },
  {
   "cell_type": "code",
   "execution_count": null,
   "metadata": {},
   "outputs": [],
   "source": [
    "F = sympy.integrate(f, t)\n",
    "F"
   ]
  },
  {
   "cell_type": "markdown",
   "metadata": {},
   "source": [
    "To evaluate a function we use the `evalf` methods and define the substitution from a symbol to a number.\n",
    "\n",
    "We can also produce a definite integral."
   ]
  },
  {
   "cell_type": "code",
   "execution_count": null,
   "metadata": {},
   "outputs": [],
   "source": [
    "fx = [f.evalf(subs={t: xi}) for xi in x]\n",
    "F0 = F.evalf(subs={t: 0})\n",
    "Fx = [F.evalf(subs={t: xi}) - F0 for xi in x] # I can also use sympy.integrate(f, (t, 0, xi)) but it is slower"
   ]
  },
  {
   "cell_type": "code",
   "execution_count": null,
   "metadata": {},
   "outputs": [],
   "source": [
    "plt.plot(x, fx, label='f(x)')\n",
    "plt.plot(x, Fx, label='F(x)')\n",
    "plt.legend(loc='center right')\n",
    "sns.despine()"
   ]
  },
  {
   "cell_type": "markdown",
   "metadata": {},
   "source": [
    "## Exercise - Symbolic differentiation\n",
    "\n",
    "Calculate the derivative of  $\\frac{\\log{t}}{1+t}$ with respect to $t$ using `sympy.diff`.\n",
    "Print it and and plot it for $t \\in (1, 2)$. Compare the result with the numerical differentiation result from above."
   ]
  },
  {
   "cell_type": "code",
   "execution_count": null,
   "metadata": {},
   "outputs": [],
   "source": []
  },
  {
   "cell_type": "markdown",
   "metadata": {},
   "source": [
    "## SymPy - more\n",
    "\n",
    "SymPy can do much more.\n",
    "\n",
    "For example, solve equation systems:"
   ]
  },
  {
   "cell_type": "code",
   "execution_count": null,
   "metadata": {},
   "outputs": [],
   "source": [
    "x, y,z  = sympy.symbols('x y z')\n",
    "\n",
    "eqs = (\n",
    "    x + 5*y - 2, \n",
    "    -3*x + 6*y - 15\n",
    ")\n",
    "\n",
    "sol = sympy.solve(eqs, (x, y))\n",
    "sol"
   ]
  },
  {
   "cell_type": "code",
   "execution_count": null,
   "metadata": {},
   "outputs": [],
   "source": [
    "eqs[0].subs(sol), eqs[1].subs(sol)"
   ]
  },
  {
   "cell_type": "markdown",
   "metadata": {},
   "source": [
    "Find a limit:"
   ]
  },
  {
   "cell_type": "code",
   "execution_count": null,
   "metadata": {},
   "outputs": [],
   "source": [
    "expr = (sympy.sin(x) - x) / x**3\n",
    "expr\n"
   ]
  },
  {
   "cell_type": "code",
   "execution_count": null,
   "metadata": {},
   "outputs": [],
   "source": [
    "sympy.limit(expr, x, 0)"
   ]
  },
  {
   "cell_type": "markdown",
   "metadata": {},
   "source": [
    "## Automatic differentiation with `autograd`"
   ]
  },
  {
   "cell_type": "markdown",
   "metadata": {},
   "source": [
    "[Automatic differentiation](https://en.wikipedia.org/wiki/Automatic_differentiation) is a different kind of a differentiation algorithm.\n",
    "\n",
    "There are different ways to implement automatic differentiation, but the idea is the same.\n",
    "Given a computer-function `f(x)` that computes the math-function $f(x)$, automatic differentiation is an algorithm that produces the computer-function `df(x)` which computes the math-function $\\frac{d}{dx}f(x)$.\n",
    "\n",
    "![](https://upload.wikimedia.org/wikipedia/commons/3/3c/AutomaticDifferentiationNutshell.png)\n",
    "\n",
    "This can accomplished when all operations made by `f(x)` are differentiable in the sense that their derivative can be computed.\n",
    "If all such operations are differentiable, then `df(x)` can be produced by applying the chain-rule, similar to *back-propagation* in neural networks.\n",
    "\n",
    "In Python, automatic differentiation is implemented by several packages, but we are going to use the [AutoGrad](https://github.com/HIPS/autograd) package which is specifically designed for use with NumPy in neural network applications.\n",
    "\n",
    "Install with: `conda install autograd -c conda-forge` or `pip install autograd`"
   ]
  },
  {
   "cell_type": "markdown",
   "metadata": {},
   "source": [
    "### Example (by hand):\n",
    "\n",
    "Let's consider a simple mathematical function:\n",
    "\n",
    "$$  f(x) = x^2 + 3x  $$\n",
    "\n",
    "We want to compute its derivative, $ f'(x) $ ,using automatic differentiation.\n",
    "\n",
    "Step 1: Break down the function into elementary operations:\n",
    "$$ u = x^2 $$\n",
    "$$ v = 3x $$\n",
    "$$ f = u + v $$\n",
    "\n",
    "Step 2: Compute the derivatives of each elementary operation:\n",
    "\n",
    "$\\frac{du}{dx} = 2x $ derivative of $ x^2 $\n",
    "\n",
    "$ \\frac{dv}{dx} = 3  $ derivative of $  3x $\n",
    "\n",
    "Step 3: Use the chain rule to combine derivatives:\n",
    "$$ \\frac{df}{dx} = \\frac{du}{dx} + \\frac{dv}{dx} $$\n",
    "\n",
    "Step 4: Substitute the derivatives we computed:\n",
    "$$ \\frac{df}{dx} = 2x + 3 $$\n",
    "\n",
    "So, the derivative of $ f(x) $ with respect to $ x $ is $ 2x + 3 $. \n",
    "\n",
    "This process of breaking down the function into elementary operations, computing their derivatives, and applying the chain rule is what automatic differentiation does under the hood. It allows us to efficiently find the derivatives of complex functions without having to manually derive them."
   ]
  },
  {
   "cell_type": "markdown",
   "metadata": {},
   "source": [
    "## Example (with code)\n",
    "\n",
    "`f(x, y, p)` implements the function:\n",
    "$$\n",
    "f_p(x,y) = x^2 +2pxy +y^2\n",
    "$$\n",
    "such that \n",
    "$$\n",
    "f_1(x,y) = (x+y)^2 \\\\\n",
    "f_{-1}(x,y)=(x-y)^2 \\\\ \n",
    "f_0(x,y)=x^2+y^2\n",
    "$$"
   ]
  },
  {
   "cell_type": "code",
   "execution_count": null,
   "metadata": {},
   "outputs": [],
   "source": [
    "def f(x, y, p=0):\n",
    "    z = x**2 # dz/dx = 2*x; dz/dy = 0\n",
    "    v = y**2 # dv/dx = 0; dv/dy = 2*y\n",
    "    u = 2*p*x*y # du/dx = 2*p*y;  du/dy = 2*p*x\n",
    "    q = z + v + u # dq/dx = dz/dx + dv/dx + du/dx; dq/dy = ...\n",
    "    return q # dq/dx; dq/dy"
   ]
  },
  {
   "cell_type": "markdown",
   "metadata": {},
   "source": [
    "Let's visualize the function with $p=0.5$, $x\\in(-1,1)$ and $y\\in(-1,1)$:"
   ]
  },
  {
   "cell_type": "code",
   "execution_count": null,
   "metadata": {},
   "outputs": [],
   "source": [
    "x = np.linspace(-1, 1)\n",
    "y = np.linspace(-1, 1).reshape(-1, 1)\n",
    "p = 0.5\n",
    "\n",
    "Z = f(x, y, p)\n",
    "\n",
    "fig, ax = plt.subplots(figsize=(4, 4))\n",
    "ax.pcolormesh(x, y, Z)\n",
    "ax.set(xlabel='x', ylabel='y', \n",
    "       xticks=np.linspace(x.min(), x.max(), 5), \n",
    "       yticks=np.linspace(y.min(), y.max(), 5));"
   ]
  },
  {
   "cell_type": "markdown",
   "metadata": {},
   "source": [
    "We can now calculate and plot the gradient of `f(x, y, p)` w.r.t `x` and `y` using two functions, `dfdx(x, y, p)` and `dfdy(x, y, p)`. \n",
    "\n",
    "To do that, we use the function `grad` from the package [AutoGrad](https://github.com/HIPS/autograd/blob/master/docs/tutorial.md)."
   ]
  },
  {
   "cell_type": "code",
   "execution_count": null,
   "metadata": {},
   "outputs": [],
   "source": [
    "from autograd import grad\n",
    "\n",
    "dfdx = grad(f, 0)\n",
    "dfdx = np.vectorize(dfdx)\n",
    "dfdy = grad(f, 1)\n",
    "dfdy = np.vectorize(dfdy)\n",
    "\n",
    "p = 0.5\n",
    "Zx = dfdx(x, y, p)\n",
    "Zy = dfdy(x, y, p)\n",
    "\n",
    "fig, axes = plt.subplots(1, 2, figsize=(8, 4), sharex=True, sharey=True)\n",
    "axes[0].pcolormesh(x, y, Zx)\n",
    "axes[1].pcolormesh(x, y, Zy)\n",
    "axes[0].set(xlabel='x', ylabel='y', xticks=np.linspace(x.min(), x.max(), 5), yticks=np.linspace(y.min(), y.max(), 5))\n",
    "axes[1].set(xlabel='x');"
   ]
  },
  {
   "cell_type": "markdown",
   "metadata": {},
   "source": [
    "There is a newer package called `jax` that implements all of the autograd features and more."
   ]
  },
  {
   "cell_type": "code",
   "execution_count": null,
   "metadata": {},
   "outputs": [],
   "source": [
    "# Example from https://scipy-cookbook.readthedocs.io/items/LoktaVolterraTutorial.html\n",
    "\n",
    "import numpy as np\n",
    "from scipy import integrate\n",
    "\n",
    "# Definition of parameters\n",
    "params = {\n",
    "    \"a\": 1.5,\n",
    "    \"b\": 1.0,\n",
    "    \"c\": 1.0,\n",
    "    \"d\": 3.0\n",
    "}\n",
    "def dX_dt(X, t=0):\n",
    "    \"\"\" Return the growth rate of fox and rabbit populations. \"\"\"\n",
    "    return np.array([ params[\"a\"]*X[0] - params[\"b\"]*X[0]*X[1] ,\n",
    "                      params[\"c\"]*X[0]*X[1] - params[\"d\"]*X[1] ])\n",
    "\n",
    "\n",
    "t = np.linspace(0, 15,  1000)              # time\n",
    "X0 = np.array([10, 5])                     # initials conditions: 10 rabbits and 5 foxes\n",
    "X, infodict = integrate.odeint(dX_dt, X0, t, full_output=True)\n",
    "infodict['message']                     # >>> 'Integration successful.'"
   ]
  },
  {
   "cell_type": "code",
   "execution_count": null,
   "metadata": {},
   "outputs": [],
   "source": [
    "import pandas as pd\n",
    "rabbits, foxes = X.T\n",
    "# data = np.concatenate((t.reshape(len(t),-1), X), axis=1)\n",
    "\n",
    "lotka_volterra_df = pd.DataFrame(data=X, index=t, columns=[\"rabbits\", \" foxes\"])\n",
    "sns.lineplot(data=lotka_volterra_df)\n",
    "sns.despine()\n"
   ]
  },
  {
   "cell_type": "markdown",
   "metadata": {},
   "source": [
    "Can we find a situation in which the system is stable?\n",
    "\n",
    "This means the change is 0:\n",
    "\n",
    "$$ \\frac{dx}{dt} = \\alpha x - \\beta  x  y = 0 $$\n",
    "\n",
    "$$ \\frac{dy}{dt} =  \\delta x y - \\gamma y = 0 $$"
   ]
  },
  {
   "cell_type": "markdown",
   "metadata": {},
   "source": [
    "Let's solve this system symbolically using Sympy."
   ]
  },
  {
   "cell_type": "code",
   "execution_count": null,
   "metadata": {},
   "outputs": [],
   "source": [
    "from sympy import nonlinsolve # the system is non-linear because of the x*y terms.\n",
    "\n",
    "x, y, a, b, c, d  = sympy.symbols('x y a b c d')\n",
    "\n",
    "eqs = (\n",
    "    a*x - b*x*y, \n",
    "    c*x*y - d*y\n",
    ")\n",
    "\n",
    "sol = nonlinsolve(eqs, (x, y))\n",
    "sol"
   ]
  },
  {
   "cell_type": "markdown",
   "metadata": {},
   "source": [
    "We got two solutions:\n",
    "- $(0,0)$\n",
    "\n",
    "- $(\\frac{d}{c},\\frac{a}{b})$\n",
    "\n",
    "Let's plug-in our parameters from before and see what we get:"
   ]
  },
  {
   "cell_type": "code",
   "execution_count": null,
   "metadata": {},
   "outputs": [],
   "source": [
    "sol.args[1].subs(params)"
   ]
  },
  {
   "cell_type": "markdown",
   "metadata": {},
   "source": [
    "### Exercise\n",
    "\n",
    "Check using a plot that the previous result is indeed an equilibrium. "
   ]
  },
  {
   "cell_type": "code",
   "execution_count": null,
   "metadata": {},
   "outputs": [],
   "source": []
  }
 ],
 "metadata": {
  "kernelspec": {
   "display_name": ".venv",
   "language": "python",
   "name": "python3"
  },
  "language_info": {
   "codemirror_mode": {
    "name": "ipython",
    "version": 3
   },
   "file_extension": ".py",
   "mimetype": "text/x-python",
   "name": "python",
   "nbconvert_exporter": "python",
   "pygments_lexer": "ipython3",
   "version": "3.10.12"
  }
 },
 "nbformat": 4,
 "nbformat_minor": 2
}
