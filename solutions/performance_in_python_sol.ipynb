{
 "cells": [
  {
   "cell_type": "markdown",
   "metadata": {},
   "source": [
    "Mean squared error:"
   ]
  },
  {
   "cell_type": "code",
   "execution_count": 9,
   "metadata": {},
   "outputs": [],
   "source": [
    "# Numpy version\n",
    "def mse_np(x, y):\n",
    "    return ((x - y)**2).mean()"
   ]
  },
  {
   "cell_type": "code",
   "execution_count": 3,
   "metadata": {},
   "outputs": [],
   "source": [
    "# Vanilla Python version\n",
    "def mse_py(x, y):\n",
    "    mse = 0\n",
    "    n = len(y)\n",
    "    for i in range(n):\n",
    "        diff = x[i] - y[i]\n",
    "        mse += diff * diff\n",
    "    mse /= n\n",
    "    return mse"
   ]
  },
  {
   "cell_type": "code",
   "execution_count": 4,
   "metadata": {},
   "outputs": [],
   "source": [
    "import numba\n",
    "# Numba JIT compiled version\n",
    "mse_nm = numba.jit(mse_py, nopython=True)"
   ]
  },
  {
   "cell_type": "code",
   "execution_count": 5,
   "metadata": {},
   "outputs": [],
   "source": [
    "# Numba parallelized version\n",
    "\n",
    "@numba.jit(parallel=True, nopython=True)\n",
    "def mse_par(x, y):\n",
    "    mse = 0\n",
    "    n = len(y)\n",
    "    for i in numba.prange(n):\n",
    "        diff = x[i] - y[i]\n",
    "        mse += diff * diff\n",
    "    mse /= n\n",
    "    return mse"
   ]
  },
  {
   "cell_type": "code",
   "execution_count": 10,
   "metadata": {},
   "outputs": [
    {
     "name": "stdout",
     "output_type": "stream",
     "text": [
      "26.9 ms ± 984 µs per loop (mean ± std. dev. of 7 runs, 10 loops each)\n",
      "104 µs ± 1.98 µs per loop (mean ± std. dev. of 7 runs, 10,000 loops each)\n",
      "134 µs ± 14 µs per loop (mean ± std. dev. of 7 runs, 1 loop each)\n",
      "The slowest run took 4.75 times longer than the fastest. This could mean that an intermediate result is being cached.\n",
      "26.8 µs ± 22 µs per loop (mean ± std. dev. of 7 runs, 1 loop each)\n"
     ]
    }
   ],
   "source": [
    "import numpy as np\n",
    "\n",
    "n = 100000\n",
    "y = np.random.random(n)\n",
    "x = np.random.random(n)\n",
    "%timeit mse_py(x, y)\n",
    "%timeit mse_np(x, y)\n",
    "%timeit mse_nm(x, y)\n",
    "%timeit mse_par(x, y)"
   ]
  }
 ],
 "metadata": {
  "kernelspec": {
   "display_name": "pyCourse",
   "language": "python",
   "name": "python3"
  },
  "language_info": {
   "codemirror_mode": {
    "name": "ipython",
    "version": 3
   },
   "file_extension": ".py",
   "mimetype": "text/x-python",
   "name": "python",
   "nbconvert_exporter": "python",
   "pygments_lexer": "ipython3",
   "version": "3.10.12"
  }
 },
 "nbformat": 4,
 "nbformat_minor": 2
}
