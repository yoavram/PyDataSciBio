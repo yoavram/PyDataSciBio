{
 "cells": [
  {
   "cell_type": "markdown",
   "id": "6dedbb6a-98c6-4378-b92d-135a43e6c821",
   "metadata": {},
   "source": [
    "### Ex0"
   ]
  },
  {
   "cell_type": "code",
   "execution_count": null,
   "id": "5101f01b-0a2d-4878-8980-1df8fc095330",
   "metadata": {},
   "outputs": [],
   "source": [
    "class_counts = df['Outcome'].value_counts()\n",
    "\n",
    "# Proportions\n",
    "class_proportions = df['Outcome'].value_counts(normalize=True)\n",
    "\n",
    "# Display\n",
    "print(\"Class counts:\")\n",
    "print(class_counts)\n",
    "print(\"\\nClass proportions:\")\n",
    "print(class_proportions)"
   ]
  },
  {
   "cell_type": "markdown",
   "id": "5b6327f4-84a7-4013-8fec-1e5546b94cb1",
   "metadata": {},
   "source": [
    "### Ex1"
   ]
  },
  {
   "cell_type": "code",
   "execution_count": null,
   "id": "7b6599ca-0600-48d9-ac16-9b0065a07542",
   "metadata": {},
   "outputs": [],
   "source": [
    "precision_knn = tp/(tp+fp)\n",
    "recall_knn  = tp/(tp+fn)\n",
    "F1_score_knn  = (2*precision_knn*recall_knn )/(precision_knn+recall_knn)\n",
    "print(f\"precision = {round(precision_knn ,2)}, recall = {round(recall_knn ,2)}, F1 score = {round(F1_score_knn,2)} \")\n"
   ]
  },
  {
   "cell_type": "code",
   "execution_count": null,
   "id": "ededb9f1-0f75-43ba-a3f9-65331add69da",
   "metadata": {},
   "outputs": [],
   "source": [
    "# Define the parameter grid: try different values for n_neighbors\n",
    "param_grid = {'n_neighbors': list(range(1, 50))}\n",
    "\n",
    "# Create the KNN classifier\n",
    "knn = nb.KNeighborsClassifier()\n",
    "\n",
    "# Set up GridSearchCV\n",
    "grid_search = GridSearchCV(knn, param_grid, cv=3, scoring='accuracy')\n",
    "\n",
    "# Fit on training data\n",
    "grid_search.fit(X_train, y_train)\n",
    "\n",
    "# Print the best number of neighbors\n",
    "print(\"Best number of neighbors:\", grid_search.best_params_['n_neighbors'])\n",
    "\n",
    "best_knn = grid_search.best_estimator_\n",
    "y_pred_knn = best_knn.predict(X_test)\n",
    "\n",
    "# Print test set accuracy\n",
    "print(\"Test set accuracy:\", round((y_pred_knn == y_test).mean(), 3))"
   ]
  },
  {
   "cell_type": "markdown",
   "id": "a7e75e8d-6429-486b-a2c3-5f99068101d7",
   "metadata": {},
   "source": [
    "### Ex2"
   ]
  },
  {
   "cell_type": "code",
   "execution_count": null,
   "id": "9640c48c-5f87-4a29-8403-f0e1e0c30fee",
   "metadata": {},
   "outputs": [],
   "source": [
    "#1.\n",
    "def get_threshold_tpr_fpr(threshold, test_probs, test_labels):\n",
    "    y_pred = test_probs > threshold\n",
    "    tn, fp, fn, tp = confusion_matrix(test_labels, y_pred).ravel()\n",
    "    tpr= tp/(tp+fn)\n",
    "    fpr = fp/(fp+tn)\n",
    "    return tpr,fpr\n",
    "#2.\n",
    "tpr_scores = []\n",
    "fpr_scores = []\n",
    "thresholds = np.arange(0, 1, 0.001)\n",
    "for threshold in thresholds:\n",
    "    t_tpr,t_fpr = get_threshold_tpr_fpr(threshold, lg_probs, y_test)\n",
    "    #print(t_tpr,t_fpr)\n",
    "    tpr_scores.append(t_tpr)\n",
    "    fpr_scores.append(t_fpr)\n",
    "#3.\n",
    "plt.plot(fpr_scores,tpr_scores, color='darkorange', lw=2)\n",
    "plt.plot([0, 1], [0, 1], color='navy', lw=2, linestyle='--')\n",
    "plt.xlim([0.0, 1.0])\n",
    "plt.ylim([0.0, 1.05])\n",
    "plt.xlabel('FPR')\n",
    "plt.ylabel('TPR')\n",
    "#plt.title('Precision-Recall Curve')\n",
    "plt.show()\n",
    "    "
   ]
  },
  {
   "cell_type": "markdown",
   "id": "14750a4b-300f-4812-962b-601bc9bd747a",
   "metadata": {},
   "source": [
    "### Ex3"
   ]
  },
  {
   "cell_type": "code",
   "execution_count": null,
   "id": "86e09e5f-8784-4c09-b66c-aa116d5efe05",
   "metadata": {},
   "outputs": [],
   "source": [
    "classifier = RandomForestClassifier(n_estimators=20, random_state=42)\n",
    "\n",
    "# Try a few common options for max_features\n",
    "param_range = [1, 2, 3, 4,5,6,7] \n",
    "# Create validation curve display\n",
    "disp = ValidationCurveDisplay.from_estimator(\n",
    "    classifier, \n",
    "    X_train, y_train, \n",
    "    param_name='max_features',\n",
    "    param_range=param_range, \n",
    "    score_type='test',\n",
    "    std_display_style=\"errorbar\"\n",
    ")"
   ]
  },
  {
   "cell_type": "code",
   "execution_count": null,
   "id": "0535e98c-5509-41a7-9317-48efb68114e5",
   "metadata": {},
   "outputs": [],
   "source": []
  }
 ],
 "metadata": {
  "kernelspec": {
   "display_name": "Python 3 (ipykernel)",
   "language": "python",
   "name": "python3"
  },
  "language_info": {
   "codemirror_mode": {
    "name": "ipython",
    "version": 3
   },
   "file_extension": ".py",
   "mimetype": "text/x-python",
   "name": "python",
   "nbconvert_exporter": "python",
   "pygments_lexer": "ipython3",
   "version": "3.11.7"
  }
 },
 "nbformat": 4,
 "nbformat_minor": 5
}
