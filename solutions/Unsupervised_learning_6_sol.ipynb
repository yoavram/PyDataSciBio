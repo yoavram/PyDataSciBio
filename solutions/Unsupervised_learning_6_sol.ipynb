{
 "cells": [
  {
   "cell_type": "markdown",
   "id": "e41f0d93-58ab-4c17-949c-2ee9edfdc309",
   "metadata": {},
   "source": [
    "### Ex1"
   ]
  },
  {
   "cell_type": "code",
   "execution_count": null,
   "id": "b9651fb2-aed2-446f-a06b-bade1adf1aae",
   "metadata": {},
   "outputs": [],
   "source": [
    "data = iris_data[[\"sepal_width\",\"sepal_length\",\"petal_width\",\"petal_length\"]] # using all four columns for K-means.\n",
    "n_clusters = range(2,10)\n",
    "silhouette_scores = []\n",
    "for n in n_clusters:\n",
    "    kmeans =  KMeans(n_clusters=n, random_state=42)\n",
    "    kmeans.fit(data)\n",
    "    silhouette = silhouette_score(data,kmeans.labels_)\n",
    "    silhouette_scores.append(silhouette)\n",
    "plt.figure(figsize=(8, 6))\n",
    "plt.scatter(x=n_clusters, y=silhouette_scores, color='blue')\n",
    "plt.plot(n_clusters,silhouette_scores )\n",
    "plt.title('Silhouette Score vs. Number of Clusters')\n",
    "plt.xlabel('Number of Clusters')\n",
    "plt.ylim(0, max(silhouette_scores) + 0.1) \n",
    "plt.ylabel('Silhouette Score');"
   ]
  },
  {
   "cell_type": "markdown",
   "id": "00f79f8c-cfae-41f4-8510-61e4d3bef2bc",
   "metadata": {},
   "source": [
    "### Ex2"
   ]
  },
  {
   "cell_type": "code",
   "execution_count": null,
   "id": "ccf85b53-9606-4252-ad93-408001d99aaa",
   "metadata": {},
   "outputs": [],
   "source": [
    "dot_product = np.dot(PCs.T, PCs)\n",
    "print(dot_product)"
   ]
  },
  {
   "cell_type": "markdown",
   "id": "02494cbc-4b01-403f-9f58-1c3321d94b08",
   "metadata": {},
   "source": [
    "### Ex3"
   ]
  },
  {
   "cell_type": "code",
   "execution_count": null,
   "id": "24236228-8154-4009-bb9a-f4efa4535d01",
   "metadata": {},
   "outputs": [],
   "source": [
    "pca_data_test = pca_data.copy()\n",
    "pca_data_test[\"sepal_width\"] =  pca_data_test[\"sepal_width\"]*10000000\n",
    "pca_test = PCA()\n",
    "PCs_test = pca_test.fit_transform(pca_data_test)\n",
    "df_pca_test = pd.DataFrame(data=PCs_test, columns=[f'PC{i+1}' for i in range(PCs_test.shape[1])])\n",
    "df_pca_test[\"species\"] = iris_data[\"species\"]\n",
    "sns.scatterplot(data = df_pca_test, x=\"PC1\", y=\"PC2\", hue=\"species\", s= 100)\n",
    "plt.title('PCA test on Iris Dataset');"
   ]
  },
  {
   "cell_type": "markdown",
   "id": "e1340f94-f031-47c0-a46c-615957804e39",
   "metadata": {},
   "source": [
    "### Ex4"
   ]
  },
  {
   "cell_type": "code",
   "execution_count": null,
   "id": "37abdd1b-d351-45fa-9bbb-e6684dc9dc9d",
   "metadata": {},
   "outputs": [],
   "source": [
    "perplexities = [5, 10, 20, 40]\n",
    "\n",
    "# Set Seaborn style\n",
    "sns.set(style=\"white\", palette=\"muted\")\n",
    "\n",
    "# Create subplots for each perplexity value\n",
    "fig, axs = plt.subplots(2, 2, figsize=(6, 5))\n",
    "\n",
    "for i, perplexity in enumerate(perplexities):\n",
    "    # Initialize TSNE with current perplexity\n",
    "    tsne = TSNE(n_components=2, perplexity=perplexity)\n",
    "    # Fit and transform the data\n",
    "    X_transformed_TSNE = tsne.fit_transform(data)\n",
    "    df_TSNE = pd.DataFrame(data=X_transformed_TSNE, columns=['V1', 'V2'])\n",
    "    df_TSNE[\"species\"] = iris_data[\"species\"]\n",
    "    # Plot the transformed data in the corresponding subplot\n",
    "    ax = axs[i // 2, i % 2]\n",
    "    scatter = sns.scatterplot(data=df_TSNE, x=\"V1\", y=\"V2\", hue=\"species\", ax=ax)\n",
    "    ax.set_title(f'Perplexity={perplexity}')\n",
    "    ax.set_xticks([])\n",
    "    ax.set_yticks([])\n",
    "    ax.legend([],[], frameon=False)\n",
    "\n",
    "    # Collect handles and labels for legend\n",
    "    if i == 0:  # Only collect handles and labels once\n",
    "        legend_handles, legend_labels = ax.get_legend_handles_labels()\n",
    "\n",
    "# Create a single legend above all plots\n",
    "fig.legend(legend_handles, legend_labels, loc='upper center', bbox_to_anchor=(0.5, 1.1), ncol=4)\n",
    "\n",
    "plt.tight_layout()\n",
    "plt.show()"
   ]
  }
 ],
 "metadata": {
  "kernelspec": {
   "display_name": "Python 3 (ipykernel)",
   "language": "python",
   "name": "python3"
  },
  "language_info": {
   "codemirror_mode": {
    "name": "ipython",
    "version": 3
   },
   "file_extension": ".py",
   "mimetype": "text/x-python",
   "name": "python",
   "nbconvert_exporter": "python",
   "pygments_lexer": "ipython3",
   "version": "3.11.7"
  }
 },
 "nbformat": 4,
 "nbformat_minor": 5
}
