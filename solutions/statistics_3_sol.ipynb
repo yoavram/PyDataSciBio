{
 "cells": [
  {
   "cell_type": "markdown",
   "id": "c9667918-518f-467e-a486-9e4ad2531643",
   "metadata": {},
   "source": [
    "**Ex1**"
   ]
  },
  {
   "cell_type": "code",
   "execution_count": null,
   "id": "26b1ff2c-65e1-40c4-9b5f-35f544d95022",
   "metadata": {},
   "outputs": [],
   "source": [
    "gr = scipy.stats.geom(0.1)\n",
    "k = np.arange(1, 100) # numbers from 0 to n\n",
    "plt.plot(k, gr.pmf(k))\n",
    "plt.xlabel('Possible outcomes')\n",
    "plt.ylabel('Probability');"
   ]
  },
  {
   "cell_type": "markdown",
   "id": "3afe11db",
   "metadata": {},
   "source": [
    "**Ex2** "
   ]
  },
  {
   "cell_type": "code",
   "execution_count": null,
   "id": "55057c20-f709-40b1-b849-d4d249d87895",
   "metadata": {},
   "outputs": [],
   "source": [
    "fig = plt.figure()\n",
    "ax = fig.add_subplot(111)\n",
    "\n",
    "normality_plot, stat = scipy.stats.probplot(model.resid, plot= plt, rvalue= True)\n",
    "ax.set_title(\"Probability plot of model residual's\", fontsize= 10);"
   ]
  },
  {
   "cell_type": "code",
   "execution_count": null,
   "id": "e63a47d5-5cf2-41e6-903d-a9a06d7d9ad9",
   "metadata": {},
   "outputs": [],
   "source": [
    "print(scipy.stats.shapiro(model.resid))"
   ]
  },
  {
   "cell_type": "markdown",
   "id": "2925e63d-2225-42a9-a9f8-06e1bcb208bf",
   "metadata": {},
   "source": [
    "**Ex3**"
   ]
  },
  {
   "cell_type": "code",
   "execution_count": null,
   "id": "9e1dfde8",
   "metadata": {},
   "outputs": [],
   "source": [
    "from scipy.stats import kruskal\n",
    "setosa_samples = iris_data.loc[iris_data.species=='setosa']['sepal_width']\n",
    "versicolor_samples =iris_data.loc[iris_data.species=='versicolor']['sepal_width']\n",
    "virginica_samples = iris_data.loc[iris_data.species=='virginica']['sepal_width']\n",
    "\n",
    "kruskal_ststistic,kruskal_p_val = kruskal(setosa_samples,versicolor_samples,virginica_samples)\n",
    "print(f\"kruskal F-statistic: {kruskal_ststistic}, p-value {kruskal_p_val}\")"
   ]
  },
  {
   "cell_type": "markdown",
   "id": "7bed3bb3",
   "metadata": {},
   "source": [
    "**Ex4**"
   ]
  },
  {
   "cell_type": "code",
   "execution_count": null,
   "id": "447a079a",
   "metadata": {},
   "outputs": [],
   "source": [
    "### a\n",
    "\n",
    "predicted_sepal_width = intercept + slope * iris_data['sepal_length'] \n",
    "\n",
    "### b\n",
    "\n",
    "# Create a scatter plot of the data points\n",
    "plt.scatter(iris_data['sepal_length'], iris_data['sepal_width'], label='Data Points')\n",
    "\n",
    "# Plot the regression line on top of it\n",
    "plt.plot(iris_data['sepal_length'], predicted_sepal_width , color='red', label='Regression Line')\n",
    "\n",
    "# Add labels and a legend\n",
    "plt.xlabel('Sepal length')\n",
    "plt.ylabel('Sepal width')\n",
    "plt.legend()\n",
    ";"
   ]
  },
  {
   "cell_type": "markdown",
   "id": "44c14c11",
   "metadata": {},
   "source": [
    "**Ex5**"
   ]
  },
  {
   "cell_type": "code",
   "execution_count": null,
   "id": "ab71345f",
   "metadata": {},
   "outputs": [],
   "source": [
    "iris_data_cp = iris_data.copy()\n",
    "\n",
    "random_matrix_df = pd.DataFrame(np.random.rand(len(iris_data_cp.index),100))\n",
    "random_matrix_df.columns = [f'test_{i}' for i in range(100)]\n",
    "iris_data_cp = pd.concat([iris_data_cp,random_matrix_df],axis=1)\n",
    "all_columns = \"+\".join(iris_data_cp.drop(columns=['sepal_width']).columns)\n",
    "model_3 = ols(formula=f\"sepal_width ~ {all_columns}\", data=iris_data_cp).fit()\n",
    "print(f'R^2 = {np.round(model_3.rsquared,2)}')\n",
    "#print(model_3.summary())"
   ]
  }
 ],
 "metadata": {
  "kernelspec": {
   "display_name": "Python 3 (ipykernel)",
   "language": "python",
   "name": "python3"
  },
  "language_info": {
   "codemirror_mode": {
    "name": "ipython",
    "version": 3
   },
   "file_extension": ".py",
   "mimetype": "text/x-python",
   "name": "python",
   "nbconvert_exporter": "python",
   "pygments_lexer": "ipython3",
   "version": "3.11.7"
  }
 },
 "nbformat": 4,
 "nbformat_minor": 5
}
