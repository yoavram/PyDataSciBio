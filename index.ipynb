{
 "cells": [
  {
   "cell_type": "markdown",
   "metadata": {},
   "source": [
    "# Python and Data Science for Biologists [0455-3837](https://www.ims.tau.ac.il/Tal/Syllabus/Syllabus_L.aspx?course=0455383701&year=2023)\n",
    "\n",
    "noaeker@mail.tau.ac.il,\n",
    "elyawygoda@mail.tau.ac.il"
   ]
  },
  {
   "cell_type": "markdown",
   "metadata": {},
   "source": [
    "\n",
    "#### Debugging, profiling, and testing\n",
    "\n",
    "- [Debugging](sessions/debugging_profiling_testing.ipynb) | [solution](solutions/debugging_profiling_testing_sol.ipynb)\n",
    "\n",
    "#### Data processing and visualization 1: working with arrays, basic plotting\n",
    "-  [NumPy](sessions/Numpy_1.ipynb) | [solution](solutions/Numpy_1_sol.ipynb)\n",
    "- [Matplotlib](sessions/Matplotlib_1.ipynb) | [solution](solutions/Matplotlib_1_sol.ipynb)\n",
    "\n",
    "#### [HW1 - Data processing and visualization](HW/HW1_numpy_matplotlib.ipynb) *due 25.6.2024*\n"
   ]
  },
  {
   "cell_type": "markdown",
   "metadata": {},
   "source": [
    "#### Automation and command line interface: scheduling, file monitoring, basic applications\n",
    "\n",
    "- [Automation](sessions/automation.ipynb)\n",
    "\n",
    "#### [HW1 - Automation](HW/HW1_automation.md) *due 25.6.2024*\n",
    "\n",
    "#### Mathematics: Numerical and symbolic applied math\n",
    "\n",
    "- [Math in Python](sessions/math_in_python.ipynb) | [solution](solutions/math_in_python_sol.ipynb)\n",
    "\n",
    "#### [HW2 - Math in Python](HW/HW2_math.ipynb) *due 2.7.2024*\n",
    "\n",
    "#### Data processing and visualization 2: working with tables, statistical plotting\n",
    "-  [Pandas and Seaborn](sessions/pandas-seaborn_2.ipynb) | [solution](solutions/pandas-seaborn_2_sol.ipynb)\n",
    "\n",
    "#### Statistics: distributions, correlations, hypothesis testing\n",
    "- [Statistics](sessions/statistics_3.ipynb) | [solution](solutions/statistics_3_sol.ipynb)\n",
    "\n",
    "\n",
    "#### [HW3 - Data processing, visualization, statistics](HW/HW3_pandas_seaborn_statistics.ipynb) *due 16.7.2024*\n"
   ]
  },
  {
   "cell_type": "markdown",
   "metadata": {},
   "source": [
    "\n",
    "#### Machine learning 1: Regression\n",
    "- [Regression](sessions/regression_models_4.ipynb) | [solution](solutions/regression_models_4_sol.ipynb)\n",
    "\n",
    "#### [HW4 - Regression](HW/hw4_regression.ipynb) *due 23.7.2024*\n",
    "\n",
    "#### Machine learning 2: Classification\n",
    "- [Classification](sessions/Classification_models_5.ipynb) | [solution](solutions/Classification_models_5_sol.ipynb)\n",
    "\n",
    "#### Machine learning 3: Dimensionality reduction and clustering\n",
    "- [Unsupervised learning](sessions/Unsupervised_learning_6.ipynb) | [solution](solutions/Unsupervised_learning_6_sol.ipynb)\n",
    "\n",
    "#### [HW5 - Classification and dimensionality reduction](HW/hw5_classification_dimensionality_reduction.ipynb) *due 11.8.2024*\n"
   ]
  },
  {
   "cell_type": "markdown",
   "metadata": {},
   "source": [
    "#### Concurrency: multi-threading and multi-processing\n",
    "- [Concurrency](sessions/concurrency.ipynb)\n",
    "\n",
    "#### High-performance computing\n",
    "- [Computing](sessions/performance_in_python.ipynb)\n"
   ]
  },
  {
   "cell_type": "markdown",
   "metadata": {},
   "source": [
    "## Jupyter help\n",
    "\n",
    "- Use autocompletion by pressing `Tab`. \n",
    " - In the middle of a word it will try to finish the variable name.\n",
    " - Just after a dot (`.`) it will try to bring up a menu of methods and attributes; the variable before the dot must already be defined.\n",
    "- Use documentation by pressing `Shift+Tab`; this is especially useful inside a function parentheses as it will show the function arguments, but it can be used anywhere. Again, variables must already be defined."
   ]
  }
 ],
 "metadata": {
  "kernelspec": {
   "display_name": "Python 3 (ipykernel)",
   "language": "python",
   "name": "python3"
  },
  "language_info": {
   "codemirror_mode": {
    "name": "ipython",
    "version": 3
   },
   "file_extension": ".py",
   "mimetype": "text/x-python",
   "name": "python",
   "nbconvert_exporter": "python",
   "pygments_lexer": "ipython3",
   "version": "3.11.7"
  },
  "toc-showtags": false
 },
 "nbformat": 4,
 "nbformat_minor": 4
}
