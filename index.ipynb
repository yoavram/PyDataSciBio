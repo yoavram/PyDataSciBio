{
 "cells": [
  {
   "cell_type": "markdown",
   "metadata": {},
   "source": [
    "# Python and Data Science for Biologists [0455-3837](https://www.ims.tau.ac.il/Tal/Syllabus/Syllabus_L.aspx?course=0455383701&year=2023)\n",
    "\n",
    "noaeker@mail.tau.ac.il,\n",
    "elyawygoda@mail.tau.ac.il"
   ]
  },
  {
   "cell_type": "markdown",
   "metadata": {},
   "source": [
    "\n",
    "#### Python Recap\n",
    "\n",
    "- [Debugging](sessions/debugging_profiling_testing.ipynb) | [solution](solutions/debugging_profiling_testing_sol.ipynb)\n",
    "\n",
    "- [HW1 - Python Recap] *due 01.4.25*\n",
    "\n",
    "#### Advanced Python Fundamentals & Best Practices // 25.3.25\n",
    "\n",
    "#### Automation and CLI Development // 01.04.25\n",
    "\n",
    "#### Concurrency: Multi-threading and Multi-processing // 08.04.25\n",
    "- [concurrency](Documents/GitHub/PyDataSciBio/sessions/concurrency.ipynb)\n",
    "  \n",
    "#### High-performance Computing // 22.04.25\n",
    "\n",
    "#### Data Processing and Visualization 1 // 29.04.25\n",
    "Working with arrays and matrices;\n",
    "Basic plotting with Matplotlib;\n",
    "Data structures for scientific computing;\n",
    "- [Numpy](sessions/Numpy_1.ipynb) | [solution](solutions/Numpy_1_sol.ipynb)\n",
    "- [Matplotlib](sessions/Matplotlib_1.ipynb) | [solution](sessions/Matplotlib_1.ipynb)\n",
    "- [HW2 - Numpy & Matplotlib](HW/HW1_2025/hw2_numpy_matplotlib.ipynb) *due 13.05.25*\n",
    "\n",
    "#### Data Processing and Visualization 2 // 06.05.25\n",
    "Working with tables using Pandas;\n",
    "Statistical plotting;\n",
    "Creating publication-quality visualizations;\n",
    "- [pandas-seaborn](sessions/pandas-seaborn_2.ipynb) | [solution](solutions/pandas-seaborn_2_sol.ipynb)\n",
    "\n",
    "#### Statistics: distributions, correlations, hypothesis testing // 13.5.25\n",
    "- [Statistics](sessions/statistics_3.ipynb) | [solution](solutions/statistics_3_sol.ipynb)\n",
    "- [HW3 - Data processing, visualization, statistics](HW/HW3_pandas_seaborn_statistics.ipynb) *due 27.05.25*\n",
    "\n",
    "#### Machine learning 1: Regression // 20.05.25\n",
    "- [Regression](sessions/regression_models_4.ipynb) | [solution](solutions/regression_models_4_sol.ipynb)\n",
    "\n",
    "- [HW4 - Regression](HW/hw4_regression.ipynb) *due 03.06.25*\n",
    "\n",
    "#### Machine learning 2: Classification // 27.5.25\n",
    "- [Classification](sessions/Classification_models_5.ipynb) | [solution](solutions/Classification_models_5_sol.ipynb)\n",
    "\n",
    "#### Machine learning 3: Dimensionality reduction and clustering // 03.06.25\n",
    "- [Unsupervised learning](sessions/Unsupervised_learning_6.ipynb) | [solution](solutions/Unsupervised_learning_6_sol.ipynb)\n",
    "\n",
    "- [HW5 - Classification and dimensionality reduction](HW/hw5_classification_dimensionality_reduction.ipynb) *due 17.06.25*\n",
    "\n",
    "\n"
   ]
  },
  {
   "cell_type": "markdown",
   "metadata": {
    "jp-MarkdownHeadingCollapsed": true
   },
   "source": [
    "## Jupyter help\n",
    "\n",
    "- Use autocompletion by pressing `Tab`. \n",
    " - In the middle of a word it will try to finish the variable name.\n",
    " - Just after a dot (`.`) it will try to bring up a menu of methods and attributes; the variable before the dot must already be defined.\n",
    "- Use documentation by pressing `Shift+Tab`; this is especially useful inside a function parentheses as it will show the function arguments, but it can be used anywhere. Again, variables must already be defined."
   ]
  },
  {
   "cell_type": "code",
   "execution_count": null,
   "metadata": {},
   "outputs": [],
   "source": []
  }
 ],
 "metadata": {
  "kernelspec": {
   "display_name": "Python 3 (ipykernel)",
   "language": "python",
   "name": "python3"
  },
  "language_info": {
   "codemirror_mode": {
    "name": "ipython",
    "version": 3
   },
   "file_extension": ".py",
   "mimetype": "text/x-python",
   "name": "python",
   "nbconvert_exporter": "python",
   "pygments_lexer": "ipython3",
   "version": "3.11.7"
  },
  "toc-showtags": false
 },
 "nbformat": 4,
 "nbformat_minor": 4
}
